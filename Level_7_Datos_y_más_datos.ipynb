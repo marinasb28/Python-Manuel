{
  "nbformat": 4,
  "nbformat_minor": 0,
  "metadata": {
    "colab": {
      "name": "Level 7 - Datos y más datos",
      "provenance": [],
      "collapsed_sections": [
        "8t2TisN9plgQ",
        "eXx-oV-Hpljf",
        "Z33FhbyFpljg",
        "4BqsA3t3qrQY",
        "C7vWBGFgplmm",
        "8ZzIvcH2plpJ",
        "_b7t5VaIplpK",
        "K_L5veOLplrq",
        "cHA1fFpeplrq",
        "0w8wnsqmplue"
      ],
      "authorship_tag": "ABX9TyN8GvCFbb4MxhbfkYRZm7Nm",
      "include_colab_link": true
    },
    "kernelspec": {
      "name": "python3",
      "display_name": "Python 3"
    }
  },
  "cells": [
    {
      "cell_type": "markdown",
      "metadata": {
        "id": "view-in-github",
        "colab_type": "text"
      },
      "source": [
        "<a href=\"https://colab.research.google.com/github/marinasb28/Python-Manuel/blob/main/Level_7_Datos_y_m%C3%A1s_datos.ipynb\" target=\"_parent\"><img src=\"https://colab.research.google.com/assets/colab-badge.svg\" alt=\"Open In Colab\"/></a>"
      ]
    },
    {
      "cell_type": "markdown",
      "metadata": {
        "id": "8t2TisN9plgQ"
      },
      "source": [
        "# <font color=\"magenta\">RETO 1: Letra a letra</font>"
      ]
    },
    {
      "cell_type": "markdown",
      "metadata": {
        "id": "cglw5HXYmtDI"
      },
      "source": [
        "Crea una variable \"d\" a partir de las variables \"a\", \"b\" y \"c\" que contenga \n",
        "la cadena de caracteres \"partitura\".\n"
      ]
    },
    {
      "cell_type": "code",
      "metadata": {
        "colab": {
          "base_uri": "https://localhost:8080/"
        },
        "id": "FBSKGIK4dl67",
        "outputId": "36dc824d-a47d-47db-efea-e7c68882e2c0"
      },
      "source": [
        "a = \"parte\"\n",
        "b = \"tiburón\"\n",
        "c = \"escritura\"\n",
        "d = a[:3]+b[:2]+c[5:]\n",
        "print(d)"
      ],
      "execution_count": null,
      "outputs": [
        {
          "output_type": "stream",
          "text": [
            "partitura\n"
          ],
          "name": "stdout"
        }
      ]
    },
    {
      "cell_type": "markdown",
      "metadata": {
        "id": "eXx-oV-Hpljf"
      },
      "source": [
        "# <font color=\"magenta\">RETO 2: Contando letras</font>"
      ]
    },
    {
      "cell_type": "markdown",
      "metadata": {
        "id": "KoHtf_zFqmKJ"
      },
      "source": [
        "Comprobar cuántas veces aparece el carácter \"o\" y el carácter \"ó\",\n",
        "en la siguiente cadena de caracteres:\n",
        "\n",
        "cadena = \"\"\"Muchos años después, frente al pelotón de fusilamiento,\n",
        "el coronel Aureliano Buendía había de recordar aquella tarde remota\n",
        "en que su padre lo llevó a conocer el hielo.\"\"\""
      ]
    },
    {
      "cell_type": "code",
      "metadata": {
        "colab": {
          "base_uri": "https://localhost:8080/"
        },
        "id": "aDhIxb2bqeb5",
        "outputId": "71ff18ec-95eb-498d-b1bd-b0c419530460"
      },
      "source": [
        "contador_1 = 0 #cuenta el caracter o\n",
        "contador_2 = 0 #cuenta el caracter ó\n",
        "index = 0\n",
        "cadena = \"Muchos años después, frente al pelotón de fusilamiento, el coronel Aureliano Buendía había de recordar aquella tarde remota en que su padre lo llevó a conocer el hielo.\"\n",
        "while index <=len(cadena)-1:\n",
        "  if cadena[index] == \"o\":\n",
        "    contador_1 += 1\n",
        "  elif cadena[index] == \"ó\":\n",
        "    contador_2 += 1\n",
        "  index +=1\n",
        "\n",
        "print(\"Hay {} 'o'\".format(contador_1))\n",
        "print(\"Hay {} 'ó'\".format(contador_2))\n",
        "print(\"En total {}\".format(contador_1+contador_2))"
      ],
      "execution_count": null,
      "outputs": [
        {
          "output_type": "stream",
          "text": [
            "Hay 13 'o'\n",
            "Hay 2 'ó'\n",
            "En total 15\n"
          ],
          "name": "stdout"
        }
      ]
    },
    {
      "cell_type": "markdown",
      "metadata": {
        "id": "Z33FhbyFpljg"
      },
      "source": [
        "# <font color=\"magenta\">RETO 3: Recorriendo palabras</font>"
      ]
    },
    {
      "cell_type": "markdown",
      "metadata": {
        "id": "uQcbl2lIfOCA"
      },
      "source": [
        "Comprobar cuántas veces aparece el carácter \"o\" y el carácter \"ó\",\n",
        "en la siguiente cadena de caracteres:\n",
        "\n",
        "cadena = \"\"\"Muchos años después, frente al pelotón de fusilamiento,\n",
        "el coronel Aureliano Buendía había de recordar aquella tarde remota\n",
        "en que su padre lo llevó a conocer el hielo.\"\"\""
      ]
    },
    {
      "cell_type": "code",
      "metadata": {
        "colab": {
          "base_uri": "https://localhost:8080/"
        },
        "id": "S247PY63fOCE",
        "outputId": "eb4319a7-2a50-4e9a-aba6-b2942890023a"
      },
      "source": [
        "counter = 0\n",
        "cadena = \"Muchos años después, frente al pelotón de fusilamiento, el coronel Aureliano Buendía había de recordar aquella tarde remota en que su padre lo llevó a conocer el hielo.\"\n",
        "for x in cadena:\n",
        "  if x == \"o\" or x == \"ó\":\n",
        "    counter += 1\n",
        "\n",
        "print(\"En total {}\".format(counter))"
      ],
      "execution_count": null,
      "outputs": [
        {
          "output_type": "stream",
          "text": [
            "En total 15\n"
          ],
          "name": "stdout"
        }
      ]
    },
    {
      "cell_type": "markdown",
      "metadata": {
        "id": "4BqsA3t3qrQY"
      },
      "source": [
        "# <font color=\"magenta\">RETO 4: El operador in</font>"
      ]
    },
    {
      "cell_type": "markdown",
      "metadata": {
        "id": "SdcCUfgEwEGo"
      },
      "source": [
        "Hacer un programa que te dice las vocales y las consonantes que tiene\n",
        "una palabra que introduzca el usuario."
      ]
    },
    {
      "cell_type": "code",
      "metadata": {
        "colab": {
          "base_uri": "https://localhost:8080/"
        },
        "id": "BXno4kMVwDu7",
        "outputId": "f21f8ab5-3344-4e4b-e6b1-3eb50914ab8e"
      },
      "source": [
        "word = input(\"Introduce una palabra: \")\n",
        "index = len(word)-1\n",
        "vocales = \"aeiouáéíóúü\" # todas las vocales que puede haber\n",
        "counter_voc = 0\n",
        "counter_con = 0\n",
        "n = 0\n",
        "while n<=index:\n",
        "  if word[n] in vocales:\n",
        "    counter_voc += 1\n",
        "  else:\n",
        "    counter_con += 1\n",
        "  n += 1\n",
        "print(\"Consonantes: {}\\r\\nVocales: {}\".format(counter_voc,counter_voc))"
      ],
      "execution_count": null,
      "outputs": [
        {
          "output_type": "stream",
          "text": [
            "Introduce una palabra: marina\n",
            "Consonantes: 3\n",
            "Vocales: 3\n"
          ],
          "name": "stdout"
        }
      ]
    },
    {
      "cell_type": "markdown",
      "metadata": {
        "id": "C7vWBGFgplmm"
      },
      "source": [
        "# <font color=\"magenta\">RETO 5: Las tuplas</font>"
      ]
    },
    {
      "cell_type": "markdown",
      "metadata": {
        "id": "5Oh6m_ODkgtR"
      },
      "source": [
        "Crea una tupla a partir de las tres que tenemos, y que contenga las mascotas.\n",
        "\n",
        "mamiferos = (\"tigre\", \"gato\", \"león\")\n",
        "\n",
        "aves = (\"águila\", \"buitre\", \"canario\")\n",
        "\n",
        "reptiles = (\"tortuga\", \"serpiente\")"
      ]
    },
    {
      "cell_type": "code",
      "metadata": {
        "id": "oB5DgkyTkhoR",
        "colab": {
          "base_uri": "https://localhost:8080/"
        },
        "outputId": "b92f48f4-6b7c-40a3-c92f-56da753fb4e0"
      },
      "source": [
        "mamiferos = (\"tigre\", \"gato\", \"león\")\n",
        "aves = (\"águila\", \"buitre\", \"canario\")\n",
        "reptiles = (\"tortuga\", \"serpiente\")\n",
        "\n",
        "mascotas = (mamiferos[1],aves[2],reptiles[0])\n",
        "print(mascotas)"
      ],
      "execution_count": null,
      "outputs": [
        {
          "output_type": "stream",
          "text": [
            "('gato', 'canario', 'tortuga')\n"
          ],
          "name": "stdout"
        }
      ]
    },
    {
      "cell_type": "markdown",
      "metadata": {
        "id": "8ZzIvcH2plpJ"
      },
      "source": [
        "# <font color=\"magenta\">RETO 6: Las listas</font>"
      ]
    },
    {
      "cell_type": "markdown",
      "metadata": {
        "id": "5zGeZ5H36qBd"
      },
      "source": [
        "Crea secuencias de elementos como tuplas o listas según más convenga.\n",
        "\n",
        "dias_semana =\n",
        "\n",
        "dias_entrenamiento ="
      ]
    },
    {
      "cell_type": "code",
      "metadata": {
        "colab": {
          "base_uri": "https://localhost:8080/"
        },
        "id": "5hn-0Gk-6qBu",
        "outputId": "d824e54e-0ec7-4abe-db8c-8a273d442c0c"
      },
      "source": [
        "dias_semana = (\"Lunes\",\"Martes\",\"Miércoles\",\"Jueves\",\"Viernes\",\"Sábado\",\"Domingo\")\n",
        "dias_entrenamiento = [\"Lunes\",\"Miércoles\",\"Sábado\",\"Domingo\"]\n",
        "counter = 0\n",
        "length = len(dias_entrenamiento)-1\n",
        "index = 0\n",
        "while index <= length:\n",
        "  if dias_entrenamiento[index] in dias_semana:\n",
        "    counter += 1\n",
        "  else:\n",
        "    counter += 0\n",
        "  index += 1\n",
        "print(\"Entreno {}/7 días de la semana\".format(counter))"
      ],
      "execution_count": null,
      "outputs": [
        {
          "output_type": "stream",
          "text": [
            "Entreno 4/7 días de la semana\n"
          ],
          "name": "stdout"
        }
      ]
    },
    {
      "cell_type": "markdown",
      "metadata": {
        "id": "_b7t5VaIplpK"
      },
      "source": [
        "# <font color=\"magenta\">RETO 7: Creando secuencias</font>"
      ]
    },
    {
      "cell_type": "markdown",
      "metadata": {
        "id": "w4ip8YIMnKTe"
      },
      "source": [
        "Crea una lista que contenga los números enteros del 1 al 100 \n",
        "utilizando un bucle while, y partiendo de una lista vacía."
      ]
    },
    {
      "cell_type": "code",
      "metadata": {
        "colab": {
          "base_uri": "https://localhost:8080/"
        },
        "id": "FsAnsuQVnQAW",
        "outputId": "69322468-2e75-4ad5-99b6-ab87412fe38e"
      },
      "source": [
        "num = 1\n",
        "lista = []\n",
        "while num<=100:\n",
        "  lista += [num]\n",
        "  num += 1\n",
        "print(lista)"
      ],
      "execution_count": null,
      "outputs": [
        {
          "output_type": "stream",
          "text": [
            "[1, 2, 3, 4, 5, 6, 7, 8, 9, 10, 11, 12, 13, 14, 15, 16, 17, 18, 19, 20, 21, 22, 23, 24, 25, 26, 27, 28, 29, 30, 31, 32, 33, 34, 35, 36, 37, 38, 39, 40, 41, 42, 43, 44, 45, 46, 47, 48, 49, 50, 51, 52, 53, 54, 55, 56, 57, 58, 59, 60, 61, 62, 63, 64, 65, 66, 67, 68, 69, 70, 71, 72, 73, 74, 75, 76, 77, 78, 79, 80, 81, 82, 83, 84, 85, 86, 87, 88, 89, 90, 91, 92, 93, 94, 95, 96, 97, 98, 99, 100]\n"
          ],
          "name": "stdout"
        }
      ]
    },
    {
      "cell_type": "markdown",
      "metadata": {
        "id": "K_L5veOLplrq"
      },
      "source": [
        "# <font color=\"magenta\">RETO 8: El tipo de range</font>"
      ]
    },
    {
      "cell_type": "markdown",
      "metadata": {
        "id": "CkzZNdE3oG5b"
      },
      "source": [
        "Haz un programa que pida un número entero que esté en el intervalo del 18 al 25,\n",
        "y que siga pidiendo números miestras te mantengas en ese intervalo.\n",
        "\n",
        "Utiliza el tipo range."
      ]
    },
    {
      "cell_type": "code",
      "metadata": {
        "colab": {
          "base_uri": "https://localhost:8080/"
        },
        "id": "LEi1G72toMiY",
        "outputId": "5bac7918-25fa-4298-889e-baffd3d5cfef"
      },
      "source": [
        "num = int(input(\"Escribe un número: \"))\n",
        "while num in range(18,26): # para que el 25 esté incluido\n",
        "  num = int(input(\"Escribe un número: \"))\n",
        "print(\"You're out!\")"
      ],
      "execution_count": null,
      "outputs": [
        {
          "output_type": "stream",
          "text": [
            "Escribe un número: 19\n",
            "Escribe un número: 23\n",
            "Escribe un número: 4\n",
            "You're out!\n"
          ],
          "name": "stdout"
        }
      ]
    },
    {
      "cell_type": "markdown",
      "metadata": {
        "id": "cHA1fFpeplrq"
      },
      "source": [
        "# <font color=\"magenta\">RETO 9: Dentro del intervalo</font>"
      ]
    },
    {
      "cell_type": "markdown",
      "metadata": {
        "id": "wkAvbqTfksEY"
      },
      "source": [
        "Lleva a cabo un juego llamado \"Ruleta de los colores\".\n",
        "\n",
        "Se trata de que crees una secuencia con cinco colores, y luego el programa \n",
        "te pide que introduzcas un color. \n",
        "\n",
        "Si aciertas uno de los cinco colores \n",
        "te da un punto, y así a ver si aciertas los cinco colores, sino \n",
        "se acaba el programa, y te muestra los puntos conseguidos.\n"
      ]
    },
    {
      "cell_type": "code",
      "metadata": {
        "colab": {
          "base_uri": "https://localhost:8080/"
        },
        "id": "2slD58zKknym",
        "outputId": "21e9cc87-3b95-4583-fbe0-a76f8bc2f584"
      },
      "source": [
        "puntos = 0\n",
        "colores = (\"azul\",\"verde\",\"negro\",\"lila\",\"rosa\")\n",
        "print(\"Adivina los 5 colores\")\n",
        "acertado = True\n",
        "while acertado:\n",
        "  guess = input(\"Prueba con algún color: \").lower()\n",
        "  if guess in colores:\n",
        "    puntos += 1\n",
        "    print(\"Has acertado.\")\n",
        "  else:\n",
        "    print(\"Ese color no está.\")\n",
        "    acertado = False\n",
        "print(\"Has acertado {}/5\".format(puntos))"
      ],
      "execution_count": null,
      "outputs": [
        {
          "output_type": "stream",
          "text": [
            "Adivina los 5 colores\n",
            "Prueba con algún color: azul\n",
            "Has acertado.\n",
            "Prueba con algún color: verde\n",
            "Has acertado.\n",
            "Prueba con algún color: lila\n",
            "Has acertado.\n",
            "Prueba con algún color: blanco\n",
            "Ese color no está.\n",
            "Has acertado 3/5\n"
          ],
          "name": "stdout"
        }
      ]
    },
    {
      "cell_type": "markdown",
      "metadata": {
        "id": "LFHTXtKLrSNa"
      },
      "source": [
        "# <font color=\"magenta\">RETO 10: Dentro de la lista</font>"
      ]
    }
  ]
}