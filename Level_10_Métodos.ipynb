{
  "nbformat": 4,
  "nbformat_minor": 0,
  "metadata": {
    "colab": {
      "name": "Level 10 - Métodos",
      "provenance": [],
      "collapsed_sections": [
        "8t2TisN9plgQ",
        "eXx-oV-Hpljf",
        "Z33FhbyFpljg",
        "4BqsA3t3qrQY",
        "C7vWBGFgplmm",
        "8ZzIvcH2plpJ",
        "_b7t5VaIplpK",
        "K_L5veOLplrq",
        "cHA1fFpeplrq",
        "0w8wnsqmplue"
      ],
      "authorship_tag": "ABX9TyPRWYWhgbr4sTPAsaOTwKeX",
      "include_colab_link": true
    },
    "kernelspec": {
      "name": "python3",
      "display_name": "Python 3"
    }
  },
  "cells": [
    {
      "cell_type": "markdown",
      "metadata": {
        "id": "view-in-github",
        "colab_type": "text"
      },
      "source": [
        "<a href=\"https://colab.research.google.com/github/marinasb28/Python-Manuel/blob/main/Level_10_M%C3%A9todos.ipynb\" target=\"_parent\"><img src=\"https://colab.research.google.com/assets/colab-badge.svg\" alt=\"Open In Colab\"/></a>"
      ]
    },
    {
      "cell_type": "markdown",
      "metadata": {
        "id": "8t2TisN9plgQ"
      },
      "source": [
        "# <font color=\"magenta\">RETO 1: Manipulando cadenas con métodos (lower, upper)</font>"
      ]
    },
    {
      "cell_type": "markdown",
      "metadata": {
        "id": "cglw5HXYmtDI"
      },
      "source": [
        "Haz un sencillo programa en el que utilices los tres métodos de las cadenas de caracteres que hemos visto: lower(), upper(), title().\n"
      ]
    },
    {
      "cell_type": "code",
      "metadata": {
        "colab": {
          "base_uri": "https://localhost:8080/"
        },
        "id": "_0ksodTApvXR",
        "outputId": "a662a325-a05a-4582-fd1f-febd418f3290"
      },
      "source": [
        "nombre = [\"marina\",\"suárez\",\"blázquez\"]\n",
        "print(nombre)\n",
        "print(nombre[0].lower())\n",
        "print(nombre[1].upper())\n",
        "print(nombre[2].title()) # capitalize sólo pone en mayúsculla la primera"
      ],
      "execution_count": null,
      "outputs": [
        {
          "output_type": "stream",
          "text": [
            "['marina', 'suárez', 'blázquez']\n",
            "marina\n",
            "SUÁREZ\n",
            "Blázquez\n"
          ],
          "name": "stdout"
        }
      ]
    },
    {
      "cell_type": "markdown",
      "metadata": {
        "id": "eXx-oV-Hpljf"
      },
      "source": [
        "# <font color=\"magenta\">RETO 2: Palabras sueltas (métodos strip & split)</font>"
      ]
    },
    {
      "cell_type": "markdown",
      "metadata": {
        "id": "KoHtf_zFqmKJ"
      },
      "source": [
        "Haz un programa que extrae y muestra una a una todas las palabras de un texto,\n",
        "sin espacios, comas ni puntos.\n",
        "\n",
        "Puedes utilizar la cadena: \n",
        "\n",
        "\"Estaba allí. Era un pájaro, en la ventana. Pero entonces, de repente, se echó a volar.\""
      ]
    },
    {
      "cell_type": "code",
      "metadata": {
        "colab": {
          "base_uri": "https://localhost:8080/"
        },
        "id": "SDChNiAr8YG4",
        "outputId": "87dce8a9-05b4-413f-cd52-80c4f732e0cd"
      },
      "source": [
        "frase = \"Estaba allí. Era un pájaro, en la ventana. Pero entonces, de repente, se echó a volar.\"\n",
        "print(frase) # vemos la original\n",
        "# creamos de ella una cadena separada por espacios\n",
        "cad_frase = frase.split()\n",
        "for x in cad_frase:\n",
        "  # primero quitamos las comas\n",
        "  comas = x.strip(\",\")\n",
        "  # ahora los puntos\n",
        "  puntos = comas.strip(\".\")\n",
        "  print(puntos)"
      ],
      "execution_count": null,
      "outputs": [
        {
          "output_type": "stream",
          "text": [
            "Estaba allí. Era un pájaro, en la ventana. Pero entonces, de repente, se echó a volar.\n",
            "Estaba\n",
            "allí\n",
            "Era\n",
            "un\n",
            "pájaro\n",
            "en\n",
            "la\n",
            "ventana\n",
            "Pero\n",
            "entonces\n",
            "de\n",
            "repente\n",
            "se\n",
            "echó\n",
            "a\n",
            "volar\n"
          ],
          "name": "stdout"
        }
      ]
    },
    {
      "cell_type": "markdown",
      "metadata": {
        "id": "Z33FhbyFpljg"
      },
      "source": [
        "# <font color=\"magenta\">RETO 3: Dando formato (método format)</font>"
      ]
    },
    {
      "cell_type": "markdown",
      "metadata": {
        "id": "2J6Qe0KwrzVs"
      },
      "source": [
        "Haz un programa que pides datos (tratamiento, nombre y apellido) de las personas\n",
        "que han sido invitadas a una fiesta, para enviarlas una carta de invitación.\n",
        "Luego se muestra en pantalla la carta con los datos que se piden, de forma personalizada, \n",
        "y se pregunta si se quieren introducir nuevos datos de otra persona."
      ]
    },
    {
      "cell_type": "code",
      "metadata": {
        "colab": {
          "base_uri": "https://localhost:8080/"
        },
        "id": "a5Ryo-kyr0Yr",
        "outputId": "604c04ac-f0fd-41d6-faac-c9d5717ec609"
      },
      "source": [
        "seguir = True\n",
        "while seguir: \n",
        "  tratamiento = [\"Señor\",\"Señora\",\"Señorita\",\"Señorito\"]\n",
        "  counter = 1\n",
        "  for x in tratamiento:\n",
        "    print(\"{} -> {}\".format(counter,x))\n",
        "    counter += 1\n",
        "  respuesta = int(input(\"Cómo le llamo? \"))\n",
        "  tratamiento = tratamiento[respuesta-1]\n",
        "  nombre = input(\"Cúal es su nombre? \")\n",
        "  apellido = input(\"Cúal es su apellido? \")\n",
        "  print(\"{} {} {} ha recibido su carta de invitación.\".format(tratamiento,nombre.capitalize(),apellido.capitalize()))\n",
        "  cont = input(\"Desea seguir? \")\n",
        "  if cont.lower() == \"no\" or cont.lower() == \"n\":\n",
        "    seguir = False\n",
        "    print(\"Bye!\")\n",
        "  elif cont.lower() == \"yes\" or cont.lower() == \"y\":\n",
        "    seguir = True\n",
        "    print(\"Introduzca nuevos datos.\")\n",
        "\n"
      ],
      "execution_count": null,
      "outputs": [
        {
          "output_type": "stream",
          "text": [
            "1 -> Señor\n",
            "2 -> Señora\n",
            "3 -> Señorita\n",
            "4 -> Señorito\n",
            "Cómo le llamo? 3\n",
            "Cúal es su nombre? marina\n",
            "Cúal es su apellido? suarez\n",
            "Señorita Marina Suarez ha recibido su carta de invitación.\n",
            "Desea seguir? y\n",
            "Introduzca nuevos datos.\n",
            "1 -> Señor\n",
            "2 -> Señora\n",
            "3 -> Señorita\n",
            "4 -> Señorito\n",
            "Cómo le llamo? 1\n",
            "Cúal es su nombre? juan\n",
            "Cúal es su apellido? suarez\n",
            "Señor Juan Suarez ha recibido su carta de invitación.\n",
            "Desea seguir? n\n",
            "Bye!\n"
          ],
          "name": "stdout"
        }
      ]
    },
    {
      "cell_type": "markdown",
      "metadata": {
        "id": "4BqsA3t3qrQY"
      },
      "source": [
        "# <font color=\"magenta\">RETO 4: Más formato</font>"
      ]
    },
    {
      "cell_type": "markdown",
      "metadata": {
        "id": "C7vWBGFgplmm"
      },
      "source": [
        "# <font color=\"magenta\">RETO 5: Tipos mutables</font>"
      ]
    },
    {
      "cell_type": "markdown",
      "metadata": {
        "id": "5Oh6m_ODkgtR"
      },
      "source": [
        "Haz un programa que crea una lista con 100 elementos, que sean los números\n",
        "enteros del 1 al 100."
      ]
    },
    {
      "cell_type": "code",
      "metadata": {
        "id": "oB5DgkyTkhoR",
        "colab": {
          "base_uri": "https://localhost:8080/"
        },
        "outputId": "3b3b1462-56fc-4d7c-ea28-96d3dec7e0b6"
      },
      "source": [
        "lista = []\n",
        "for x in range(1,101):\n",
        "  lista.append(x)\n",
        "print(lista)"
      ],
      "execution_count": null,
      "outputs": [
        {
          "output_type": "stream",
          "text": [
            "[1, 2, 3, 4, 5, 6, 7, 8, 9, 10, 11, 12, 13, 14, 15, 16, 17, 18, 19, 20, 21, 22, 23, 24, 25, 26, 27, 28, 29, 30, 31, 32, 33, 34, 35, 36, 37, 38, 39, 40, 41, 42, 43, 44, 45, 46, 47, 48, 49, 50, 51, 52, 53, 54, 55, 56, 57, 58, 59, 60, 61, 62, 63, 64, 65, 66, 67, 68, 69, 70, 71, 72, 73, 74, 75, 76, 77, 78, 79, 80, 81, 82, 83, 84, 85, 86, 87, 88, 89, 90, 91, 92, 93, 94, 95, 96, 97, 98, 99, 100]\n"
          ],
          "name": "stdout"
        }
      ]
    },
    {
      "cell_type": "markdown",
      "metadata": {
        "id": "8ZzIvcH2plpJ"
      },
      "source": [
        "# <font color=\"magenta\">RETO 6: Añadiendo elementos a una lista con el método append</font>"
      ]
    },
    {
      "cell_type": "markdown",
      "metadata": {
        "id": "5zGeZ5H36qBd"
      },
      "source": [
        "Tenemos una lista de números y queremos separar los pares de los impares,y guardarlos en otras dos listas. Se trata de hacerlo con el método append.\n",
        "\n",
        "numeros = [2, 3, 5, 8, 9, 12, 21, 24, 25, 28]"
      ]
    },
    {
      "cell_type": "code",
      "metadata": {
        "colab": {
          "base_uri": "https://localhost:8080/"
        },
        "id": "5hn-0Gk-6qBu",
        "outputId": "fb2ee7c6-2907-4a55-f178-0071fa37ea58"
      },
      "source": [
        "numeros = [2, 3, 5, 8, 9, 12, 21, 24, 25, 28]\n",
        "pares = []\n",
        "impares = []\n",
        "for x in numeros:\n",
        "  if x%2 == 0:\n",
        "    pares.append(x)\n",
        "  else:\n",
        "    impares.append(x)\n",
        "print(numeros)\n",
        "print(pares)\n",
        "print(impares)"
      ],
      "execution_count": null,
      "outputs": [
        {
          "output_type": "stream",
          "text": [
            "[2, 3, 5, 8, 9, 12, 21, 24, 25, 28]\n",
            "[2, 8, 12, 24, 28]\n",
            "[3, 5, 9, 21, 25]\n"
          ],
          "name": "stdout"
        }
      ]
    },
    {
      "cell_type": "markdown",
      "metadata": {
        "id": "_b7t5VaIplpK"
      },
      "source": [
        "# <font color=\"magenta\">RETO 7: Métodos que no devuelven nada</font>"
      ]
    },
    {
      "cell_type": "markdown",
      "metadata": {
        "id": "w4ip8YIMnKTe"
      },
      "source": [
        "Haz un programa que te pide que introduzcas productos y crea una lista\n",
        "de la compra con esos productos, y al final te muestra la lista."
      ]
    },
    {
      "cell_type": "code",
      "metadata": {
        "colab": {
          "base_uri": "https://localhost:8080/"
        },
        "id": "FsAnsuQVnQAW",
        "outputId": "0c1a914a-1d85-46d9-e4c1-d3238824efbe"
      },
      "source": [
        "compra = []\n",
        "counter = 0\n",
        "producto = input(\"Introduce el producto {}: \".format(counter+1))\n",
        "while producto != \"\":\n",
        "  compra.append(producto)\n",
        "  counter += 1\n",
        "  producto = input(\"Introduce el producto {}: \".format(counter+1))\n",
        "else:\n",
        "  print(\"Has acabado!\")\n",
        "print(compra)\n",
        "print(\"Hay {} elementos.\".format(counter))"
      ],
      "execution_count": null,
      "outputs": [
        {
          "output_type": "stream",
          "text": [
            "Introduce el producto 1: agua\n",
            "Introduce el producto 2: sal\n",
            "Introduce el producto 3: pimiento\n",
            "Introduce el producto 4: \n",
            "Has acabado!\n",
            "['agua', 'sal', 'pimiento']\n",
            "Hay 3 elementos.\n"
          ],
          "name": "stdout"
        }
      ]
    },
    {
      "cell_type": "markdown",
      "metadata": {
        "id": "K_L5veOLplrq"
      },
      "source": [
        "# <font color=\"magenta\">RETO 8: Ampliando la lista (método extend)</font>"
      ]
    },
    {
      "cell_type": "markdown",
      "metadata": {
        "id": "CkzZNdE3oG5b"
      },
      "source": [
        "Crea una lista con los números enteros del 1 al 5, a partir de los datos que se te dan.\n",
        "Usa los métodos append o extend, según mejor convenga."
      ]
    },
    {
      "cell_type": "code",
      "metadata": {
        "colab": {
          "base_uri": "https://localhost:8080/"
        },
        "id": "LEi1G72toMiY",
        "outputId": "9286ef93-3d38-4cfb-a790-6d3bd6e03051"
      },
      "source": [
        "#Ejercicio 1:\n",
        "n = [1,2,3]\n",
        "m = [4,5]\n",
        "# mi código\n",
        "n.extend(m)\n",
        "print(n)\n",
        "\n",
        "#Ejercicio 2:\n",
        "n = [1,2,3,4]\n",
        "m = [5]\n",
        "# mi código\n",
        "n.extend(m)\n",
        "print(n)"
      ],
      "execution_count": null,
      "outputs": [
        {
          "output_type": "stream",
          "text": [
            "[1, 2, 3, 4, 5]\n",
            "[1, 2, 3, 4, 5]\n"
          ],
          "name": "stdout"
        }
      ]
    },
    {
      "cell_type": "markdown",
      "metadata": {
        "id": "cHA1fFpeplrq"
      },
      "source": [
        "# <font color=\"magenta\">RETO 9: Cada cosa en su lugar (método insert)</font>"
      ]
    },
    {
      "cell_type": "markdown",
      "metadata": {
        "id": "gFyVYjO34asd"
      },
      "source": [
        "Crea una lista con los números enteros del 1 al 5, a partir de los datos que se te dan.\n",
        "Usa los métodos append, extend o insert, según mejor convenga."
      ]
    },
    {
      "cell_type": "code",
      "metadata": {
        "colab": {
          "base_uri": "https://localhost:8080/"
        },
        "id": "rBcd6bxF5Rxd",
        "outputId": "6e2e84f1-08c9-466b-a60f-e656ce8118a0"
      },
      "source": [
        "m = 1\n",
        "n = [2,3]\n",
        "s = [4]\n",
        "t = 5\n",
        "n.insert(0,m) # añado el 1 a la lista n\n",
        "print(n)\n",
        "n.insert(3,s[0]) #añado el 4\n",
        "print(n)\n",
        "n.insert(4,t) #añado finalmente el 5\n",
        "print(n)"
      ],
      "execution_count": null,
      "outputs": [
        {
          "output_type": "stream",
          "text": [
            "[1, 2, 3]\n",
            "[1, 2, 3, 4]\n",
            "[1, 2, 3, 4, 5]\n"
          ],
          "name": "stdout"
        }
      ]
    },
    {
      "cell_type": "markdown",
      "metadata": {
        "id": "0w8wnsqmplue"
      },
      "source": [
        "# <font color=\"magenta\">RETO 10: Repasando los métodos append, extend e insert</font>"
      ]
    },
    {
      "cell_type": "markdown",
      "metadata": {
        "id": "fdTqMJYCHGF2"
      },
      "source": [
        "Append: este método añade cualquier cosa"
      ]
    },
    {
      "cell_type": "code",
      "metadata": {
        "colab": {
          "base_uri": "https://localhost:8080/"
        },
        "id": "hKTRrSr__gbX",
        "outputId": "5f8e10a7-cf6f-407a-a9b5-93ea4ab3ee5c"
      },
      "source": [
        "lista1 = [1,2,3]\n",
        "lista1.append(4)\n",
        "lista1.append([5])\n",
        "lista1.append(\"a\")\n",
        "lista1"
      ],
      "execution_count": null,
      "outputs": [
        {
          "output_type": "execute_result",
          "data": {
            "text/plain": [
              "[1, 2, 3, 4, [5], 'a']"
            ]
          },
          "metadata": {
            "tags": []
          },
          "execution_count": 1
        }
      ]
    },
    {
      "cell_type": "markdown",
      "metadata": {
        "id": "-cEpHu42HQ-a"
      },
      "source": [
        "Extend: suele añadir los elementos de una lista, no la lista"
      ]
    },
    {
      "cell_type": "code",
      "metadata": {
        "colab": {
          "base_uri": "https://localhost:8080/"
        },
        "id": "eIIQdkr9HUVR",
        "outputId": "a3834451-e932-4c71-a221-9a8ab49c2338"
      },
      "source": [
        "lista2 = [4,5,6]\n",
        "lista2.extend([7,8])\n",
        "lista2.extend([\"b\",\"c\"])\n",
        "lista2"
      ],
      "execution_count": null,
      "outputs": [
        {
          "output_type": "execute_result",
          "data": {
            "text/plain": [
              "[4, 5, 6, 7, 8, 'b', 'c']"
            ]
          },
          "metadata": {
            "tags": []
          },
          "execution_count": 2
        }
      ]
    },
    {
      "cell_type": "markdown",
      "metadata": {
        "id": "7hHNWHVoHp-3"
      },
      "source": [
        "Insert: este método necesita el índice y el dato que vamos a añadir"
      ]
    },
    {
      "cell_type": "code",
      "metadata": {
        "colab": {
          "base_uri": "https://localhost:8080/"
        },
        "id": "ZPllZzNbHvn-",
        "outputId": "85ee4aa2-5303-4ec3-90c2-4f7d7504d8be"
      },
      "source": [
        "lista3 = [7,8,9]\n",
        "lista3.insert(3,[10,11])\n",
        "lista3.insert(5,12)\n",
        "lista3\n"
      ],
      "execution_count": null,
      "outputs": [
        {
          "output_type": "execute_result",
          "data": {
            "text/plain": [
              "[7, 8, 9, [10, 11], 12]"
            ]
          },
          "metadata": {
            "tags": []
          },
          "execution_count": 5
        }
      ]
    }
  ]
}