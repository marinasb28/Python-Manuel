{
  "nbformat": 4,
  "nbformat_minor": 0,
  "metadata": {
    "colab": {
      "name": "Level 8",
      "provenance": [],
      "collapsed_sections": [
        "8t2TisN9plgQ",
        "eXx-oV-Hpljf",
        "Z33FhbyFpljg",
        "4BqsA3t3qrQY",
        "C7vWBGFgplmm",
        "8ZzIvcH2plpJ",
        "_b7t5VaIplpK",
        "K_L5veOLplrq",
        "cHA1fFpeplrq",
        "0w8wnsqmplue"
      ],
      "authorship_tag": "ABX9TyMpf2jz0SR12TQZLzINDTQc",
      "include_colab_link": true
    },
    "kernelspec": {
      "name": "python3",
      "display_name": "Python 3"
    }
  },
  "cells": [
    {
      "cell_type": "markdown",
      "metadata": {
        "id": "view-in-github",
        "colab_type": "text"
      },
      "source": [
        "<a href=\"https://colab.research.google.com/github/marinasb28/Python-Manuel/blob/main/Level_8.ipynb\" target=\"_parent\"><img src=\"https://colab.research.google.com/assets/colab-badge.svg\" alt=\"Open In Colab\"/></a>"
      ]
    },
    {
      "cell_type": "markdown",
      "metadata": {
        "id": "8t2TisN9plgQ"
      },
      "source": [
        "# <font color=\"magenta\">RETO 1: El bucle for</font>"
      ]
    },
    {
      "cell_type": "markdown",
      "metadata": {
        "id": "cglw5HXYmtDI"
      },
      "source": [
        "Haz un programa que va mostrando en pantalla en una cuenta atrás los\n",
        "números del 10 al 0.\n",
        "\n",
        "Utiliza un bucle for."
      ]
    },
    {
      "cell_type": "code",
      "metadata": {
        "colab": {
          "base_uri": "https://localhost:8080/"
        },
        "id": "FBSKGIK4dl67",
        "outputId": "b2025abd-d06b-4521-ae44-53950debabee"
      },
      "source": [
        "for x in range(10,-1,-1):\n",
        "  print(x)"
      ],
      "execution_count": 2,
      "outputs": [
        {
          "output_type": "stream",
          "text": [
            "10\n",
            "9\n",
            "8\n",
            "7\n",
            "6\n",
            "5\n",
            "4\n",
            "3\n",
            "2\n",
            "1\n",
            "0\n"
          ],
          "name": "stdout"
        }
      ]
    },
    {
      "cell_type": "code",
      "metadata": {
        "colab": {
          "base_uri": "https://localhost:8080/"
        },
        "id": "ah3lGJkp9Eev",
        "outputId": "48b34300-8c44-477f-d788-9c0d772125af"
      },
      "source": [
        "num = 10\n",
        "while num >=0:\n",
        "  print(num)\n",
        "  num -=1"
      ],
      "execution_count": 4,
      "outputs": [
        {
          "output_type": "stream",
          "text": [
            "10\n",
            "9\n",
            "8\n",
            "7\n",
            "6\n",
            "5\n",
            "4\n",
            "3\n",
            "2\n",
            "1\n",
            "0\n"
          ],
          "name": "stdout"
        }
      ]
    },
    {
      "cell_type": "markdown",
      "metadata": {
        "id": "eXx-oV-Hpljf"
      },
      "source": [
        "# <font color=\"magenta\">RETO 2: Mientras o durante</font>"
      ]
    },
    {
      "cell_type": "markdown",
      "metadata": {
        "id": "KoHtf_zFqmKJ"
      },
      "source": [
        "Haz un programa que te pide cinco números y los va sumando.\n",
        "Al final te muestra el resultado de la suma.\n",
        "\n",
        "Utiliza el bucle (for o while) que más convenga para este programa.\n"
      ]
    },
    {
      "cell_type": "code",
      "metadata": {
        "colab": {
          "base_uri": "https://localhost:8080/"
        },
        "id": "aDhIxb2bqeb5",
        "outputId": "1ea970ab-bbed-4420-9147-ea29df0116b1"
      },
      "source": [
        "suma = 0\n",
        "for x in range(5):\n",
        "  num = float(input(\"Escribe un número: \"))\n",
        "  suma += num\n",
        "print(suma)"
      ],
      "execution_count": 7,
      "outputs": [
        {
          "output_type": "stream",
          "text": [
            "Escribe un número: 2.5\n",
            "Escribe un número: 6\n",
            "Escribe un número: 15\n",
            "Escribe un número: 7.2\n",
            "Escribe un número: 23\n",
            "53.7\n"
          ],
          "name": "stdout"
        }
      ]
    },
    {
      "cell_type": "markdown",
      "metadata": {
        "id": "Z33FhbyFpljg"
      },
      "source": [
        "# <font color=\"magenta\">RETO 3: Hasta que se cumpla</font>"
      ]
    },
    {
      "cell_type": "markdown",
      "metadata": {
        "id": "uQcbl2lIfOCA"
      },
      "source": [
        "Haz un programa que va pidiendo números y los va sumando hasta que\n",
        "la suma alcanza 200 o más. Entonces para y muestra el total.\n",
        "\n",
        "Utiliza el bucle (for o while) que más convenga para este programa.\n"
      ]
    },
    {
      "cell_type": "code",
      "metadata": {
        "colab": {
          "base_uri": "https://localhost:8080/"
        },
        "id": "S247PY63fOCE",
        "outputId": "a035f12d-56df-44ee-d11a-fa307ecd5f4b"
      },
      "source": [
        "suma = 0\n",
        "while suma<= 200:\n",
        "  num = float(input(\"Escribe un número: \"))\n",
        "  suma += num\n",
        "print(\"La suma es de: {}\".format(suma))"
      ],
      "execution_count": 8,
      "outputs": [
        {
          "output_type": "stream",
          "text": [
            "Escribe un número: 25\n",
            "Escribe un número: 36\n",
            "Escribe un número: 12\n",
            "Escribe un número: 8\n",
            "Escribe un número: 19\n",
            "Escribe un número: 100\n",
            "Escribe un número: 4\n",
            "La suma es de: 204.0\n"
          ],
          "name": "stdout"
        }
      ]
    },
    {
      "cell_type": "markdown",
      "metadata": {
        "id": "4BqsA3t3qrQY"
      },
      "source": [
        "# <font color=\"magenta\">RETO 4: Iterando por listas</font>"
      ]
    },
    {
      "cell_type": "markdown",
      "metadata": {
        "id": "SdcCUfgEwEGo"
      },
      "source": [
        "Haz un programa que pide un número al usuario. Si ese número más\n",
        "algún número de una lista dada es igual a 100, el programa dice\n",
        "que el número cumpla la condición.\n",
        "\n",
        "Inténtalo hacer con el operador \"in\", y con el bucle \"for\".\n",
        "\n",
        "lista = [28, 36, 43, 52, 61, 75, 84, 97]\n"
      ]
    },
    {
      "cell_type": "code",
      "metadata": {
        "colab": {
          "base_uri": "https://localhost:8080/"
        },
        "id": "BXno4kMVwDu7",
        "outputId": "30b80c74-8a1b-4c88-ce47-ae33615b3524"
      },
      "source": [
        "# con in\n",
        "lista = [28, 36, 43, 52, 61, 75, 84, 97]\n",
        "num = int(input(\"Escribe un número: \"))\n",
        "if num in lista:\n",
        "  print(\"El número está en la lista.\")\n",
        "else:\n",
        "  print(\"El número no está en la lista.\")\n"
      ],
      "execution_count": 9,
      "outputs": [
        {
          "output_type": "stream",
          "text": [
            "Escribe un número: 52\n",
            "El número está en la lista.\n"
          ],
          "name": "stdout"
        }
      ]
    },
    {
      "cell_type": "code",
      "metadata": {
        "colab": {
          "base_uri": "https://localhost:8080/"
        },
        "id": "eopkiC7l_KIw",
        "outputId": "380ade99-2da4-4ee4-eabb-e237c448f263"
      },
      "source": [
        "# con for\n",
        "lista = [28, 36, 43, 52, 61, 75, 84, 97]\n",
        "num = int(input(\"Escribe un número: \"))\n",
        "encontrado = False\n",
        "for x in lista:\n",
        "  if x == num:\n",
        "    encontrado = True\n",
        "\n",
        "if encontrado == True:\n",
        "  print(\"El número está en la lista.\")\n",
        "else:\n",
        "  print(\"El número no está en la lista.\")\n"
      ],
      "execution_count": 14,
      "outputs": [
        {
          "output_type": "stream",
          "text": [
            "Escribe un número: 52\n",
            "El número está en la lista.\n"
          ],
          "name": "stdout"
        }
      ]
    },
    {
      "cell_type": "markdown",
      "metadata": {
        "id": "C7vWBGFgplmm"
      },
      "source": [
        "# <font color=\"magenta\">RETO 5: Búsquedas en listas</font>"
      ]
    },
    {
      "cell_type": "markdown",
      "metadata": {
        "id": "5Oh6m_ODkgtR"
      },
      "source": [
        "Haz un programa que comprueba cuántas veces está un número en una lista dada.\n",
        "\n",
        "Intenta averiguar cuántas veces está el número 43 en la siguiente lista.\n",
        "\n",
        "lista = [28, 36, 43, 52, 61, 43, 75, 84, 43, 97]"
      ]
    },
    {
      "cell_type": "code",
      "metadata": {
        "id": "oB5DgkyTkhoR",
        "colab": {
          "base_uri": "https://localhost:8080/"
        },
        "outputId": "1d1a9182-eef6-4e9b-b26c-6488b5ea0eb3"
      },
      "source": [
        "lista = [28, 36, 43, 52, 61, 43, 75, 84, 43, 97]\n",
        "counter = 0\n",
        "for x in lista:\n",
        "  if x == 43:\n",
        "    counter += 1\n",
        "  else:\n",
        "    counter += 0\n",
        "print(\"El número 43 aparece {} veces.\".format(counter))"
      ],
      "execution_count": 15,
      "outputs": [
        {
          "output_type": "stream",
          "text": [
            "El número 43 aparece 3 veces.\n"
          ],
          "name": "stdout"
        }
      ]
    },
    {
      "cell_type": "markdown",
      "metadata": {
        "id": "8ZzIvcH2plpJ"
      },
      "source": [
        "# <font color=\"magenta\">RETO 6: Contando elementos de una lista</font>"
      ]
    },
    {
      "cell_type": "markdown",
      "metadata": {
        "id": "5zGeZ5H36qBd"
      },
      "source": [
        "Tenemos una tupla con los meses del año. \n",
        "\n",
        "Queremos saber qué meses tienen la letra \"b\"."
      ]
    },
    {
      "cell_type": "code",
      "metadata": {
        "colab": {
          "base_uri": "https://localhost:8080/"
        },
        "id": "5hn-0Gk-6qBu",
        "outputId": "35bbe040-3788-4b92-bcf7-9186f70ebd72"
      },
      "source": [
        "meses = (\"Enero\",\"Febrero\",\"Marzo\",\"Abril\",\"Mayo\",\"Junio\",\"Julio\",\"Agosto\",\"Septiembre\",\"Octubre\",\"Noviembre\",\"Diciembre\")\n",
        "counter = 0\n",
        "meses_con_b = ()\n",
        "for mes in meses:\n",
        "  if \"b\" in mes:\n",
        "    meses_con_b += (mes,)\n",
        "print(meses_con_b)"
      ],
      "execution_count": 20,
      "outputs": [
        {
          "output_type": "stream",
          "text": [
            "('Febrero', 'Abril', 'Septiembre', 'Octubre', 'Noviembre', 'Diciembre')\n"
          ],
          "name": "stdout"
        }
      ]
    },
    {
      "cell_type": "markdown",
      "metadata": {
        "id": "_b7t5VaIplpK"
      },
      "source": [
        "# <font color=\"magenta\">RETO 7: Guardando elementos</font>"
      ]
    },
    {
      "cell_type": "markdown",
      "metadata": {
        "id": "w4ip8YIMnKTe"
      },
      "source": [
        "Hacer un programa que comprueba si un elemento está en una lista \n",
        "y nos dice en qué posición (índice) se encuentra.\n",
        "\n",
        "lista = [2,5,90,23,45,87,54,11,38]\n",
        "\n",
        "elemento = 54\n",
        "\n",
        "Utiliza un tipo range para recorrer la lista por sus índices."
      ]
    },
    {
      "cell_type": "code",
      "metadata": {
        "colab": {
          "base_uri": "https://localhost:8080/"
        },
        "id": "FsAnsuQVnQAW",
        "outputId": "4b7afea3-f80b-46d9-c31b-3c6210fabd86"
      },
      "source": [
        "lista = [2,5,90,23,45,87,54,11,38]\n",
        "elemento = 54\n",
        "posicion = 0\n",
        "for x in range(len(lista)):\n",
        "  if lista[x]== 54:\n",
        "    posicion = x\n",
        "print(\"El número 54 está en {} posición.\".format(posicion))"
      ],
      "execution_count": 22,
      "outputs": [
        {
          "output_type": "stream",
          "text": [
            "El número 54 está en 6 posición.\n"
          ],
          "name": "stdout"
        }
      ]
    },
    {
      "cell_type": "markdown",
      "metadata": {
        "id": "K_L5veOLplrq"
      },
      "source": [
        "# <font color=\"magenta\">RETO 8: Busscando índices de listas</font>"
      ]
    },
    {
      "cell_type": "markdown",
      "metadata": {
        "id": "CkzZNdE3oG5b"
      },
      "source": [
        "Haz un programa que muestra la tabla de multiplicar de un número que le pasemos.\n"
      ]
    },
    {
      "cell_type": "code",
      "metadata": {
        "colab": {
          "base_uri": "https://localhost:8080/"
        },
        "id": "LEi1G72toMiY",
        "outputId": "d7f045f7-7433-4cbf-e7c3-04fa08a40143"
      },
      "source": [
        "num = int(input(\"Pon un número: \"))\n",
        "for x in range(0,11): #irá de 0 a 10\n",
        "  print(\"{}x{}={}\".format(x,num,x*num))"
      ],
      "execution_count": 24,
      "outputs": [
        {
          "output_type": "stream",
          "text": [
            "Pon un número: 2\n",
            "0x2=0\n",
            "1x2=2\n",
            "2x2=4\n",
            "3x2=6\n",
            "4x2=8\n",
            "5x2=10\n",
            "6x2=12\n",
            "7x2=14\n",
            "8x2=16\n",
            "9x2=18\n",
            "10x2=20\n"
          ],
          "name": "stdout"
        }
      ]
    },
    {
      "cell_type": "markdown",
      "metadata": {
        "id": "cHA1fFpeplrq"
      },
      "source": [
        "# <font color=\"magenta\">RETO 9: Break</font>"
      ]
    },
    {
      "cell_type": "markdown",
      "metadata": {
        "id": "wkAvbqTfksEY"
      },
      "source": [
        "Tenemos una lista de temperaturas. Hay que comprobar que todas las temperaturas\n",
        "están entre 18 y 25 incluidos. Si alguna no cumple la condición se para el programa\n",
        "y lo indica, sino va mostrando que la temperatura verificada es correcta.\n",
        "\n",
        "temperaturas = [19,22,21,24,23,27,21,20,19,18,21,20]\n"
      ]
    },
    {
      "cell_type": "code",
      "metadata": {
        "colab": {
          "base_uri": "https://localhost:8080/"
        },
        "id": "2slD58zKknym",
        "outputId": "ea536e58-57ca-4db8-83d5-750ce44016dd"
      },
      "source": [
        "temperaturas = [19,22,21,24,23,27,21,20,19,18,21,20]\n",
        "\n",
        "for x in temperaturas:\n",
        "  if 18<=x<=25:\n",
        "    print(\"Todo ok\")\n",
        "  else:\n",
        "    print(\"Algo va mal.\")\n",
        "    break"
      ],
      "execution_count": 28,
      "outputs": [
        {
          "output_type": "stream",
          "text": [
            "Todo ok\n",
            "Todo ok\n",
            "Todo ok\n",
            "Todo ok\n",
            "Todo ok\n",
            "Algo va mal.\n"
          ],
          "name": "stdout"
        }
      ]
    },
    {
      "cell_type": "markdown",
      "metadata": {
        "id": "LFHTXtKLrSNa"
      },
      "source": [
        "# <font color=\"magenta\">RETO 10: Practicando con break</font>"
      ]
    },
    {
      "cell_type": "markdown",
      "metadata": {
        "id": "8GayBA3F_feJ"
      },
      "source": [
        "Haz un juego que te pide que adivines una letra, y te pide letras constantemente\n",
        "hasta que la adivines, y entonces se para.\n",
        "\n",
        "Se puede probar con todas las letras menos con la \"w\" en cuyo caso se muestra que\n",
        "esa letra no está permitida y se para el programa."
      ]
    },
    {
      "cell_type": "code",
      "metadata": {
        "colab": {
          "base_uri": "https://localhost:8080/"
        },
        "id": "ua4idCwH_c4f",
        "outputId": "d420f265-1025-4603-9349-ab4600515999"
      },
      "source": [
        "letra = \"p\"\n",
        "win = False\n",
        "while not win:\n",
        "  guess = input(\"prueba una letra: \")\n",
        "  if guess == letra:\n",
        "    win = True\n",
        "    print(\"Win\")\n",
        "  elif guess == \"w\":\n",
        "    print(\"El programa se va a parar\")\n",
        "    break # el programa se para\n",
        "  else:\n",
        "    print(\"Keep trying!\")\n",
        "    win = False\n",
        "  "
      ],
      "execution_count": 32,
      "outputs": [
        {
          "output_type": "stream",
          "text": [
            "prueba una letra: r\n",
            "Keep trying!\n",
            "prueba una letra: s\n",
            "Keep trying!\n",
            "prueba una letra: p\n",
            "Win\n"
          ],
          "name": "stdout"
        }
      ]
    },
    {
      "cell_type": "markdown",
      "metadata": {
        "id": "qf1pYu5f-Egi"
      },
      "source": [
        "# <font color=\"magenta\">RETO 11: Dentro de la lista</font>"
      ]
    },
    {
      "cell_type": "markdown",
      "metadata": {
        "id": "U2k2XM9_-FUi"
      },
      "source": [
        "# <font color=\"magenta\">RETO 12: Continue</font>"
      ]
    },
    {
      "cell_type": "markdown",
      "metadata": {
        "id": "zQjc3YLBBxTK"
      },
      "source": [
        "Haz un programa que muestra si los números de una lista son positivos o negativos,\n",
        "a excepción del cero que se lo salta y no muestra nada.\n",
        "\n",
        "Utiliza la sentencia \"continue\".\n",
        "\n",
        "numeros = [1,4,-3,5,0,7,-2,6]"
      ]
    },
    {
      "cell_type": "code",
      "metadata": {
        "colab": {
          "base_uri": "https://localhost:8080/"
        },
        "id": "4oRKLvyFBuU1",
        "outputId": "37eb3b68-d15d-4364-ba9a-19a861bb6516"
      },
      "source": [
        "numeros = [1,4,-3,5,0,7,-2,6]\n",
        "counter = 1\n",
        "for x in numeros:\n",
        "  print(\"Iteration {}\".format(counter))\n",
        "  if x == 0:\n",
        "    continue\n",
        "  elif x > 0:\n",
        "    print(\"positivo\")\n",
        "  else:\n",
        "    if x<0:\n",
        "      print(\"negativo\")\n",
        "  counter += 1"
      ],
      "execution_count": 38,
      "outputs": [
        {
          "output_type": "stream",
          "text": [
            "Iteration 1\n",
            "positivo\n",
            "Iteration 2\n",
            "positivo\n",
            "Iteration 3\n",
            "negativo\n",
            "Iteration 4\n",
            "positivo\n",
            "Iteration 5\n",
            "Iteration 5\n",
            "positivo\n",
            "Iteration 6\n",
            "negativo\n",
            "Iteration 7\n",
            "positivo\n"
          ],
          "name": "stdout"
        }
      ]
    }
  ]
}