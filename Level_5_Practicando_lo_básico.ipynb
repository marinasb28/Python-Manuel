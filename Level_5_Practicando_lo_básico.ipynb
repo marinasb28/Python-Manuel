{
  "nbformat": 4,
  "nbformat_minor": 0,
  "metadata": {
    "colab": {
      "name": "Level 5 - Practicando lo básico",
      "provenance": [],
      "collapsed_sections": [
        "8t2TisN9plgQ",
        "eXx-oV-Hpljf",
        "Z33FhbyFpljg",
        "4BqsA3t3qrQY",
        "C7vWBGFgplmm",
        "8ZzIvcH2plpJ",
        "_b7t5VaIplpK",
        "K_L5veOLplrq",
        "cHA1fFpeplrq",
        "0w8wnsqmplue"
      ],
      "authorship_tag": "ABX9TyNek3FUZR7IiEqoWBuyQqNX",
      "include_colab_link": true
    },
    "kernelspec": {
      "name": "python3",
      "display_name": "Python 3"
    }
  },
  "cells": [
    {
      "cell_type": "markdown",
      "metadata": {
        "id": "view-in-github",
        "colab_type": "text"
      },
      "source": [
        "<a href=\"https://colab.research.google.com/github/marinasb28/Python-Manuel/blob/main/Level_5_Practicando_lo_b%C3%A1sico.ipynb\" target=\"_parent\"><img src=\"https://colab.research.google.com/assets/colab-badge.svg\" alt=\"Open In Colab\"/></a>"
      ]
    },
    {
      "cell_type": "markdown",
      "metadata": {
        "id": "8t2TisN9plgQ"
      },
      "source": [
        "# <font color=\"magenta\">RETO 1: Más operadores de la división</font>"
      ]
    },
    {
      "cell_type": "markdown",
      "metadata": {
        "id": "cglw5HXYmtDI"
      },
      "source": [
        "Hacer un programa que dado un número de caramelos y un número de niños,\n",
        "diga a cuántos caramelos toca cada niño, y cuántos caramelos sobran.\n",
        "\n",
        "Utiliza los operadores aritméticos de la división sin resto (o división entera) y resto de la división (o módulo)."
      ]
    },
    {
      "cell_type": "code",
      "metadata": {
        "colab": {
          "base_uri": "https://localhost:8080/"
        },
        "id": "_0ksodTApvXR",
        "outputId": "601b616c-db9a-4b38-e2da-6a75698ea98c"
      },
      "source": [
        "caramelos = int(input(\"Número de caramelos: \"))\n",
        "guys = int(input(\"Número de niños:\"))\n",
        "\n",
        "tocan = caramelos // guys\n",
        "sobran = caramelos % guys\n",
        "print(\"Tenemos {} caramelos y {} niños.\".format(caramelos,guys))\n",
        "print(\"Cada niño tiene {} caramelos y han sobrado {} caramelos.\".format(tocan,sobran))"
      ],
      "execution_count": null,
      "outputs": [
        {
          "output_type": "stream",
          "text": [
            "Número de caramelos: 10\n",
            "Número de niños:4\n",
            "Tenemos 10 caramelos y 4 niños.\n",
            "Cada niño tiene 2 caramelos y han sobrado 2 caramelos.\n"
          ],
          "name": "stdout"
        }
      ]
    },
    {
      "cell_type": "markdown",
      "metadata": {
        "id": "eXx-oV-Hpljf"
      },
      "source": [
        "# <font color=\"magenta\">RETO 2: División entera y módulo</font>"
      ]
    },
    {
      "cell_type": "markdown",
      "metadata": {
        "id": "KoHtf_zFqmKJ"
      },
      "source": [
        "Hacer un programa que transforma un tiempo dado en segundos en sus\n",
        "horas, minutos y segundos correspondientes.\n",
        "\n",
        "Probar con el siguiente dato: 174452 segundos.\n",
        "\n",
        "El resultado tiene que ser: 48 horas, 27 minutos y 32 segundos."
      ]
    },
    {
      "cell_type": "code",
      "metadata": {
        "colab": {
          "base_uri": "https://localhost:8080/"
        },
        "id": "aDhIxb2bqeb5",
        "outputId": "50648900-9c66-4178-9a1d-d2fcc3c5a3fd"
      },
      "source": [
        "segundos = 174452\n",
        "\n",
        "min = segundos // 60 #de segundos a minutos\n",
        "seg_r = segundos%60\n",
        "horas = min // 60 #de minutos a horas\n",
        "min_r = min%60\n",
        "print(\"{} segundos son: {}h:{}min:{}sec.\".format(segundos,horas,min_r,seg_r))\n"
      ],
      "execution_count": null,
      "outputs": [
        {
          "output_type": "stream",
          "text": [
            "174452 segundos son: 48h:27min:32sec.\n"
          ],
          "name": "stdout"
        }
      ]
    },
    {
      "cell_type": "markdown",
      "metadata": {
        "id": "Z33FhbyFpljg"
      },
      "source": [
        "# <font color=\"magenta\">RETO 3: Convertir segundoss a horas,minutos y segundos</font>"
      ]
    },
    {
      "cell_type": "markdown",
      "metadata": {
        "id": "2J6Qe0KwrzVs"
      },
      "source": [
        "Hacer un programa que comprueba si un número dado es par o impar.\n",
        "\n",
        "Para ello has de encontrar un algoritmo para que el ordenador sea capaz de distinguir entre un número par y un número impar. \n",
        "\n",
        "Se utiliza el operador resto de la división."
      ]
    },
    {
      "cell_type": "code",
      "metadata": {
        "colab": {
          "base_uri": "https://localhost:8080/"
        },
        "id": "a5Ryo-kyr0Yr",
        "outputId": "4dcc7215-7b11-4bd1-d288-13d8e048aae1"
      },
      "source": [
        "num = int(input(\"Escribe un número: \"))\n",
        "if num%2 == 0:\n",
        "  print(\"El número es par.\")\n",
        "else:\n",
        "  print(\"El número es impar.\")"
      ],
      "execution_count": null,
      "outputs": [
        {
          "output_type": "stream",
          "text": [
            "Escribe un número: 3\n",
            "El número es impar.\n"
          ],
          "name": "stdout"
        }
      ]
    },
    {
      "cell_type": "markdown",
      "metadata": {
        "id": "4BqsA3t3qrQY"
      },
      "source": [
        "# <font color=\"magenta\">RETO 4: Números pares e impares</font>"
      ]
    },
    {
      "cell_type": "markdown",
      "metadata": {
        "id": "SdcCUfgEwEGo"
      },
      "source": [
        "Haz un programa que compruebe si un número es múltiplo de 3, de 5, o de los dos.\n",
        "\n",
        "Utiliza una estructura if-elif-else.\n",
        "\n",
        "Pista: Un número es múltiplo de 3 si el resto de la división entre 3 es 0."
      ]
    },
    {
      "cell_type": "code",
      "metadata": {
        "colab": {
          "base_uri": "https://localhost:8080/"
        },
        "id": "BXno4kMVwDu7",
        "outputId": "d19a484e-a59f-4eac-f215-cce49dbdbe69"
      },
      "source": [
        "num = int(input(\"Escribe un número: \"))\n",
        "if (num%3==0) and (num%5==0):\n",
        "  print(\"El número es múltiplo de ambos.\")\n",
        "elif num%3== 0:\n",
        "  print(\"El número es múltiplo de 3.\")\n",
        "elif num%5==0:\n",
        "  print(\"El número es múltiplo de 5.\")\n",
        "else:\n",
        "  print(\"El número no es múltiplo de ninguno.\")"
      ],
      "execution_count": null,
      "outputs": [
        {
          "output_type": "stream",
          "text": [
            "Escribe un número: 11\n",
            "El número no es múltiplo de ninguno.\n"
          ],
          "name": "stdout"
        }
      ]
    },
    {
      "cell_type": "markdown",
      "metadata": {
        "id": "C7vWBGFgplmm"
      },
      "source": [
        "# <font color=\"magenta\">RETO 5: Múltiplos de un número</font>"
      ]
    },
    {
      "cell_type": "markdown",
      "metadata": {
        "id": "5Oh6m_ODkgtR"
      },
      "source": [
        "Haz un programa que pide tres números y encuentra cuál es el mayor de los tres."
      ]
    },
    {
      "cell_type": "code",
      "metadata": {
        "id": "oB5DgkyTkhoR",
        "colab": {
          "base_uri": "https://localhost:8080/"
        },
        "outputId": "9d915a4a-2fa4-438f-b7ad-410253ca8fcd"
      },
      "source": [
        "num1 = float(input(\"Num 1: \"))\n",
        "num2 = float(input(\"Num 2: \"))\n",
        "num3 = float(input(\"Num 3: \"))\n",
        "\n",
        "#mayor el num1\n",
        "if (num1 >num2) and (num1 > num3):\n",
        "  print(\"Mayor el num1\")\n",
        "#mayor el num2\n",
        "elif (num2 > num1) and (num2 > num3):\n",
        "  print(\"Mayor el num2\")\n",
        "#mayor el num3\n",
        "else:\n",
        "  print(\"Num3 es el mayor\")"
      ],
      "execution_count": null,
      "outputs": [
        {
          "output_type": "stream",
          "text": [
            "Num 1: 1\n",
            "Num 2: 3\n",
            "Num 3: 2\n",
            "Mayor el num2\n"
          ],
          "name": "stdout"
        }
      ]
    },
    {
      "cell_type": "markdown",
      "metadata": {
        "id": "8ZzIvcH2plpJ"
      },
      "source": [
        "# <font color=\"magenta\">RETO 6: El mayor de 3 números</font>"
      ]
    },
    {
      "cell_type": "markdown",
      "metadata": {
        "id": "5zGeZ5H36qBd"
      },
      "source": [
        "Haz un programa que pide tres números y encuentra cuál es el mayor de los tres."
      ]
    },
    {
      "cell_type": "code",
      "metadata": {
        "colab": {
          "base_uri": "https://localhost:8080/"
        },
        "id": "5hn-0Gk-6qBu",
        "outputId": "53c61f72-42d5-4dc0-cc2c-4d86403fb4aa"
      },
      "source": [
        "num1 = float(input(\"Num 1: \"))\n",
        "num2 = float(input(\"Num 2: \"))\n",
        "num3 = float(input(\"Num 3: \"))\n",
        "\n",
        "#mayor el num1\n",
        "if num1 > num2:\n",
        "  if num1 > num3:\n",
        "    print(\"El num1 es el mayor.\")\n",
        "  else:\n",
        "    print(\"El num3 es el mayor.\")\n",
        "#mayor el num2\n",
        "else:\n",
        "  if num2 > num3:\n",
        "    print(\"El num2 es el mayor\")\n",
        "  else: #mayor el num3\n",
        "    print(\"El num3 es el mayor\")\n"
      ],
      "execution_count": null,
      "outputs": [
        {
          "output_type": "stream",
          "text": [
            "Num 1: 1\n",
            "Num 2: 3\n",
            "Num 3: 2\n",
            "El num2 es el mayor\n"
          ],
          "name": "stdout"
        }
      ]
    },
    {
      "cell_type": "markdown",
      "metadata": {
        "id": "_b7t5VaIplpK"
      },
      "source": [
        "# <font color=\"magenta\">RETO 7: Comparaciones múltiples</font>"
      ]
    },
    {
      "cell_type": "markdown",
      "metadata": {
        "id": "w4ip8YIMnKTe"
      },
      "source": [
        "Tenemos un programa que pide un número del 0 al 100, y comprueba si introducimos\n",
        "un número correcto, y lo tenemos hecho con operadores de comparación y lógicos.\n",
        "\n",
        "Se trata de simplificar la condición y utilizar sólo operadores de comparación."
      ]
    },
    {
      "cell_type": "code",
      "metadata": {
        "colab": {
          "base_uri": "https://localhost:8080/"
        },
        "id": "FsAnsuQVnQAW",
        "outputId": "9ed8b07d-8be8-4eb5-a58f-c902caaf37cf"
      },
      "source": [
        "num = int(input(\"Introduce un número: \"))\n",
        "if 0<=num<=100:\n",
        "  print(\"Número correcto.\")\n",
        "else: \n",
        "  print(\"Número fuera del rango.\")"
      ],
      "execution_count": null,
      "outputs": [
        {
          "output_type": "stream",
          "text": [
            "Edad de la persona: 13\n",
            "Es un niño.\n"
          ],
          "name": "stdout"
        }
      ]
    },
    {
      "cell_type": "markdown",
      "metadata": {
        "id": "K_L5veOLplrq"
      },
      "source": [
        "# <font color=\"magenta\">RETO 8: Practicando comparaciones múltiples</font>"
      ]
    },
    {
      "cell_type": "markdown",
      "metadata": {
        "id": "CkzZNdE3oG5b"
      },
      "source": [
        "Haz un programa que te pide que te inventes una contraseña y que luego\n",
        "la repitas dos veces más. Después comprueba que lo has hecho correctamente.\n",
        "\n",
        "La contraseña ha de poder ser cualquier carácter, no sólo números."
      ]
    },
    {
      "cell_type": "code",
      "metadata": {
        "colab": {
          "base_uri": "https://localhost:8080/"
        },
        "id": "LEi1G72toMiY",
        "outputId": "eb09c929-55c5-477e-a1a7-2e8d1143be8a"
      },
      "source": [
        "password = input(\"Escribe tu contraseña: \")\n",
        "print(\"Repite la contraseña: \")\n",
        "rep1 = input(\"Contraseña: \")\n",
        "if rep1 == password:\n",
        "  print(\"Bien 1º vez\")\n",
        "  print(\"Repite la contraseña:\")\n",
        "  rep2 = input(\"Contraseña:\")\n",
        "  if rep2 == password:\n",
        "    print(\"Ambas veces bien.\")\n",
        "  else:\n",
        "    print(\"2ª vez mal.\")\n",
        "else:\n",
        "  print(\"Wrong 1ª vez.\")\n",
        "  rep2 = input(\"Contraseña:\")\n",
        "  if rep2 == password:\n",
        "    print(\"2ª vez bien.\")\n",
        "  else:\n",
        "    print(\"Ambas mal.\")"
      ],
      "execution_count": null,
      "outputs": [
        {
          "output_type": "stream",
          "text": [
            "Escribe tu contraseña: marina\n",
            "Repite la contraseña: \n",
            "Contraseña: marina\n",
            "Bien 1º vez\n",
            "Repite la contraseña:\n",
            "Contraseña:pablo\n",
            "2ª vez mal.\n"
          ],
          "name": "stdout"
        }
      ]
    },
    {
      "cell_type": "markdown",
      "metadata": {
        "id": "cHA1fFpeplrq"
      },
      "source": [
        "# <font color=\"magenta\">RETO 9: Evitando errores</font>"
      ]
    },
    {
      "cell_type": "markdown",
      "metadata": {
        "id": "gFyVYjO34asd"
      },
      "source": [
        "Haz un programa que pide un número del 0 al 10 y comprueba si introduces\n",
        "un número correcto.\n",
        "\n",
        "El programa no debe dar errores al introducir los datos, cualquiera que sea\n",
        "el tipo de datos que introducimos (ya sea int, float, bool, o str) \n",
        "\n"
      ]
    },
    {
      "cell_type": "code",
      "metadata": {
        "colab": {
          "base_uri": "https://localhost:8080/"
        },
        "id": "rBcd6bxF5Rxd",
        "outputId": "b4033d65-c992-4006-c53d-be283cba0b8f"
      },
      "source": [
        "num = input(\"Escribe un número: \")\n",
        "if 0<=int(num)<=10:\n",
        "  print(\"Right\")\n",
        "else:\n",
        "  print(\"Wrong.\")\n"
      ],
      "execution_count": null,
      "outputs": [
        {
          "output_type": "stream",
          "text": [
            "Escribe un número: 11\n",
            "Wrong.\n"
          ],
          "name": "stdout"
        }
      ]
    },
    {
      "cell_type": "markdown",
      "metadata": {
        "id": "0w8wnsqmplue"
      },
      "source": [
        "# <font color=\"magenta\">RETO 10: Tomando medidas</font>"
      ]
    },
    {
      "cell_type": "markdown",
      "metadata": {
        "id": "iprYA6rU_ga-"
      },
      "source": [
        "Haz un programa que pide un número del 0 al 10 y comprueba si introduces\n",
        "un número correcto.\n",
        "\n",
        "El programa no debe dar errores al introducir los datos, cualquiera que sea\n",
        "el tipo de datos que introducimos (ya sea int, float, bool, o str) \n",
        "\n"
      ]
    },
    {
      "cell_type": "code",
      "metadata": {
        "colab": {
          "base_uri": "https://localhost:8080/"
        },
        "id": "hKTRrSr__gbX",
        "outputId": "f947bc20-e9c4-443e-c404-84e3161b50f4"
      },
      "source": [
        "num = input(\"Escribe un número: \")\n",
        "if num ==\"0\" or num == \"1\": #con todos los números del 0 al 10\n",
        "  print(\"Right\")\n",
        "else:\n",
        "  print(\"Wrong.\")\n"
      ],
      "execution_count": null,
      "outputs": [
        {
          "output_type": "stream",
          "text": [
            "Escribe un número: 3\n",
            "Wrong.\n"
          ],
          "name": "stdout"
        }
      ]
    }
  ]
}