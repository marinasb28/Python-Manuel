{
  "nbformat": 4,
  "nbformat_minor": 0,
  "metadata": {
    "colab": {
      "name": "Level 1",
      "provenance": [],
      "authorship_tag": "ABX9TyOzUsPnJE3Mga0pgM7TXBH5",
      "include_colab_link": true
    },
    "kernelspec": {
      "name": "python3",
      "display_name": "Python 3"
    }
  },
  "cells": [
    {
      "cell_type": "markdown",
      "metadata": {
        "id": "view-in-github",
        "colab_type": "text"
      },
      "source": [
        "<a href=\"https://colab.research.google.com/github/marinasb28/Python-Manuel/blob/main/Level_1.ipynb\" target=\"_parent\"><img src=\"https://colab.research.google.com/assets/colab-badge.svg\" alt=\"Open In Colab\"/></a>"
      ]
    },
    {
      "cell_type": "markdown",
      "metadata": {
        "id": "PH5okHv1ovZZ"
      },
      "source": [
        "# <font color=\"red\"></font>"
      ]
    },
    {
      "cell_type": "markdown",
      "metadata": {
        "id": "8t2TisN9plgQ"
      },
      "source": [
        "# <font color=\"magenta\">RETO 1: Los operadores aritméticos</font>"
      ]
    },
    {
      "cell_type": "code",
      "metadata": {
        "colab": {
          "base_uri": "https://localhost:8080/"
        },
        "id": "_0ksodTApvXR",
        "outputId": "c61a3282-ea66-464b-cd20-d5bebc039a22"
      },
      "source": [
        "print(8-6/2+1*2) # 8-3+2 = 7"
      ],
      "execution_count": 1,
      "outputs": [
        {
          "output_type": "stream",
          "text": [
            "7.0\n"
          ],
          "name": "stdout"
        }
      ]
    },
    {
      "cell_type": "markdown",
      "metadata": {
        "id": "eXx-oV-Hpljf"
      },
      "source": [
        "# <font color=\"magenta\">RETO 2: Practicando con los operadores aritméticos</font>"
      ]
    },
    {
      "cell_type": "markdown",
      "metadata": {
        "id": "KoHtf_zFqmKJ"
      },
      "source": [
        "Hay que repartir una caja de bombones de 24 bombones\n",
        "entre 2 grupos de 3 alumnos cada uno. \n",
        "¿A cuántos bombones toca cada alumno?"
      ]
    },
    {
      "cell_type": "code",
      "metadata": {
        "colab": {
          "base_uri": "https://localhost:8080/"
        },
        "id": "aDhIxb2bqeb5",
        "outputId": "e739f2e4-e689-4630-ad76-87c00864520f"
      },
      "source": [
        "bombones = 24\n",
        "grupos = 2\n",
        "alumnos = 3\n",
        "result = 24 / (2*3)\n",
        "print(\"Cada alumno tendrá {} bombones.\".format(result))"
      ],
      "execution_count": 2,
      "outputs": [
        {
          "output_type": "stream",
          "text": [
            "Cada alumno tendrá 4.0 bombones.\n"
          ],
          "name": "stdout"
        }
      ]
    },
    {
      "cell_type": "markdown",
      "metadata": {
        "id": "Z33FhbyFpljg"
      },
      "source": [
        "# <font color=\"magenta\">RETO 3: Operadores de comparación</font>"
      ]
    },
    {
      "cell_type": "markdown",
      "metadata": {
        "id": "2J6Qe0KwrzVs"
      },
      "source": [
        "Compara el valor 2 con el valor 4 de las cuatro formas que son posibles\n",
        "con los operadores de comparación que hemos visto en este video."
      ]
    },
    {
      "cell_type": "code",
      "metadata": {
        "colab": {
          "base_uri": "https://localhost:8080/"
        },
        "id": "a5Ryo-kyr0Yr",
        "outputId": "d804c1bd-00ef-4b64-b568-fa3ebbad5503"
      },
      "source": [
        "print(2 == 4)\n",
        "print(2 != 4)\n",
        "print(2 < 4)\n",
        "print(2 > 4)"
      ],
      "execution_count": 2,
      "outputs": [
        {
          "output_type": "stream",
          "text": [
            "False\n",
            "True\n",
            "True\n",
            "False\n"
          ],
          "name": "stdout"
        }
      ]
    },
    {
      "cell_type": "markdown",
      "metadata": {
        "id": "40RyxsY9plml"
      },
      "source": [
        "# <font color=\"magenta\">RETO 4: Más operadores de comparación</font>"
      ]
    },
    {
      "cell_type": "markdown",
      "metadata": {
        "id": "Qud2_KWljdX6"
      },
      "source": [
        "Trata de resolver mentalmente estas expresiones:\n",
        "\n",
        "5 es menor o igual que 10\n",
        "5 es mayor o igual que 5\n",
        "\n",
        "A continuación tradúcelas al lenguaje Python en el IDLE,\n",
        "y comprueba si has acertado el resultado"
      ]
    },
    {
      "cell_type": "code",
      "metadata": {
        "colab": {
          "base_uri": "https://localhost:8080/"
        },
        "id": "dih93NPNjc03",
        "outputId": "a4873f33-82d5-4d0b-aba2-6773c3b638d7"
      },
      "source": [
        "print(5 <= 10)\n",
        "print(5 >= 10)"
      ],
      "execution_count": 1,
      "outputs": [
        {
          "output_type": "stream",
          "text": [
            "True\n",
            "False\n"
          ],
          "name": "stdout"
        }
      ]
    },
    {
      "cell_type": "markdown",
      "metadata": {
        "id": "C7vWBGFgplmm"
      },
      "source": [
        "# <font color=\"magenta\">RETO 5: Combinando operadores</font>"
      ]
    },
    {
      "cell_type": "markdown",
      "metadata": {
        "id": "5Oh6m_ODkgtR"
      },
      "source": [
        "Trata de resolver mentalmente estas expresiones:\n",
        "\n",
        "* 4 más 3 es mayor que 6 menos 1\n",
        "* 3 por 5 es distinto de 5 por 3\n",
        "\n",
        "A continuación tradúcelas al lenguaje Python en el IDLE,\n",
        "y comprueba si has acertado el resultado"
      ]
    },
    {
      "cell_type": "code",
      "metadata": {
        "colab": {
          "base_uri": "https://localhost:8080/"
        },
        "id": "oB5DgkyTkhoR",
        "outputId": "aa64b4a5-82e8-4360-f21b-c949e7ec3c5f"
      },
      "source": [
        "print(4+3 > 6-1) #7 > 5\n",
        "print(3*5 != 5*3) # 15 != 15"
      ],
      "execution_count": 4,
      "outputs": [
        {
          "output_type": "stream",
          "text": [
            "True\n",
            "False\n"
          ],
          "name": "stdout"
        }
      ]
    },
    {
      "cell_type": "markdown",
      "metadata": {
        "id": "8ZzIvcH2plpJ"
      },
      "source": [
        "# <font color=\"magenta\">RETO 6: Más práctica con los operadores</font>"
      ]
    },
    {
      "cell_type": "code",
      "metadata": {
        "colab": {
          "base_uri": "https://localhost:8080/"
        },
        "id": "1-xsmYBLl5T0",
        "outputId": "1e069dcd-cd75-4a67-b5c4-ae1d292f4eaa"
      },
      "source": [
        "print(2*3 + 2*5 == 3*3 + 9/3)\n",
        "# 6 + 10 = 16 || 9 + 3 = 12 || False"
      ],
      "execution_count": 5,
      "outputs": [
        {
          "output_type": "stream",
          "text": [
            "False\n"
          ],
          "name": "stdout"
        }
      ]
    },
    {
      "cell_type": "markdown",
      "metadata": {
        "id": "_b7t5VaIplpK"
      },
      "source": [
        "# <font color=\"magenta\">RETO 7: Los operadores lógicos</font>"
      ]
    },
    {
      "cell_type": "markdown",
      "metadata": {
        "id": "w4ip8YIMnKTe"
      },
      "source": [
        "Trata de resolver mentalmente estas expresiones:\n",
        "\n",
        "* 5 es mayor que 7 y 3 es menor que 4\n",
        "* 8 es mayor o igual que 6 y 9 es distinto de 7\n",
        "\n",
        "A continuación tradúcelas al lenguaje Python en el IDLE,\n",
        "y comprueba si has acertado el resultado."
      ]
    },
    {
      "cell_type": "code",
      "metadata": {
        "colab": {
          "base_uri": "https://localhost:8080/"
        },
        "id": "FsAnsuQVnQAW",
        "outputId": "ddbdef1d-c04a-4c19-dd8c-656a772b6ad9"
      },
      "source": [
        "print( (5>7) and (3<4)) # F & T = F\n",
        "print( (8>=6) and (9!=7)) # T & T = T"
      ],
      "execution_count": 6,
      "outputs": [
        {
          "output_type": "stream",
          "text": [
            "False\n",
            "True\n"
          ],
          "name": "stdout"
        }
      ]
    },
    {
      "cell_type": "markdown",
      "metadata": {
        "id": "K_L5veOLplrq"
      },
      "source": [
        "# <font color=\"magenta\">RETO 8: Más operadores lógicos</font>"
      ]
    },
    {
      "cell_type": "markdown",
      "metadata": {
        "id": "CkzZNdE3oG5b"
      },
      "source": [
        "Traduce estas expresiones al lenguaje python tratando de\n",
        "averiguar primero cuál es el resultado de ellas:\n",
        "\n",
        "* 2 más 2 es igual a 5 ó 4 es igual a 4\n",
        "* 3 por 2 es igual a 8 ó 5 es distinto de 5\n"
      ]
    },
    {
      "cell_type": "code",
      "metadata": {
        "colab": {
          "base_uri": "https://localhost:8080/"
        },
        "id": "LEi1G72toMiY",
        "outputId": "2c46ed46-855f-4251-a185-a50470c7ae03"
      },
      "source": [
        "print( (2+2==5) or (4==4)) # F or T = T\n",
        "print( (3*2 == 8) or (5 != 5)) # F & F = F"
      ],
      "execution_count": 7,
      "outputs": [
        {
          "output_type": "stream",
          "text": [
            "True\n",
            "False\n"
          ],
          "name": "stdout"
        }
      ]
    },
    {
      "cell_type": "markdown",
      "metadata": {
        "id": "cHA1fFpeplrq"
      },
      "source": [
        "# <font color=\"magenta\">RETO 9: Aún más operadores lógicos</font>"
      ]
    },
    {
      "cell_type": "markdown",
      "metadata": {
        "id": "gFyVYjO34asd"
      },
      "source": [
        "Traduce estas expresiones al lenguaje python tratando de\n",
        "averiguar primero cuál es el resultado de ellas:\n",
        "\n",
        "* No es que 6 sea mayor que 2\n",
        "* No es que 2 más 2 sea igual a 5"
      ]
    },
    {
      "cell_type": "code",
      "metadata": {
        "colab": {
          "base_uri": "https://localhost:8080/"
        },
        "id": "rBcd6bxF5Rxd",
        "outputId": "c04114b9-2f42-487a-cb49-f4d6657f8b2d"
      },
      "source": [
        "print(not 6 >2) # como es verdadero, saldrá F\n",
        "print(not 2+2 == 5) # como es falsa, saldrá T"
      ],
      "execution_count": 8,
      "outputs": [
        {
          "output_type": "stream",
          "text": [
            "False\n",
            "True\n"
          ],
          "name": "stdout"
        }
      ]
    },
    {
      "cell_type": "markdown",
      "metadata": {
        "id": "0w8wnsqmplue"
      },
      "source": [
        "# <font color=\"magenta\">RETO 10: Precedencia de los operadores</font>"
      ]
    },
    {
      "cell_type": "markdown",
      "metadata": {
        "id": "_cj40zY15qQ5"
      },
      "source": [
        "Traduce esta expresión al lenguaje python tal y como aparece.\n",
        "Luego vete resolviéndola por partes, según la precedencia de \n",
        "los operadores:\n",
        "\n",
        "No es que 3 más 3 sea mayor que 2 por 3"
      ]
    },
    {
      "cell_type": "code",
      "metadata": {
        "colab": {
          "base_uri": "https://localhost:8080/"
        },
        "id": "0Eab5dM95nQN",
        "outputId": "9239975b-7f29-4f25-af75-a800387187ce"
      },
      "source": [
        "print(not 3+3 > 2*3) # 6 > 6, falso ya que es igual, por lo que saldrá T"
      ],
      "execution_count": 9,
      "outputs": [
        {
          "output_type": "stream",
          "text": [
            "True\n"
          ],
          "name": "stdout"
        }
      ]
    },
    {
      "cell_type": "markdown",
      "metadata": {
        "id": "YnrdAlvwpluf"
      },
      "source": [
        "# <font color=\"magenta\">RETO 11: Más sobre la precedencia de los operadores</font>"
      ]
    },
    {
      "cell_type": "markdown",
      "metadata": {
        "id": "VLF1CNig6bk0"
      },
      "source": [
        "Traduce esta expresión al lenguaje python teniendo en cuenta\n",
        "la precedencia de los operadores:\n",
        "\n",
        "5 por 2 es mayor que 9 y no es que 3 sea mayor que 4\n",
        "\n",
        "1. not\n",
        "2. and\n",
        "3. or"
      ]
    },
    {
      "cell_type": "code",
      "metadata": {
        "colab": {
          "base_uri": "https://localhost:8080/"
        },
        "id": "t6P_w84u6lS6",
        "outputId": "5d035c4a-cb9b-4e83-ba69-b8c7ad95e004"
      },
      "source": [
        "print(5*2 >9 and not 3 >4) # T and T = T"
      ],
      "execution_count": 10,
      "outputs": [
        {
          "output_type": "stream",
          "text": [
            "True\n"
          ],
          "name": "stdout"
        }
      ]
    },
    {
      "cell_type": "markdown",
      "metadata": {
        "id": "tfVVKyGkplxU"
      },
      "source": [
        "# <font color=\"magenta\">RETO 12: Repasando la precedencia</font>"
      ]
    },
    {
      "cell_type": "code",
      "metadata": {
        "colab": {
          "base_uri": "https://localhost:8080/"
        },
        "id": "E0cC7Xm07wUF",
        "outputId": "281a4180-739f-4efd-c719-bdd4caddd3ef"
      },
      "source": [
        "1*1 == 2 and 2+2 == 3 or 3*1 != 4\n",
        "# 1 == 2 and 4 == 3 or 3 != 4\n",
        "# F and  F or T\n",
        "# F or T\n",
        "# T"
      ],
      "execution_count": 11,
      "outputs": [
        {
          "output_type": "execute_result",
          "data": {
            "text/plain": [
              "True"
            ]
          },
          "metadata": {
            "tags": []
          },
          "execution_count": 11
        }
      ]
    }
  ]
}