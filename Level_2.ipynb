{
  "nbformat": 4,
  "nbformat_minor": 0,
  "metadata": {
    "colab": {
      "name": "Level 2",
      "provenance": [],
      "authorship_tag": "ABX9TyMenHsw8w5eC4WPTuSNGX8K",
      "include_colab_link": true
    },
    "kernelspec": {
      "name": "python3",
      "display_name": "Python 3"
    }
  },
  "cells": [
    {
      "cell_type": "markdown",
      "metadata": {
        "id": "view-in-github",
        "colab_type": "text"
      },
      "source": [
        "<a href=\"https://colab.research.google.com/github/marinasb28/Python-Manuel/blob/main/Level_2.ipynb\" target=\"_parent\"><img src=\"https://colab.research.google.com/assets/colab-badge.svg\" alt=\"Open In Colab\"/></a>"
      ]
    },
    {
      "cell_type": "markdown",
      "metadata": {
        "id": "8t2TisN9plgQ"
      },
      "source": [
        "# <font color=\"magenta\">RETO 1: Las variables</font>"
      ]
    },
    {
      "cell_type": "markdown",
      "metadata": {
        "id": "cglw5HXYmtDI"
      },
      "source": [
        "1. Crea una variable con el precio de un juguete que es 15.\n",
        "2. Muestra su valor en pantalla.\n",
        "3. El precio baja a 12. Asigna el nuevo valor a la variable\n",
        "   que has creado.\n",
        "4. Muestra el nuevo valor por pantalla."
      ]
    },
    {
      "cell_type": "code",
      "metadata": {
        "colab": {
          "base_uri": "https://localhost:8080/"
        },
        "id": "_0ksodTApvXR",
        "outputId": "859ebb18-bcd1-432f-c74b-af92440bfdb4"
      },
      "source": [
        "juguete = 15\n",
        "print(\"Valor 1: {}\".format(juguete))\n",
        "juguete = 12\n",
        "print(\"Valor 2: {}\".format(juguete))"
      ],
      "execution_count": 11,
      "outputs": [
        {
          "output_type": "stream",
          "text": [
            "Valor 1: 15\n",
            "Valor 2: 12\n"
          ],
          "name": "stdout"
        }
      ]
    },
    {
      "cell_type": "markdown",
      "metadata": {
        "id": "eXx-oV-Hpljf"
      },
      "source": [
        "# <font color=\"magenta\">RETO 2: Usando las variables</font>"
      ]
    },
    {
      "cell_type": "markdown",
      "metadata": {
        "id": "KoHtf_zFqmKJ"
      },
      "source": [
        "1. Crea una variable \"caramelos\" con valor 5\n",
        "2. Crea una variable \"precio\" con valor 2\n",
        "3. Crea otra variable que calcule el coste de comprar los caramelos\n",
        "4. Muestra el valor del coste por pantalla.\n",
        "\n",
        "5. Cambia el número de caramelos a 8\n",
        "6. Cambia el precio a 3\n",
        "7. Calcula de nuevo el coste.\n",
        "8. Muestra el nuevo coste por pantalla."
      ]
    },
    {
      "cell_type": "code",
      "metadata": {
        "colab": {
          "base_uri": "https://localhost:8080/"
        },
        "id": "aDhIxb2bqeb5",
        "outputId": "09b84450-e405-4d2d-dcce-c99705a5da3b"
      },
      "source": [
        "caramelos = 5\n",
        "precio = 2\n",
        "total = caramelos * precio\n",
        "print(\"{} caramelos cuestan {}\".format(caramelos,total))\n",
        "caramelos = 8\n",
        "precio = 3\n",
        "total = caramelos * precio\n",
        "print(\"{} caramelos cuestan {}\".format(caramelos,total))\n"
      ],
      "execution_count": 12,
      "outputs": [
        {
          "output_type": "stream",
          "text": [
            "5 caramelos cuestan 10\n",
            "8 caramelos cuestan 24\n"
          ],
          "name": "stdout"
        }
      ]
    },
    {
      "cell_type": "markdown",
      "metadata": {
        "id": "Z33FhbyFpljg"
      },
      "source": [
        "# <font color=\"magenta\">RETO 3 & 4: Usando más variables & practicando con ellas</font>"
      ]
    },
    {
      "cell_type": "markdown",
      "metadata": {
        "id": "2J6Qe0KwrzVs"
      },
      "source": [
        "Utiliza variables para resolver estas operaciones:\n",
        "\n",
        "1. Tenemos 15 de ahorros.\n",
        "2. Nuestro abuelo nos da 10.\n",
        "3. Nos gastamos 2 en un helado.\n",
        "4. Nuestra tía nos da 5.\n",
        "5. Nos gastamos 7 en un juego.\n",
        "6. ¿Cuánto dinero tendremos?\n",
        "\n",
        "No importa la moneda que sea, puedes imaginarte que\n",
        "es cualquier moneda."
      ]
    },
    {
      "cell_type": "code",
      "metadata": {
        "colab": {
          "base_uri": "https://localhost:8080/"
        },
        "id": "a5Ryo-kyr0Yr",
        "outputId": "c57870a7-13de-45f3-cc4c-61210dc66f34"
      },
      "source": [
        "mi_dinero = 15\n",
        "din_abuelo = 10 # ahora tendría 25\n",
        "din_helado = 2 # ahora pasaría a 23\n",
        "din_tia = 5 # volvería a subir a 28\n",
        "din_juego = 7 # bajaría a 21\n",
        "total = 15+10-2+5-7\n",
        "print(total)"
      ],
      "execution_count": 13,
      "outputs": [
        {
          "output_type": "stream",
          "text": [
            "21\n"
          ],
          "name": "stdout"
        }
      ]
    },
    {
      "cell_type": "markdown",
      "metadata": {
        "id": "C7vWBGFgplmm"
      },
      "source": [
        "# <font color=\"magenta\">RETO 5: Los nombres de las variables</font>"
      ]
    },
    {
      "cell_type": "markdown",
      "metadata": {
        "id": "5Oh6m_ODkgtR"
      },
      "source": [
        "Elige un nombre para una variable que guarde el total de puntos\n",
        "en un juego, entre las que se ofrecen a continuación:\n",
        "\n",
        "* global\n",
        "* puntos-totales\n",
        "* @total\n",
        "* 1puntos\n",
        "* puntos_total\n",
        "\n",
        "De los 5 nombre, 4 son ilegales y uno sólamente es legal."
      ]
    },
    {
      "cell_type": "code",
      "metadata": {
        "id": "oB5DgkyTkhoR"
      },
      "source": [
        "# la única que es legal es puntos_total"
      ],
      "execution_count": 14,
      "outputs": []
    },
    {
      "cell_type": "markdown",
      "metadata": {
        "id": "8ZzIvcH2plpJ"
      },
      "source": [
        "# <font color=\"magenta\">RETO 6: Convención de los nombres</font>"
      ]
    },
    {
      "cell_type": "markdown",
      "metadata": {
        "id": "9NkR220YwZLp"
      },
      "source": [
        "Elige un nombre para una variable que guarde la capacidad de daño\n",
        "en el ataque de un personaje de un juego:\n",
        "\n",
        "daño,d,Ataque,número_ataque,capacidadAtaque,ataque\n",
        "\n",
        "De los 6 nombres, 5 no siguen la convención y sólo uno la sigue."
      ]
    },
    {
      "cell_type": "code",
      "metadata": {
        "id": "1-xsmYBLl5T0"
      },
      "source": [
        "# ataque"
      ],
      "execution_count": 15,
      "outputs": []
    },
    {
      "cell_type": "markdown",
      "metadata": {
        "id": "_b7t5VaIplpK"
      },
      "source": [
        "# <font color=\"magenta\">RETO 7: Asignar no es comparar</font>"
      ]
    },
    {
      "cell_type": "markdown",
      "metadata": {
        "id": "w4ip8YIMnKTe"
      },
      "source": [
        "Lleva a cabo las siguientes asignaciones y comparaciones y adivina el valor de la variable aula_completa en los dos casos siguientes:\n",
        "\n",
        "* alumnos = 30\n",
        "* sillas = 50\n",
        "* aula_completa = alumnos == sillas\n",
        "* aula_completa\n",
        "\n",
        "* nuevos_alumnos = 20\n",
        "* alumnos = alumnos + nuevos_alumnos\n",
        "* aula_completa = alumnos == sillas\n",
        "* aula_completa"
      ]
    },
    {
      "cell_type": "code",
      "metadata": {
        "colab": {
          "base_uri": "https://localhost:8080/"
        },
        "id": "FsAnsuQVnQAW",
        "outputId": "cbbe6cee-33b5-4dc9-e9ad-fb889c0c5d23"
      },
      "source": [
        "alumnos = 30\n",
        "sillas = 50\n",
        "aula_completa = alumnos == sillas # aula = False\n",
        "print(aula_completa)\n",
        "nuevos_alumnos = 20\n",
        "alumnos = alumnos + nuevos_alumnos\n",
        "aula_completa = alumnos == sillas # aula = True\n",
        "print(aula_completa)"
      ],
      "execution_count": 16,
      "outputs": [
        {
          "output_type": "stream",
          "text": [
            "False\n",
            "True\n"
          ],
          "name": "stdout"
        }
      ]
    },
    {
      "cell_type": "markdown",
      "metadata": {
        "id": "K_L5veOLplrq"
      },
      "source": [
        "# <font color=\"magenta\">RETO 8: Variables con valor lógico</font>"
      ]
    },
    {
      "cell_type": "markdown",
      "metadata": {
        "id": "CkzZNdE3oG5b"
      },
      "source": [
        "En un juego hay que conseguir 100 puntos entre los 2 niveles de que consta:\n",
        "\n",
        "En el nivel 1 tenemos 48 puntos, en el nivel 2 tenemos 62 puntos.\n",
        "\n",
        "Calcula los puntos conseguidos en el juego (y guarda el resultado en una variable).\n",
        "\n",
        "Crea otra variable cuyo valor sea el resultado de comparar si los puntos totales\n",
        "conseguidos son mayor o igual que los puntos a conseguir.\n",
        "Muestra su valor por pantalla.\n"
      ]
    },
    {
      "cell_type": "code",
      "metadata": {
        "colab": {
          "base_uri": "https://localhost:8080/"
        },
        "id": "LEi1G72toMiY",
        "outputId": "3ed84a59-47e8-4200-e224-d3e820877392"
      },
      "source": [
        "total = 100 # total d puntos que se deben conseguir\n",
        "level_1 = 48\n",
        "level_2 = 62\n",
        "resultado = (level_1+level_2) >= total\n",
        "print(resultado)"
      ],
      "execution_count": 17,
      "outputs": [
        {
          "output_type": "stream",
          "text": [
            "True\n"
          ],
          "name": "stdout"
        }
      ]
    },
    {
      "cell_type": "markdown",
      "metadata": {
        "id": "cHA1fFpeplrq"
      },
      "source": [
        "# <font color=\"magenta\">RETO 9: Más ejercicios con variables</font>"
      ]
    },
    {
      "cell_type": "markdown",
      "metadata": {
        "id": "gFyVYjO34asd"
      },
      "source": [
        "Nos dan un dato: 3 días.\n",
        "\n",
        "Convierte este dato a horas y luego a minutos, y almacena\n",
        "cada uno de los datos en una variable."
      ]
    },
    {
      "cell_type": "code",
      "metadata": {
        "colab": {
          "base_uri": "https://localhost:8080/"
        },
        "id": "rBcd6bxF5Rxd",
        "outputId": "0f4cfd50-c4f9-44a0-aa20-cf6c19cd3e83"
      },
      "source": [
        "dia = 3\n",
        "horas_dia = 24\n",
        "r1 = 3*24\n",
        "r2 = r1*60\n",
        "print(\"{} días tienen {}h y {}min.\".format(dia,r1,r2))"
      ],
      "execution_count": 18,
      "outputs": [
        {
          "output_type": "stream",
          "text": [
            "3 días tienen 72h y 4320min.\n"
          ],
          "name": "stdout"
        }
      ]
    },
    {
      "cell_type": "markdown",
      "metadata": {
        "id": "0w8wnsqmplue"
      },
      "source": [
        "# <font color=\"magenta\">RETO 10: Intercambiando valores</font>"
      ]
    },
    {
      "cell_type": "markdown",
      "metadata": {
        "id": "_cj40zY15qQ5"
      },
      "source": [
        "Tenemos dos variables:\n",
        "\n",
        "juan = 200\n",
        "\n",
        "maria = 15\n",
        "\n",
        "Intenta cambiar el valor de una variable por el valor de la otra,\n",
        "sin declararlas de nuevo, sino cogiendo el valor de la otra."
      ]
    },
    {
      "cell_type": "code",
      "metadata": {
        "colab": {
          "base_uri": "https://localhost:8080/"
        },
        "id": "0Eab5dM95nQN",
        "outputId": "7e97f922-bb46-4d6a-c0a0-3263e524bec9"
      },
      "source": [
        "#declaramos las variables originales\n",
        "juan , maria = 200,13\n",
        "print(\"Antes de: juan = {} & maria = {}\".format(juan,maria))\n",
        "cambio = maria # guardamos el valor de maria\n",
        "maria = juan # ahora maria vale lo que juan\n",
        "juan = cambio\n",
        "print(\"Ahora: juan = {} & maria = {}\".format(juan,maria))"
      ],
      "execution_count": 19,
      "outputs": [
        {
          "output_type": "stream",
          "text": [
            "Antes de: juan = 200 & maria = 13\n",
            "Ahora: juan = 13 & maria = 200\n"
          ],
          "name": "stdout"
        }
      ]
    },
    {
      "cell_type": "markdown",
      "metadata": {
        "id": "YnrdAlvwpluf"
      },
      "source": [
        "# <font color=\"magenta\">RETO 11: Asignaciones múltiples</font>"
      ]
    },
    {
      "cell_type": "code",
      "metadata": {
        "colab": {
          "base_uri": "https://localhost:8080/"
        },
        "id": "g2Ak6xFT6jtx",
        "outputId": "0920bdf2-ad66-42ab-cd12-872ad4d54c9b"
      },
      "source": [
        "#declaramos las variables originales\n",
        "juan , maria = 200,13\n",
        "print(\"Antes de: juan = {} & maria = {}\".format(juan,maria))\n",
        "juan, maria = maria, juan\n",
        "print(\"Ahora: juan = {} & maria = {}\".format(juan,maria))"
      ],
      "execution_count": 20,
      "outputs": [
        {
          "output_type": "stream",
          "text": [
            "Antes de: juan = 200 & maria = 13\n",
            "Ahora: juan = 13 & maria = 200\n"
          ],
          "name": "stdout"
        }
      ]
    }
  ]
}