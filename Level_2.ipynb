{
  "nbformat": 4,
  "nbformat_minor": 0,
  "metadata": {
    "colab": {
      "name": "Level 2",
      "provenance": [],
      "authorship_tag": "ABX9TyPS9an+ilNjQ9j5ungDs+EV",
      "include_colab_link": true
    },
    "kernelspec": {
      "name": "python3",
      "display_name": "Python 3"
    }
  },
  "cells": [
    {
      "cell_type": "markdown",
      "metadata": {
        "id": "view-in-github",
        "colab_type": "text"
      },
      "source": [
        "<a href=\"https://colab.research.google.com/github/marinasb28/Python-Manuel/blob/main/Level_2.ipynb\" target=\"_parent\"><img src=\"https://colab.research.google.com/assets/colab-badge.svg\" alt=\"Open In Colab\"/></a>"
      ]
    },
    {
      "cell_type": "markdown",
      "metadata": {
        "id": "8t2TisN9plgQ"
      },
      "source": [
        "# <font color=\"magenta\">RETO 1: Las variables</font>"
      ]
    },
    {
      "cell_type": "markdown",
      "metadata": {
        "id": "cglw5HXYmtDI"
      },
      "source": [
        "1. Crea una variable con el precio de un juguete que es 15.\n",
        "2. Muestra su valor en pantalla.\n",
        "3. El precio baja a 12. Asigna el nuevo valor a la variable\n",
        "   que has creado.\n",
        "4. Muestra el nuevo valor por pantalla."
      ]
    },
    {
      "cell_type": "code",
      "metadata": {
        "colab": {
          "base_uri": "https://localhost:8080/"
        },
        "id": "_0ksodTApvXR",
        "outputId": "3854acab-ddfd-4e9f-cb5f-ccad8a8b66f7"
      },
      "source": [
        "juguete = 15\n",
        "print(\"Valor 1: {}\".format(juguete))\n",
        "juguete = 12\n",
        "print(\"Valor 2: {}\".format(juguete))"
      ],
      "execution_count": 2,
      "outputs": [
        {
          "output_type": "stream",
          "text": [
            "Valor 1: 15\n",
            "Valor 2: 12\n"
          ],
          "name": "stdout"
        }
      ]
    },
    {
      "cell_type": "markdown",
      "metadata": {
        "id": "eXx-oV-Hpljf"
      },
      "source": [
        "# <font color=\"magenta\">RETO 2: Usando las variables</font>"
      ]
    },
    {
      "cell_type": "markdown",
      "metadata": {
        "id": "KoHtf_zFqmKJ"
      },
      "source": [
        "1. Crea una variable \"caramelos\" con valor 5\n",
        "2. Crea una variable \"precio\" con valor 2\n",
        "3. Crea otra variable que calcule el coste de comprar los caramelos\n",
        "4. Muestra el valor del coste por pantalla.\n",
        "\n",
        "5. Cambia el número de caramelos a 8\n",
        "6. Cambia el precio a 3\n",
        "7. Calcula de nuevo el coste.\n",
        "8. Muestra el nuevo coste por pantalla."
      ]
    },
    {
      "cell_type": "code",
      "metadata": {
        "colab": {
          "base_uri": "https://localhost:8080/"
        },
        "id": "aDhIxb2bqeb5",
        "outputId": "7b194af4-ce40-4757-a80a-e5e0988afe65"
      },
      "source": [
        "caramelos = 5\n",
        "precio = 2\n",
        "total = caramelos * precio\n",
        "print(\"{} caramelos cuestan {}\".format(caramelos,total))\n",
        "caramelos = 8\n",
        "precio = 3\n",
        "total = caramelos * precio\n",
        "print(\"{} caramelos cuestan {}\".format(caramelos,total))\n"
      ],
      "execution_count": 4,
      "outputs": [
        {
          "output_type": "stream",
          "text": [
            "5 caramelos cuestan 10\n",
            "8 caramelos cuestan 24\n"
          ],
          "name": "stdout"
        }
      ]
    },
    {
      "cell_type": "markdown",
      "metadata": {
        "id": "Z33FhbyFpljg"
      },
      "source": [
        "# <font color=\"magenta\">RETO 3 & 4: Usando más variables & practicando con ellas</font>"
      ]
    },
    {
      "cell_type": "markdown",
      "metadata": {
        "id": "2J6Qe0KwrzVs"
      },
      "source": [
        "Utiliza variables para resolver estas operaciones:\n",
        "\n",
        "1. Tenemos 15 de ahorros.\n",
        "2. Nuestro abuelo nos da 10.\n",
        "3. Nos gastamos 2 en un helado.\n",
        "4. Nuestra tía nos da 5.\n",
        "5. Nos gastamos 7 en un juego.\n",
        "6. ¿Cuánto dinero tendremos?\n",
        "\n",
        "No importa la moneda que sea, puedes imaginarte que\n",
        "es cualquier moneda."
      ]
    },
    {
      "cell_type": "code",
      "metadata": {
        "colab": {
          "base_uri": "https://localhost:8080/"
        },
        "id": "a5Ryo-kyr0Yr",
        "outputId": "636c1815-c8b3-4e33-887d-6f273773fdfa"
      },
      "source": [
        "mi_dinero = 15\n",
        "din_abuelo = 10 # ahora tendría 25\n",
        "din_helado = 2 # ahora pasaría a 23\n",
        "din_tia = 5 # volvería a subir a 28\n",
        "din_juego = 7 # bajaría a 21\n",
        "total = 15+10-2+5-7\n",
        "print(total)"
      ],
      "execution_count": 5,
      "outputs": [
        {
          "output_type": "stream",
          "text": [
            "21\n"
          ],
          "name": "stdout"
        }
      ]
    },
    {
      "cell_type": "markdown",
      "metadata": {
        "id": "C7vWBGFgplmm"
      },
      "source": [
        "# <font color=\"magenta\">RETO 5: Los nombres de las variables</font>"
      ]
    },
    {
      "cell_type": "markdown",
      "metadata": {
        "id": "5Oh6m_ODkgtR"
      },
      "source": [
        "Elige un nombre para una variable que guarde el total de puntos\n",
        "en un juego, entre las que se ofrecen a continuación:\n",
        "\n",
        "* global\n",
        "* puntos-totales\n",
        "* @total\n",
        "* 1puntos\n",
        "* puntos_total\n",
        "\n",
        "De los 5 nombre, 4 son ilegales y uno sólamente es legal."
      ]
    },
    {
      "cell_type": "code",
      "metadata": {
        "id": "oB5DgkyTkhoR"
      },
      "source": [
        "# la única que es legal es puntos_total"
      ],
      "execution_count": 6,
      "outputs": []
    },
    {
      "cell_type": "markdown",
      "metadata": {
        "id": "8ZzIvcH2plpJ"
      },
      "source": [
        "# <font color=\"magenta\">RETO 6: Convención de los nombres</font>"
      ]
    },
    {
      "cell_type": "code",
      "metadata": {
        "colab": {
          "base_uri": "https://localhost:8080/"
        },
        "id": "1-xsmYBLl5T0",
        "outputId": "1e069dcd-cd75-4a67-b5c4-ae1d292f4eaa"
      },
      "source": [
        "print(2*3 + 2*5 == 3*3 + 9/3)\n",
        "# 6 + 10 = 16 || 9 + 3 = 12 || False"
      ],
      "execution_count": null,
      "outputs": [
        {
          "output_type": "stream",
          "text": [
            "False\n"
          ],
          "name": "stdout"
        }
      ]
    },
    {
      "cell_type": "markdown",
      "metadata": {
        "id": "_b7t5VaIplpK"
      },
      "source": [
        "# <font color=\"magenta\">RETO 7: Asignar no es comparar</font>"
      ]
    },
    {
      "cell_type": "markdown",
      "metadata": {
        "id": "w4ip8YIMnKTe"
      },
      "source": [
        "Trata de resolver mentalmente estas expresiones:\n",
        "\n",
        "* 5 es mayor que 7 y 3 es menor que 4\n",
        "* 8 es mayor o igual que 6 y 9 es distinto de 7\n",
        "\n",
        "A continuación tradúcelas al lenguaje Python en el IDLE,\n",
        "y comprueba si has acertado el resultado."
      ]
    },
    {
      "cell_type": "code",
      "metadata": {
        "colab": {
          "base_uri": "https://localhost:8080/"
        },
        "id": "FsAnsuQVnQAW",
        "outputId": "ddbdef1d-c04a-4c19-dd8c-656a772b6ad9"
      },
      "source": [
        "print( (5>7) and (3<4)) # F & T = F\n",
        "print( (8>=6) and (9!=7)) # T & T = T"
      ],
      "execution_count": null,
      "outputs": [
        {
          "output_type": "stream",
          "text": [
            "False\n",
            "True\n"
          ],
          "name": "stdout"
        }
      ]
    },
    {
      "cell_type": "markdown",
      "metadata": {
        "id": "K_L5veOLplrq"
      },
      "source": [
        "# <font color=\"magenta\">RETO 8: Variables con valor lógico</font>"
      ]
    },
    {
      "cell_type": "markdown",
      "metadata": {
        "id": "CkzZNdE3oG5b"
      },
      "source": [
        "Traduce estas expresiones al lenguaje python tratando de\n",
        "averiguar primero cuál es el resultado de ellas:\n",
        "\n",
        "* 2 más 2 es igual a 5 ó 4 es igual a 4\n",
        "* 3 por 2 es igual a 8 ó 5 es distinto de 5\n"
      ]
    },
    {
      "cell_type": "code",
      "metadata": {
        "colab": {
          "base_uri": "https://localhost:8080/"
        },
        "id": "LEi1G72toMiY",
        "outputId": "2c46ed46-855f-4251-a185-a50470c7ae03"
      },
      "source": [
        "print( (2+2==5) or (4==4)) # F or T = T\n",
        "print( (3*2 == 8) or (5 != 5)) # F & F = F"
      ],
      "execution_count": null,
      "outputs": [
        {
          "output_type": "stream",
          "text": [
            "True\n",
            "False\n"
          ],
          "name": "stdout"
        }
      ]
    },
    {
      "cell_type": "markdown",
      "metadata": {
        "id": "cHA1fFpeplrq"
      },
      "source": [
        "# <font color=\"magenta\">RETO 9: Más ejercicios con variables</font>"
      ]
    },
    {
      "cell_type": "markdown",
      "metadata": {
        "id": "gFyVYjO34asd"
      },
      "source": [
        "Traduce estas expresiones al lenguaje python tratando de\n",
        "averiguar primero cuál es el resultado de ellas:\n",
        "\n",
        "* No es que 6 sea mayor que 2\n",
        "* No es que 2 más 2 sea igual a 5"
      ]
    },
    {
      "cell_type": "code",
      "metadata": {
        "colab": {
          "base_uri": "https://localhost:8080/"
        },
        "id": "rBcd6bxF5Rxd",
        "outputId": "c04114b9-2f42-487a-cb49-f4d6657f8b2d"
      },
      "source": [
        "print(not 6 >2) # como es verdadero, saldrá F\n",
        "print(not 2+2 == 5) # como es falsa, saldrá T"
      ],
      "execution_count": null,
      "outputs": [
        {
          "output_type": "stream",
          "text": [
            "False\n",
            "True\n"
          ],
          "name": "stdout"
        }
      ]
    },
    {
      "cell_type": "markdown",
      "metadata": {
        "id": "0w8wnsqmplue"
      },
      "source": [
        "# <font color=\"magenta\">RETO 10: Intercambiando valores</font>"
      ]
    },
    {
      "cell_type": "markdown",
      "metadata": {
        "id": "_cj40zY15qQ5"
      },
      "source": [
        "Traduce esta expresión al lenguaje python tal y como aparece.\n",
        "Luego vete resolviéndola por partes, según la precedencia de \n",
        "los operadores:\n",
        "\n",
        "No es que 3 más 3 sea mayor que 2 por 3"
      ]
    },
    {
      "cell_type": "code",
      "metadata": {
        "colab": {
          "base_uri": "https://localhost:8080/"
        },
        "id": "0Eab5dM95nQN",
        "outputId": "9239975b-7f29-4f25-af75-a800387187ce"
      },
      "source": [
        "print(not 3+3 > 2*3) # 6 > 6, falso ya que es igual, por lo que saldrá T"
      ],
      "execution_count": null,
      "outputs": [
        {
          "output_type": "stream",
          "text": [
            "True\n"
          ],
          "name": "stdout"
        }
      ]
    },
    {
      "cell_type": "markdown",
      "metadata": {
        "id": "YnrdAlvwpluf"
      },
      "source": [
        "# <font color=\"magenta\">RETO 11: Asignaciones múltiples</font>"
      ]
    },
    {
      "cell_type": "markdown",
      "metadata": {
        "id": "VLF1CNig6bk0"
      },
      "source": [
        "Traduce esta expresión al lenguaje python teniendo en cuenta\n",
        "la precedencia de los operadores:\n",
        "\n",
        "5 por 2 es mayor que 9 y no es que 3 sea mayor que 4\n",
        "\n",
        "1. not\n",
        "2. and\n",
        "3. or"
      ]
    },
    {
      "cell_type": "code",
      "metadata": {
        "colab": {
          "base_uri": "https://localhost:8080/"
        },
        "id": "t6P_w84u6lS6",
        "outputId": "5d035c4a-cb9b-4e83-ba69-b8c7ad95e004"
      },
      "source": [
        "print(5*2 >9 and not 3 >4) # T and T = T"
      ],
      "execution_count": null,
      "outputs": [
        {
          "output_type": "stream",
          "text": [
            "True\n"
          ],
          "name": "stdout"
        }
      ]
    }
  ]
}