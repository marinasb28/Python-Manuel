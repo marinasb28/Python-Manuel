{
  "nbformat": 4,
  "nbformat_minor": 0,
  "metadata": {
    "colab": {
      "name": "Level 6",
      "provenance": [],
      "collapsed_sections": [
        "8t2TisN9plgQ",
        "eXx-oV-Hpljf",
        "Z33FhbyFpljg",
        "4BqsA3t3qrQY",
        "C7vWBGFgplmm",
        "8ZzIvcH2plpJ",
        "_b7t5VaIplpK",
        "K_L5veOLplrq",
        "cHA1fFpeplrq",
        "0w8wnsqmplue"
      ],
      "authorship_tag": "ABX9TyPrIhEHrTPr364NMp9hwlql",
      "include_colab_link": true
    },
    "kernelspec": {
      "name": "python3",
      "display_name": "Python 3"
    }
  },
  "cells": [
    {
      "cell_type": "markdown",
      "metadata": {
        "id": "view-in-github",
        "colab_type": "text"
      },
      "source": [
        "<a href=\"https://colab.research.google.com/github/marinasb28/Python-Manuel/blob/main/Level_6.ipynb\" target=\"_parent\"><img src=\"https://colab.research.google.com/assets/colab-badge.svg\" alt=\"Open In Colab\"/></a>"
      ]
    },
    {
      "cell_type": "markdown",
      "metadata": {
        "id": "8t2TisN9plgQ"
      },
      "source": [
        "# <font color=\"magenta\">RETO 1: Mientras</font>"
      ]
    },
    {
      "cell_type": "markdown",
      "metadata": {
        "id": "cglw5HXYmtDI"
      },
      "source": [
        "Haz un programa que muestre en pantalla una secuencia de números del 20 al 0.\n",
        "\n",
        "Utiliza un bucle while.\n"
      ]
    },
    {
      "cell_type": "code",
      "metadata": {
        "colab": {
          "base_uri": "https://localhost:8080/"
        },
        "id": "_0ksodTApvXR",
        "outputId": "deeea9a6-5ee5-4b92-82b2-5e9e90fb3dc8"
      },
      "source": [
        "counter = 20\n",
        "while 0<=counter:\n",
        "  print(counter)\n",
        "  counter -=1"
      ],
      "execution_count": 3,
      "outputs": [
        {
          "output_type": "stream",
          "text": [
            "20\n",
            "19\n",
            "18\n",
            "17\n",
            "16\n",
            "15\n",
            "14\n",
            "13\n",
            "12\n",
            "11\n",
            "10\n",
            "9\n",
            "8\n",
            "7\n",
            "6\n",
            "5\n",
            "4\n",
            "3\n",
            "2\n",
            "1\n",
            "0\n"
          ],
          "name": "stdout"
        }
      ]
    },
    {
      "cell_type": "markdown",
      "metadata": {
        "id": "eXx-oV-Hpljf"
      },
      "source": [
        "# <font color=\"magenta\">RETO 2: Hasta que queramos</font>"
      ]
    },
    {
      "cell_type": "markdown",
      "metadata": {
        "id": "KoHtf_zFqmKJ"
      },
      "source": [
        "Haz un programa que te pide que introduzcas un número que esté entre el 10 y el 20.\n",
        "\n",
        "Si es correcto que te diga que estás en el rango, y te pida otro.\n",
        "Así, hasta que le des un número fuera del rango y se acabe el programa.\n"
      ]
    },
    {
      "cell_type": "code",
      "metadata": {
        "colab": {
          "base_uri": "https://localhost:8080/"
        },
        "id": "aDhIxb2bqeb5",
        "outputId": "3ad3b7bd-5a88-41b6-f891-07b9eec75584"
      },
      "source": [
        "num = int(input(\"Escribe un número: \"))\n",
        "while 10<=num<=20:\n",
        "  print(\"OK!Now type another number.\")\n",
        "  num = int(input(\"Type: \"))\n",
        "print(\"It's not in the range.Bye!\")"
      ],
      "execution_count": 5,
      "outputs": [
        {
          "output_type": "stream",
          "text": [
            "Escribe un número: 10\n",
            "OK!Now type another number.\n",
            "Type: 13\n",
            "OK!Now type another number.\n",
            "Type: 20\n",
            "OK!Now type another number.\n",
            "Type: 21\n",
            "It's not in the range.Bye!\n"
          ],
          "name": "stdout"
        }
      ]
    },
    {
      "cell_type": "markdown",
      "metadata": {
        "id": "Z33FhbyFpljg"
      },
      "source": [
        "# <font color=\"magenta\">RETO 3: Usando un contador</font>"
      ]
    },
    {
      "cell_type": "markdown",
      "metadata": {
        "id": "2J6Qe0KwrzVs"
      },
      "source": [
        "Haz un programa que te pide adivines un número del 1 al 10\n",
        "y te pida números constantemente hasta que lo adivines.\n",
        "Añade un contador que te diga los intentos que has necesitado.\n",
        "\n",
        "Conviene que crees tres varialbes, y utiliza una estructura \"while-else\""
      ]
    },
    {
      "cell_type": "code",
      "metadata": {
        "colab": {
          "base_uri": "https://localhost:8080/"
        },
        "id": "a5Ryo-kyr0Yr",
        "outputId": "2ddeeaf6-c7f3-4d9a-a1b6-603738d7e691"
      },
      "source": [
        "magic_num = int(input(\"Type a number (1-10): \"))\n",
        "print(\"Now try guessing the number. \")\n",
        "guess_num = int(input(\"Try guessing: \"))\n",
        "guess = 1\n",
        "while magic_num != guess_num:\n",
        "  print(\"{} guesses.\".format(guess))\n",
        "  guess_num = int(input(\"Try guessing: \"))\n",
        "  guess +=1\n",
        "print(\"You won!{} guesses.\".format(guess))"
      ],
      "execution_count": 8,
      "outputs": [
        {
          "output_type": "stream",
          "text": [
            "Type a number (1-10): 1\n",
            "Now try guessing the number. \n",
            "Try guessing: 2\n",
            "1 guesses.\n",
            "Try guessing: 3\n",
            "2 guesses.\n",
            "Try guessing: 4\n",
            "3 guesses.\n",
            "Try guessing: 1\n",
            "You won!4 guesses.\n"
          ],
          "name": "stdout"
        }
      ]
    },
    {
      "cell_type": "markdown",
      "metadata": {
        "id": "4BqsA3t3qrQY"
      },
      "source": [
        "# <font color=\"magenta\">RETO 4: Operadores de assignación compuestos</font>"
      ]
    },
    {
      "cell_type": "markdown",
      "metadata": {
        "id": "SdcCUfgEwEGo"
      },
      "source": [
        "Escribe en la consola de Python las siguientes asignaciones:\n",
        "\n",
        "x = 1\n",
        "\n",
        "y = 2\n",
        "\n",
        "x += y\n",
        "\n",
        "Adivina qué valor tiene x en la última asignación antes de comprobarlo."
      ]
    },
    {
      "cell_type": "code",
      "metadata": {
        "colab": {
          "base_uri": "https://localhost:8080/"
        },
        "id": "BXno4kMVwDu7",
        "outputId": "c671e0f5-b64d-4a90-f576-c2ee5dbcde78"
      },
      "source": [
        "x = 1\n",
        "y = 2\n",
        "x +=y # x tendrá el valor de 3\n",
        "print(x)"
      ],
      "execution_count": 10,
      "outputs": [
        {
          "output_type": "stream",
          "text": [
            "3\n"
          ],
          "name": "stdout"
        }
      ]
    },
    {
      "cell_type": "markdown",
      "metadata": {
        "id": "C7vWBGFgplmm"
      },
      "source": [
        "# <font color=\"magenta\">RETO 5: Sumando números de un intervalo</font>"
      ]
    },
    {
      "cell_type": "markdown",
      "metadata": {
        "id": "5Oh6m_ODkgtR"
      },
      "source": [
        "Haz un programa que suma los números pares que hay entre el 1 y el 20.\n",
        "\n",
        "Puedes hacer la comprobación con el código:\n",
        "\n",
        "comprobacion = 2+4+6+8+10+12+14+16+18+20\n",
        "\n",
        "print(comprobacion)"
      ]
    },
    {
      "cell_type": "code",
      "metadata": {
        "id": "oB5DgkyTkhoR",
        "colab": {
          "base_uri": "https://localhost:8080/"
        },
        "outputId": "a554bde8-a2f0-414f-e029-018f807ffca0"
      },
      "source": [
        "num = 1\n",
        "sum = 0\n",
        "while num<=20:\n",
        "  if num%2 ==0:\n",
        "    sum += num\n",
        "  else:\n",
        "    sum += 0 # no hará nada\n",
        "  num += 1\n",
        "print(\"La suma de todos los pares = {}.\".format(sum))"
      ],
      "execution_count": 13,
      "outputs": [
        {
          "output_type": "stream",
          "text": [
            "La suma de todos los pares = 110.\n"
          ],
          "name": "stdout"
        }
      ]
    },
    {
      "cell_type": "code",
      "metadata": {
        "colab": {
          "base_uri": "https://localhost:8080/"
        },
        "id": "9PaRsh4Og0vg",
        "outputId": "42a9010a-f1cf-4f78-a8c4-e36adf8f40a2"
      },
      "source": [
        "comprobacion = 2+4+6+8+10+12+14+16+18+20\n",
        "\n",
        "print(comprobacion)"
      ],
      "execution_count": 12,
      "outputs": [
        {
          "output_type": "stream",
          "text": [
            "110\n"
          ],
          "name": "stdout"
        }
      ]
    },
    {
      "cell_type": "markdown",
      "metadata": {
        "id": "8ZzIvcH2plpJ"
      },
      "source": [
        "# <font color=\"magenta\">RETO 6: Todos los pares</font>"
      ]
    },
    {
      "cell_type": "markdown",
      "metadata": {
        "id": "5zGeZ5H36qBd"
      },
      "source": [
        "Haz un programa que pide un número de inicio y un número de final al usuario.\n",
        "Luego suma todos los números múltiplos de 3 que hay entre ellos.\n",
        "\n",
        "Haz una prueba con número de inicio 119 y número final 134.\n",
        "Y luego comprueba que da el mismo resultado que:\n",
        " \n",
        "comprobación = 120+123+126+129+132\n",
        "\n",
        "print(comprobacion)"
      ]
    },
    {
      "cell_type": "code",
      "metadata": {
        "colab": {
          "base_uri": "https://localhost:8080/"
        },
        "id": "5hn-0Gk-6qBu",
        "outputId": "37c0c431-3fad-42df-b703-2bfe8ebaa43c"
      },
      "source": [
        "start = int(input(\"Num de inicio: \"))\n",
        "end = int(input(\"Num de final: \"))\n",
        "sum = 0\n",
        "while start <=end:\n",
        "  if start%3 == 0:\n",
        "    sum += start\n",
        "  else:\n",
        "    sum += 0\n",
        "  start += 1\n",
        "print(sum)"
      ],
      "execution_count": 14,
      "outputs": [
        {
          "output_type": "stream",
          "text": [
            "Num de inicio: 119\n",
            "Num de final: 134\n",
            "630\n"
          ],
          "name": "stdout"
        }
      ]
    },
    {
      "cell_type": "code",
      "metadata": {
        "colab": {
          "base_uri": "https://localhost:8080/"
        },
        "id": "CwFTIDHMjZCW",
        "outputId": "78464976-e278-4579-8c39-20436dbb080c"
      },
      "source": [
        "comprobacion = 120+123+126+129+132\n",
        "\n",
        "print(comprobacion)"
      ],
      "execution_count": 16,
      "outputs": [
        {
          "output_type": "stream",
          "text": [
            "630\n"
          ],
          "name": "stdout"
        }
      ]
    },
    {
      "cell_type": "markdown",
      "metadata": {
        "id": "_b7t5VaIplpK"
      },
      "source": [
        "# <font color=\"magenta\">RETO 7: Introduce la contraseña</font>"
      ]
    },
    {
      "cell_type": "markdown",
      "metadata": {
        "id": "w4ip8YIMnKTe"
      },
      "source": [
        "Haz un programa que te pide el usuario y la contraseña y te los sigue\n",
        "pidiendo hasta que no pongas los dos correctamente."
      ]
    },
    {
      "cell_type": "code",
      "metadata": {
        "colab": {
          "base_uri": "https://localhost:8080/"
        },
        "id": "FsAnsuQVnQAW",
        "outputId": "c0162068-fc97-4e4e-c750-9b089c6fe9b2"
      },
      "source": [
        "user = input(\"user name: \")\n",
        "password = input(\"type the password: \")\n",
        "\n",
        "user_2 = input(\"user: \")\n",
        "password_2 = input(\"password: \")\n",
        "while (user != user_2) or (password != password_2):\n",
        "  if user == user_2:\n",
        "    print(\"You wrote the password wrong.Try again.\")\n",
        "  elif password == password_2:\n",
        "    print(\"You wrote the user name wrong. Try again.\")\n",
        "  else:\n",
        "    print(\"You typed both wrongly, try again.\")\n",
        "  user_2 = input(\"user: \")\n",
        "  password_2 = input(\"password: \")\n",
        "print(\"{} & {}.\".format(user_2,password_2))"
      ],
      "execution_count": 18,
      "outputs": [
        {
          "output_type": "stream",
          "text": [
            "user name: marina\n",
            "type the password: 1234\n",
            "user: Marina\n",
            "password: 1234\n",
            "You wrote the user name wrong. Try again.\n",
            "user: marina\n",
            "password: 12345\n",
            "You wrote the password wrong.Try again.\n",
            "user: Marina\n",
            "password: 2313\n",
            "You typed both wrongly, try again.\n",
            "user: marina\n",
            "password: 1234\n",
            "marina & 1234.\n"
          ],
          "name": "stdout"
        }
      ]
    },
    {
      "cell_type": "markdown",
      "metadata": {
        "id": "K_L5veOLplrq"
      },
      "source": [
        "# <font color=\"magenta\">RETO 8: Plantando una bandera</font>"
      ]
    },
    {
      "cell_type": "markdown",
      "metadata": {
        "id": "CkzZNdE3oG5b"
      },
      "source": [
        "Haz un juego que pregunta un número del 1 al 5 y luego una vocal.\n",
        "\n",
        "Tienes 100 puntos, si aciertas uno de los datos te quita 2 puntos,\n",
        "si no aciertas ninguno de los dos datos (número y vocal) te quita 5 puntos.\n",
        "\n",
        "El programa no se acaba hasta que aciertas los dos.\n",
        "\n",
        "Cuando se acaba el programa te dice los puntos que te quedan.\n"
      ]
    },
    {
      "cell_type": "code",
      "metadata": {
        "colab": {
          "base_uri": "https://localhost:8080/"
        },
        "id": "LEi1G72toMiY",
        "outputId": "204f07c1-f4c3-4952-9fc0-b841c37e307e"
      },
      "source": [
        "num = 3\n",
        "vocal = \"m\"\n",
        "puntos = 100\n",
        "bandera = False\n",
        "while not bandera: \n",
        "  guess_n = int(input(\"Escribe un número: \"))\n",
        "  guess_v = input(\"Escribe una vocal: \")\n",
        "  if (guess_n != num) or (guess_v != vocal):\n",
        "    puntos -=2\n",
        "    print(puntos)\n",
        "  elif (guess_n != num) and (guess_v != vocal):\n",
        "    puntos -= 5\n",
        "    print(puntos)\n",
        "  else:\n",
        "    print(\"Both are right!\")\n",
        "    bandera = True\n",
        "print(\"FIN\")\n",
        "print(puntos)"
      ],
      "execution_count": 26,
      "outputs": [
        {
          "output_type": "stream",
          "text": [
            "Escribe un número: 4\n",
            "Escribe una vocal: r\n",
            "98\n",
            "Escribe un número: 3\n",
            "Escribe una vocal: r\n",
            "96\n",
            "Escribe un número: 3\n",
            "Escribe una vocal: m\n",
            "Both are right!\n",
            "FIN\n",
            "96\n"
          ],
          "name": "stdout"
        }
      ]
    },
    {
      "cell_type": "markdown",
      "metadata": {
        "id": "cHA1fFpeplrq"
      },
      "source": [
        "# <font color=\"magenta\">RETO 9: Número y letra</font>"
      ]
    }
  ]
}