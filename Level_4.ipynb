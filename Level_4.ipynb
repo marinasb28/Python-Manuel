{
  "nbformat": 4,
  "nbformat_minor": 0,
  "metadata": {
    "colab": {
      "name": "Level 4",
      "provenance": [],
      "collapsed_sections": [
        "8t2TisN9plgQ",
        "eXx-oV-Hpljf",
        "Z33FhbyFpljg",
        "4BqsA3t3qrQY",
        "C7vWBGFgplmm",
        "8ZzIvcH2plpJ",
        "_b7t5VaIplpK",
        "K_L5veOLplrq",
        "cHA1fFpeplrq",
        "0w8wnsqmplue"
      ],
      "authorship_tag": "ABX9TyOwKhLIrAaPWho+N/UCdg6Z",
      "include_colab_link": true
    },
    "kernelspec": {
      "name": "python3",
      "display_name": "Python 3"
    }
  },
  "cells": [
    {
      "cell_type": "markdown",
      "metadata": {
        "id": "view-in-github",
        "colab_type": "text"
      },
      "source": [
        "<a href=\"https://colab.research.google.com/github/marinasb28/Python-Manuel/blob/main/Level_4.ipynb\" target=\"_parent\"><img src=\"https://colab.research.google.com/assets/colab-badge.svg\" alt=\"Open In Colab\"/></a>"
      ]
    },
    {
      "cell_type": "markdown",
      "metadata": {
        "id": "8t2TisN9plgQ"
      },
      "source": [
        "# <font color=\"magenta\">RETO 1: Los condicionales</font>"
      ]
    },
    {
      "cell_type": "markdown",
      "metadata": {
        "id": "cglw5HXYmtDI"
      },
      "source": [
        "Haz un programa que pide la edad al usuario \n",
        "y averigua si es mayor de edad.\n",
        "\n",
        "Utiliza una sentencia condicional \"if\""
      ]
    },
    {
      "cell_type": "code",
      "metadata": {
        "colab": {
          "base_uri": "https://localhost:8080/"
        },
        "id": "_0ksodTApvXR",
        "outputId": "bb9a708c-7a85-43a3-aea6-1c187c14f231"
      },
      "source": [
        "edad = int(input(\"Qué edad tienes? \"))\n",
        "if edad >= 18:\n",
        "  print(\"Eres mayor de edad.\")\n",
        "else:\n",
        "  print(\"No eres mayor de edad.\")"
      ],
      "execution_count": null,
      "outputs": [
        {
          "output_type": "stream",
          "text": [
            "Qué edad tienes? 17\n",
            "No eres mayor de edad.\n"
          ],
          "name": "stdout"
        }
      ]
    },
    {
      "cell_type": "markdown",
      "metadata": {
        "id": "eXx-oV-Hpljf"
      },
      "source": [
        "# <font color=\"magenta\">RETO 2: Poniendo más condiciones</font>"
      ]
    },
    {
      "cell_type": "markdown",
      "metadata": {
        "id": "KoHtf_zFqmKJ"
      },
      "source": [
        "Haz un programa que pida dos números que sumen 10 entre los dos.\n",
        "\n",
        "Si aciertas, que muestre: \"Has acertado\".\n",
        "Si no aciertas, que muestre: \"No has acertado\"."
      ]
    },
    {
      "cell_type": "code",
      "metadata": {
        "colab": {
          "base_uri": "https://localhost:8080/"
        },
        "id": "aDhIxb2bqeb5",
        "outputId": "1b5c3a1c-5e78-4333-af24-39816f3283ba"
      },
      "source": [
        "num1 = float(input(\"Enter 1st num: \"))\n",
        "num2 = float(input(\"Enter 2nd num: \"))\n",
        "suma = num1+num2\n",
        "if suma == 10:\n",
        "  print(\"Has acertado.\")\n",
        "else:\n",
        "  print(\"No has acertado.\")"
      ],
      "execution_count": null,
      "outputs": [
        {
          "output_type": "stream",
          "text": [
            "Enter 1st num: 5.5\n",
            "Enter 2nd num: 4.5\n",
            "Has acertado.\n"
          ],
          "name": "stdout"
        }
      ]
    },
    {
      "cell_type": "markdown",
      "metadata": {
        "id": "Z33FhbyFpljg"
      },
      "source": [
        "# <font color=\"magenta\">RETO 3: Estructura if/else en los condicionales</font>"
      ]
    },
    {
      "cell_type": "markdown",
      "metadata": {
        "id": "2J6Qe0KwrzVs"
      },
      "source": [
        "Haz un programa que pide dos números distintos\n",
        "al usuario y que dice cuál de ellos es el mayor.\n",
        "\n",
        "Intenta utilizar la estructura \"if-else\""
      ]
    },
    {
      "cell_type": "code",
      "metadata": {
        "colab": {
          "base_uri": "https://localhost:8080/"
        },
        "id": "a5Ryo-kyr0Yr",
        "outputId": "51d13abe-f6cb-4a9f-e1fd-999ba8afaf4c"
      },
      "source": [
        "num1 = int(input(\"Num 1: \"))\n",
        "num2 = int(input(\"Num 2: \"))\n",
        "if num1 > num2:\n",
        "  print(\"Num1, {} es el grande.\".format(num1))\n",
        "else:\n",
        "  print(\"Num2, {} es el grande.\".format(num2))"
      ],
      "execution_count": null,
      "outputs": [
        {
          "output_type": "stream",
          "text": [
            "Num 1: 10\n",
            "Num 2: 15\n",
            "Num2, 15 es el grande.\n"
          ],
          "name": "stdout"
        }
      ]
    },
    {
      "cell_type": "markdown",
      "metadata": {
        "id": "4BqsA3t3qrQY"
      },
      "source": [
        "# <font color=\"magenta\">RETO 4: Poniendo condicionales anidados</font>"
      ]
    },
    {
      "cell_type": "markdown",
      "metadata": {
        "id": "SdcCUfgEwEGo"
      },
      "source": [
        "Haz un programa que pide tu edad y la edad de un amigo,\n",
        "y dice cuál es mayor de los dos, o si teneis la misma edad.\n",
        "\n",
        "Empezar comprobando la condición de que las edades sean iguales.\n",
        "Utilizar condicionales anidados."
      ]
    },
    {
      "cell_type": "code",
      "metadata": {
        "colab": {
          "base_uri": "https://localhost:8080/"
        },
        "id": "BXno4kMVwDu7",
        "outputId": "9aec81c8-166d-4b0d-99cd-395fc8a7b1c7"
      },
      "source": [
        "edad1 = int(input(\"Enter la edad 1: \"))\n",
        "edad2 = int(input(\"Enter la edad 2: \"))\n",
        "if edad1 == edad2:\n",
        "  print(\"Son iguales.\")\n",
        "elif edad1 > edad2:\n",
        "  print(\"Edad 1 es la mayor.\")\n",
        "else:\n",
        "  print(\"Edad 2 es la mayor.\")"
      ],
      "execution_count": null,
      "outputs": [
        {
          "output_type": "stream",
          "text": [
            "Enter la edad 1: 13\n",
            "Enter la edad 2: 11\n",
            "Edad 1 es la mayor.\n"
          ],
          "name": "stdout"
        }
      ]
    },
    {
      "cell_type": "markdown",
      "metadata": {
        "id": "C7vWBGFgplmm"
      },
      "source": [
        "# <font color=\"magenta\">RETO 5: Estructura if/ elif /else</font>"
      ]
    },
    {
      "cell_type": "markdown",
      "metadata": {
        "id": "5Oh6m_ODkgtR"
      },
      "source": [
        "Haz un programa que simula una máquina de refrescos.\n",
        "\n",
        "La máquina dispone de 4 tipos de refrescos.\n",
        "\n",
        "\n",
        "Te pide el número de refresco que deseas entre el 1 y el 4.\n",
        "Te informa de tu elección."
      ]
    },
    {
      "cell_type": "code",
      "metadata": {
        "id": "oB5DgkyTkhoR",
        "colab": {
          "base_uri": "https://localhost:8080/"
        },
        "outputId": "4a984e11-7d83-41e9-8666-5d380b983953"
      },
      "source": [
        "fanta = 1\n",
        "cocacola = 2\n",
        "agua = 3\n",
        "redbull = 4\n",
        "print(\"1) Fanta\\r\\n2) CocaCola\\r\\n3) Agua\\r\\n4) Redbull\")\n",
        "option = int(input(\"Qué refresco quieres?\"))\n",
        "if option == 1:\n",
        "  print(\"Fanta\")\n",
        "elif option == 2:\n",
        "  print(\"CocaCola\")\n",
        "elif option == 3:\n",
        "  print(\"Agua\")\n",
        "else:\n",
        "  if option == 4:\n",
        "    print(\"Redbull\")\n",
        "  else:\n",
        "    print(\"No hay de este tipo.\")"
      ],
      "execution_count": null,
      "outputs": [
        {
          "output_type": "stream",
          "text": [
            "1) Fanta\r\n",
            "2) CocaCola\r\n",
            "3) Agua\r\n",
            "4) Redbull\n",
            "Qué refresco quieres?3\n",
            "Agua\n"
          ],
          "name": "stdout"
        }
      ]
    },
    {
      "cell_type": "markdown",
      "metadata": {
        "id": "8ZzIvcH2plpJ"
      },
      "source": [
        "# <font color=\"magenta\">RETO 6: Practicando los condicionales</font>"
      ]
    },
    {
      "cell_type": "markdown",
      "metadata": {
        "id": "FDruHJORraOE"
      },
      "source": [
        "Programa que pide la edad de una persona e informa de 4 posibilidades:\n",
        "\n",
        "* Si la edad es mayor o igual que 25: \"Es un adulto.\"\n",
        "* Si la edad es mayor o igual que 70: \"Es un anciano.\"\n",
        "* Si la edad es mayor o igual que 14: \"Es un joven.\"\n",
        "* Sino (si la edad es menor de 14): \"Es un niño.\"\n",
        "\n",
        "Ten en cuenta que hay que poner la condición más particular \n",
        "(o excluyente) al principio."
      ]
    },
    {
      "cell_type": "code",
      "metadata": {
        "id": "1-xsmYBLl5T0",
        "colab": {
          "base_uri": "https://localhost:8080/"
        },
        "outputId": "c93dfb0d-1a53-4a05-f85a-7e0818c29ec8"
      },
      "source": [
        "edad = int(input(\"Edad de la persona: \"))\n",
        "if edad >= 70:\n",
        "  print(\"Es un anciano.\")\n",
        "elif edad >= 25:\n",
        "  print(\"Es un adulto.\")\n",
        "elif edad >= 14:\n",
        "  print(\"Es un joven.\")\n",
        "else:\n",
        "  print(\"Es un niño.\")"
      ],
      "execution_count": null,
      "outputs": [
        {
          "output_type": "stream",
          "text": [
            "Edad de la persona: 13\n",
            "Es un niño.\n"
          ],
          "name": "stdout"
        }
      ]
    },
    {
      "cell_type": "markdown",
      "metadata": {
        "id": "_b7t5VaIplpK"
      },
      "source": [
        "# <font color=\"magenta\">RETO 7: Condicionales que se excluyen</font>"
      ]
    },
    {
      "cell_type": "markdown",
      "metadata": {
        "id": "w4ip8YIMnKTe"
      },
      "source": [
        "Programa que pide la edad de una persona e informa de 4 posibilidades:\n",
        "\n",
        "* Si la edad es mayor o igual que 25: \"Es un adulto.\"\n",
        "* Si la edad es mayor o igual que 70: \"Es un anciano.\"\n",
        "* Si la edad es mayor o igual que 14: \"Es un joven.\"\n",
        "* Sino (si la edad es menor de 14): \"Es un niño.\"\n",
        "\n",
        "Esta vez lo vamos a hacer empezando por la condición excluyente\n",
        "de ser el menor, y no de ser el más mayor como en el anterior reto."
      ]
    },
    {
      "cell_type": "code",
      "metadata": {
        "colab": {
          "base_uri": "https://localhost:8080/"
        },
        "id": "FsAnsuQVnQAW",
        "outputId": "9ed8b07d-8be8-4eb5-a58f-c902caaf37cf"
      },
      "source": [
        "edad = int(input(\"Edad de la persona: \"))\n",
        "\n",
        "if edad <14:\n",
        "  print(\"Es un niño.\")\n",
        "elif edad < 25:\n",
        "  print(\"Es un joven.\")\n",
        "elif edad < 70:\n",
        "  print(\"Es un adulto.\")\n",
        "else:\n",
        "  print(\"Es un anciano.\")"
      ],
      "execution_count": null,
      "outputs": [
        {
          "output_type": "stream",
          "text": [
            "Edad de la persona: 13\n",
            "Es un niño.\n"
          ],
          "name": "stdout"
        }
      ]
    },
    {
      "cell_type": "markdown",
      "metadata": {
        "id": "K_L5veOLplrq"
      },
      "source": [
        "# <font color=\"magenta\">RETO 8: La lógica de los operadores</font>"
      ]
    },
    {
      "cell_type": "markdown",
      "metadata": {
        "id": "CkzZNdE3oG5b"
      },
      "source": [
        "Intenta traducir esta expresión al lenguaje Python:\n",
        "\n",
        "8 es igual a 4 + 4 y a 4 * 2 y no a 4 * 4"
      ]
    },
    {
      "cell_type": "code",
      "metadata": {
        "colab": {
          "base_uri": "https://localhost:8080/"
        },
        "id": "LEi1G72toMiY",
        "outputId": "71dad8e1-cb4c-4d8e-f94c-92435c5312b2"
      },
      "source": [
        "8 == (4+4) and 8 ==(4*2) and not 8 ==(4*4)"
      ],
      "execution_count": null,
      "outputs": [
        {
          "output_type": "execute_result",
          "data": {
            "text/plain": [
              "True"
            ]
          },
          "metadata": {
            "tags": []
          },
          "execution_count": 7
        }
      ]
    },
    {
      "cell_type": "markdown",
      "metadata": {
        "id": "cHA1fFpeplrq"
      },
      "source": [
        "# <font color=\"magenta\">RETO 9: Conjuntando condiciones</font>"
      ]
    },
    {
      "cell_type": "markdown",
      "metadata": {
        "id": "gFyVYjO34asd"
      },
      "source": [
        "Hacer un programa que simula la entrada a una atracción en un parque\n",
        "de atracciones, y pide la altura en metros y el peso en kilos. \n",
        "\n",
        "Por seguridad\n",
        "para poder subir tienes que medir más de 1.3 metros o pesar más de 40.5 kilos,\n",
        "sino, no puedes subir.\n",
        "\n",
        "Usa el tipo float para la altura y el peso"
      ]
    },
    {
      "cell_type": "code",
      "metadata": {
        "colab": {
          "base_uri": "https://localhost:8080/"
        },
        "id": "rBcd6bxF5Rxd",
        "outputId": "7fa98ba2-0641-49ea-9a53-f22c2137bbcc"
      },
      "source": [
        "altura = float(input(\"Cuanto mides? \"))\n",
        "peso = float(input(\"Cuanto pesas? \"))\n",
        "if (altura > 1.3) or (peso >40.5):\n",
        "  print(\"Puedes subir a la atracción.\")\n",
        "else: \n",
        "  print(\"No puedes subir a la atracción.\")"
      ],
      "execution_count": 3,
      "outputs": [
        {
          "output_type": "stream",
          "text": [
            "Cuanto mides? 1.4\n",
            "Cuanto pesas? 30\n",
            "Puedes subir a la atracción.\n"
          ],
          "name": "stdout"
        }
      ]
    },
    {
      "cell_type": "markdown",
      "metadata": {
        "id": "0w8wnsqmplue"
      },
      "source": [
        "# <font color=\"magenta\">RETO 10: Una condición tras otra</font>"
      ]
    },
    {
      "cell_type": "markdown",
      "metadata": {
        "id": "lqL70Up9Fv2b"
      },
      "source": [
        "Se trata de mejorar el programa que simula la entrada a una atracción en un parque\n",
        "de atracciones, y pide la edad y el peso en kilos. \n",
        "\n",
        "Por seguridad para poder subir \n",
        "había que tener más de 12 años y pesar más de 45 kilos, sino, no se podía subir.\n",
        "\n",
        "Ahora se trata de comprobar primero la edad, y si se cumple compruebe el peso.\n",
        "\n",
        "\n",
        "Si no se cumple la edad, como se tienen que cumplir las dos condiciones, te diga\n",
        "simplemente que no se puede subir.\n",
        "\n",
        "Utiliza condicionales anidados."
      ]
    },
    {
      "cell_type": "code",
      "metadata": {
        "colab": {
          "base_uri": "https://localhost:8080/"
        },
        "id": "dKkLW3l5Fv2u",
        "outputId": "b9e22177-fbfe-4420-f76e-572391786438"
      },
      "source": [
        "edad = float(input(\"Cuantos años tienes? \"))\n",
        "if edad > 12:\n",
        "  peso = float(input(\"Cuanto pesas? \"))\n",
        "  if peso > 45:\n",
        "    print(\"Puedes subir a la atracción.\")\n",
        "  else: \n",
        "    print(\"No puedes subir a la atracción por tu peso.\")\n",
        "else: \n",
        "  print(\"No puedes subir a la atracción por tu edad.\")"
      ],
      "execution_count": 7,
      "outputs": [
        {
          "output_type": "stream",
          "text": [
            "Cuantos años tienes? 13\n",
            "Cuanto pesas? 46\n",
            "Puedes subir a la atracción.\n"
          ],
          "name": "stdout"
        }
      ]
    },
    {
      "cell_type": "markdown",
      "metadata": {
        "id": "BVHOjBgQGurA"
      },
      "source": [
        "# <font color=\"magenta\">RETO 11: Abreviando la condición</font>"
      ]
    },
    {
      "cell_type": "code",
      "metadata": {
        "colab": {
          "base_uri": "https://localhost:8080/"
        },
        "id": "_hxv13nUEZvZ",
        "outputId": "d28ca7f4-dd3e-4591-c4d7-2a62769745a0"
      },
      "source": [
        "if True:\n",
        "  print(\"Hola\")\n",
        "if \"casa\":\n",
        "  print(\"Casa\")"
      ],
      "execution_count": 9,
      "outputs": [
        {
          "output_type": "stream",
          "text": [
            "Hola\n",
            "Casa\n"
          ],
          "name": "stdout"
        }
      ]
    }
  ]
}