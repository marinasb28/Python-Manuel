{
  "nbformat": 4,
  "nbformat_minor": 0,
  "metadata": {
    "colab": {
      "name": "Level 11 - Completando huecos",
      "provenance": [],
      "collapsed_sections": [
        "8t2TisN9plgQ",
        "eXx-oV-Hpljf",
        "Z33FhbyFpljg",
        "4BqsA3t3qrQY",
        "C7vWBGFgplmm",
        "8ZzIvcH2plpJ",
        "_b7t5VaIplpK",
        "K_L5veOLplrq",
        "cHA1fFpeplrq",
        "0w8wnsqmplue"
      ],
      "authorship_tag": "ABX9TyOjAU3S/ftpwDwIVevOdund",
      "include_colab_link": true
    },
    "kernelspec": {
      "name": "python3",
      "display_name": "Python 3"
    }
  },
  "cells": [
    {
      "cell_type": "markdown",
      "metadata": {
        "id": "view-in-github",
        "colab_type": "text"
      },
      "source": [
        "<a href=\"https://colab.research.google.com/github/marinasb28/Python-Manuel/blob/main/Level_11_Completando_huecos.ipynb\" target=\"_parent\"><img src=\"https://colab.research.google.com/assets/colab-badge.svg\" alt=\"Open In Colab\"/></a>"
      ]
    },
    {
      "cell_type": "markdown",
      "metadata": {
        "id": "8t2TisN9plgQ"
      },
      "source": [
        "# <font color=\"magenta\">RETO 1: El tipo None + \"is\"</font>"
      ]
    },
    {
      "cell_type": "markdown",
      "metadata": {
        "id": "cglw5HXYmtDI"
      },
      "source": [
        "Lo usamos para definir variables sin valor inicial."
      ]
    },
    {
      "cell_type": "code",
      "metadata": {
        "colab": {
          "base_uri": "https://localhost:8080/"
        },
        "id": "_0ksodTApvXR",
        "outputId": "2506d6ac-e173-453c-c637-41a1ae36f1d6"
      },
      "source": [
        "option = None\n",
        "while option != 5:\n",
        "  option = int(input(\"Pon un número distinto a 5: \"))\n",
        "else:\n",
        "  print(\"Elegiste un 5.\")"
      ],
      "execution_count": null,
      "outputs": [
        {
          "output_type": "stream",
          "text": [
            "Pon un número distinto a 5: 1\n",
            "Pon un número distinto a 5: 2\n",
            "Pon un número distinto a 5: 3\n",
            "Pon un número distinto a 5: 4\n",
            "Pon un número distinto a 5: 5\n",
            "Elegiste un 5.\n"
          ],
          "name": "stdout"
        }
      ]
    },
    {
      "cell_type": "markdown",
      "metadata": {
        "id": "iSdYl-FzKODY"
      },
      "source": [
        "Tmb lo usamos con el operador \"is\", que compara las identidades"
      ]
    },
    {
      "cell_type": "code",
      "metadata": {
        "colab": {
          "base_uri": "https://localhost:8080/"
        },
        "id": "OMYI28yRKVCf",
        "outputId": "382f19c4-0064-47ea-ec27-4c0425e01edc"
      },
      "source": [
        "a = None\n",
        "b = None\n",
        "print(\"a == b -> {}\".format(a==b))\n",
        "print(\"a is b -> {}\".format(a is b))\n",
        "lista1 = [1,2,3]\n",
        "lista2 = [1,2,3]\n",
        "print(\"lista1 == lista2 -> {}\".format(lista1 == lista2))\n",
        "print(\"lista1 is lista2 -> {}\".format(lista1 is lista2))"
      ],
      "execution_count": null,
      "outputs": [
        {
          "output_type": "stream",
          "text": [
            "a == b -> True\n",
            "a is b -> True\n",
            "lista1 == lista2 -> True\n",
            "lista1 is lista2 -> False\n"
          ],
          "name": "stdout"
        }
      ]
    },
    {
      "cell_type": "code",
      "metadata": {
        "colab": {
          "base_uri": "https://localhost:8080/"
        },
        "id": "ZIWkGLuNLjIM",
        "outputId": "aac24f31-0c19-4bbb-b10a-82ceaf8562d0"
      },
      "source": [
        "option = None\n",
        "while option is None or option > 5:\n",
        "  option = int(input(\"Pon un número distinto a 5: \"))\n",
        "else:\n",
        "  print(\"Elegiste un número menor a 5.\")"
      ],
      "execution_count": null,
      "outputs": [
        {
          "output_type": "stream",
          "text": [
            "Pon un número distinto a 5: 6\n",
            "Pon un número distinto a 5: 7\n",
            "Pon un número distinto a 5: 3\n",
            "Elegiste un número menor a 5.\n"
          ],
          "name": "stdout"
        }
      ]
    },
    {
      "cell_type": "markdown",
      "metadata": {
        "id": "eXx-oV-Hpljf"
      },
      "source": [
        "# <font color=\"magenta\">RETO 2: Mejorando el código</font>"
      ]
    },
    {
      "cell_type": "markdown",
      "metadata": {
        "id": "KoHtf_zFqmKJ"
      },
      "source": [
        "Intenta mejorar la parte lógica del código, para no tener que utilizar\n",
        "tantas comparaciones. \n",
        "\n",
        "Quizás te pueda servir crear una variable a la que le des inicialmente el valor None."
      ]
    },
    {
      "cell_type": "code",
      "metadata": {
        "colab": {
          "base_uri": "https://localhost:8080/"
        },
        "id": "JPBiR9msL4fL",
        "outputId": "c7f06153-16f1-4a36-a002-a1ef6e8850a0"
      },
      "source": [
        "#primero pedimos los 7 números\n",
        "counter = 0\n",
        "lista = []\n",
        "while counter <=7:\n",
        "  num = int(input(\"Introduce un número: \"))\n",
        "  lista.append(num)\n",
        "  counter +=1\n",
        "max = lista[0]\n",
        "for x in range(len(lista)):\n",
        "  if lista[x] > max:\n",
        "    max = lista[x]\n",
        "print(max)"
      ],
      "execution_count": null,
      "outputs": [
        {
          "output_type": "stream",
          "text": [
            "Introduce un número: 4\n",
            "Introduce un número: 50\n",
            "Introduce un número: 1\n",
            "Introduce un número: 141341\n",
            "Introduce un número: 9\n",
            "Introduce un número: 1419414151\n",
            "Introduce un número: 5\n",
            "Introduce un número: 4\n",
            "1419414151\n"
          ],
          "name": "stdout"
        }
      ]
    },
    {
      "cell_type": "markdown",
      "metadata": {
        "id": "Z33FhbyFpljg"
      },
      "source": [
        "# <font color=\"magenta\">RETO 3: Usando el operador is</font>"
      ]
    },
    {
      "cell_type": "markdown",
      "metadata": {
        "id": "2J6Qe0KwrzVs"
      },
      "source": [
        "Intenta mejorar la parte del código en la que se pide los 7 números al usuario.\n",
        "\n",
        "Tendrás posiblemente que cambiar también la parte de la lógica del código.\n"
      ]
    },
    {
      "cell_type": "code",
      "metadata": {
        "colab": {
          "base_uri": "https://localhost:8080/"
        },
        "id": "a5Ryo-kyr0Yr",
        "outputId": "802fc51e-a3fd-4ae7-b73a-ec586ab65028"
      },
      "source": [
        "#primero pedimos los 7 números\n",
        "lista = []\n",
        "for x in range(7):\n",
        "  num = int(input(\"Introduce un número: \"))\n",
        "  lista.append(num)\n",
        "max = None\n",
        "for x in range(len(lista)):\n",
        "  if max is None:\n",
        "    max = lista[0]\n",
        "  if lista[x] > max:\n",
        "    max = lista[x]\n",
        "print(max)"
      ],
      "execution_count": null,
      "outputs": [
        {
          "output_type": "stream",
          "text": [
            "Introduce un número: 1\n",
            "Introduce un número: 2\n",
            "Introduce un número: 60\n",
            "Introduce un número: 30\n",
            "Introduce un número: 50\n",
            "Introduce un número: 70\n",
            "Introduce un número: 4\n",
            "70\n"
          ],
          "name": "stdout"
        }
      ]
    },
    {
      "cell_type": "markdown",
      "metadata": {
        "id": "4BqsA3t3qrQY"
      },
      "source": [
        "# <font color=\"magenta\">RETO 4: El número mayor</font>"
      ]
    },
    {
      "cell_type": "markdown",
      "metadata": {
        "id": "SdcCUfgEwEGo"
      },
      "source": [
        "Haz un programa que pide que tres jugadores introduzcan un número y hasta que\n",
        "los tres jugadores no han introducido un número continúa mostrando un menú\n",
        "en el que solicita que se introduzca el número para los tres jugadores."
      ]
    },
    {
      "cell_type": "code",
      "metadata": {
        "colab": {
          "base_uri": "https://localhost:8080/"
        },
        "id": "BXno4kMVwDu7",
        "outputId": "341e4230-47cf-400d-c448-e753181554fc"
      },
      "source": [
        "num1,num2,num3 = None,None,None\n",
        "while (num1 is None) or (num2 == None) or (num3 is None):\n",
        "  print(\"\\r\\tMENU\")\n",
        "  option = int(input(\"1-> jugador 1\\r\\n2-> jugador 2\\r\\n3-> jugador 3\\r\\nElige: \"))\n",
        "  if option == 1:\n",
        "    if num1 == None:\n",
        "      num1 = int(input(\"Escribe un número: \"))\n",
        "    else:\n",
        "      print(\"Jugador 1 ya ha elegido.\")\n",
        "  elif option == 2:\n",
        "    if num2 == None:\n",
        "      num2 = int(input(\"Escribe un número: \"))\n",
        "    else:\n",
        "      print(\"Jugador 2 ya ha elegido.\")\n",
        "  elif option == 3:\n",
        "    if num3 == None:\n",
        "      num3 = int(input(\"Escribe un número: \"))\n",
        "    else:\n",
        "      print(\"Jugador 3 ya ha elegido.\")\n",
        "print(\"Todos los jugadores tienen un número asignado.\")"
      ],
      "execution_count": null,
      "outputs": [
        {
          "output_type": "stream",
          "text": [
            "\tMENU\n",
            "1-> jugador 1\n",
            "2-> jugador 2\n",
            "3-> jugador 3\n",
            "Elige: 3\n",
            "Escribe un número: 4\n",
            "\tMENU\n",
            "1-> jugador 1\n",
            "2-> jugador 2\n",
            "3-> jugador 3\n",
            "Elige: 3\n",
            "Jugador 3 ya ha elegido.\n",
            "\tMENU\n",
            "1-> jugador 1\n",
            "2-> jugador 2\n",
            "3-> jugador 3\n",
            "Elige: 1\n",
            "Escribe un número: 40\n",
            "\tMENU\n",
            "1-> jugador 1\n",
            "2-> jugador 2\n",
            "3-> jugador 3\n",
            "Elige: 2\n",
            "Escribe un número: 90\n",
            "Todos los jugadores tienen un número asignado.\n"
          ],
          "name": "stdout"
        }
      ]
    },
    {
      "cell_type": "markdown",
      "metadata": {
        "id": "C7vWBGFgplmm"
      },
      "source": [
        "# <font color=\"magenta\">RETO 5: Esperando un valor</font>"
      ]
    },
    {
      "cell_type": "markdown",
      "metadata": {
        "id": "8ZzIvcH2plpJ"
      },
      "source": [
        "# <font color=\"magenta\">RETO 6: Más funciones predefinidas (tuple,list)</font>"
      ]
    },
    {
      "cell_type": "markdown",
      "metadata": {
        "id": "9abzl1-YRevb"
      },
      "source": [
        "1. Crea una lista vacía llamada \"letras\" (usando una función).\n",
        "2. Añade la letra \"a\" a esa lista (usando un método).\n",
        "3. Haz una copia de la lista (creando una lista distinta).\n",
        "4. Añade la letra \"b\" a la copia de la lista.\n",
        "5. Comprueba los elementos de las dos listas."
      ]
    },
    {
      "cell_type": "code",
      "metadata": {
        "colab": {
          "base_uri": "https://localhost:8080/"
        },
        "id": "GpwpKTVvRfQS",
        "outputId": "8ee3a7a9-bcf5-469b-be8b-16f3eda75d37"
      },
      "source": [
        "# Crea una lista vacía llamada \"letras\" (usando una función).\n",
        "letras = list()\n",
        "# Añade la letra \"a\" a esa lista (usando un método).\n",
        "letras.append(\"a\")\n",
        "print(letras)\n",
        "# Haz una copia de la lista (creando una lista distinta).\n",
        "letras2 = list(letras)\n",
        "print(letras2)\n",
        "# Añade la letra \"b\" a la copia de la lista.\n",
        "letras2.append(\"b\")\n",
        "print(letras2)"
      ],
      "execution_count": null,
      "outputs": [
        {
          "output_type": "stream",
          "text": [
            "['a']\n",
            "['a']\n",
            "['a', 'b']\n"
          ],
          "name": "stdout"
        }
      ]
    },
    {
      "cell_type": "markdown",
      "metadata": {
        "id": "_b7t5VaIplpK"
      },
      "source": [
        "# <font color=\"magenta\">RETO 7: Copiando una lista</font>"
      ]
    },
    {
      "cell_type": "markdown",
      "metadata": {
        "id": "w4ip8YIMnKTe"
      },
      "source": [
        "Crea una lista nueva que sea el reverso de la lista dada.\n",
        "Hay varias formas de hacerlo, intenta encontrar alguna forma para llevarlo a cabo.\n",
        "\n",
        "Puedes utilizar esta lista u otra que tú te inventes."
      ]
    },
    {
      "cell_type": "code",
      "metadata": {
        "id": "FsAnsuQVnQAW"
      },
      "source": [
        "numeros = [1,5,8,4,7,2,9]"
      ],
      "execution_count": null,
      "outputs": []
    },
    {
      "cell_type": "code",
      "metadata": {
        "colab": {
          "base_uri": "https://localhost:8080/"
        },
        "id": "kgNSyndtEFHs",
        "outputId": "91d80db9-8001-4c66-e4a9-2e9162f6f8d2"
      },
      "source": [
        "#forma 1\n",
        "reverso = list ()\n",
        "for x in range(len(numeros)):\n",
        "  reverso.append(numeros[len(numeros)-1-x])\n",
        "reverso"
      ],
      "execution_count": null,
      "outputs": [
        {
          "output_type": "execute_result",
          "data": {
            "text/plain": [
              "[9, 2, 7, 4, 8, 5, 1]"
            ]
          },
          "metadata": {
            "tags": []
          },
          "execution_count": 23
        }
      ]
    },
    {
      "cell_type": "code",
      "metadata": {
        "colab": {
          "base_uri": "https://localhost:8080/"
        },
        "id": "mfXDzJH9ElPc",
        "outputId": "9b3b401d-3d77-4e1e-8195-6bcf749bd29b"
      },
      "source": [
        "#forma 2\n",
        "reverso = list ()\n",
        "for x in numeros:\n",
        "  reverso = [x] + reverso\n",
        "reverso"
      ],
      "execution_count": null,
      "outputs": [
        {
          "output_type": "execute_result",
          "data": {
            "text/plain": [
              "[9, 2, 7, 4, 8, 5, 1]"
            ]
          },
          "metadata": {
            "tags": []
          },
          "execution_count": 24
        }
      ]
    },
    {
      "cell_type": "markdown",
      "metadata": {
        "id": "K_L5veOLplrq"
      },
      "source": [
        "# <font color=\"magenta\">RETO 8: Reverso de una lista</font>"
      ]
    },
    {
      "cell_type": "markdown",
      "metadata": {
        "id": "CkzZNdE3oG5b"
      },
      "source": [
        "Crea una lista nueva que sea el reverso de la lista dada. Pero esta vez\n",
        "utilizando el operador de indexación.\n",
        "\n",
        "Puedes utilizar esta lista u otra que tú te inventes.\n",
        "\n"
      ]
    },
    {
      "cell_type": "code",
      "metadata": {
        "id": "LEi1G72toMiY"
      },
      "source": [
        "numeros = [1,5,8,4,7,2,9]"
      ],
      "execution_count": null,
      "outputs": []
    },
    {
      "cell_type": "code",
      "metadata": {
        "colab": {
          "base_uri": "https://localhost:8080/"
        },
        "id": "UjaO1qvuFBpN",
        "outputId": "ef19c4d4-86c4-40bf-ceef-67163ef47343"
      },
      "source": [
        "#forma 3\n",
        "reverso = numeros[::-1]\n",
        "reverso"
      ],
      "execution_count": null,
      "outputs": [
        {
          "output_type": "execute_result",
          "data": {
            "text/plain": [
              "[9, 2, 7, 4, 8, 5, 1]"
            ]
          },
          "metadata": {
            "tags": []
          },
          "execution_count": 26
        }
      ]
    },
    {
      "cell_type": "markdown",
      "metadata": {
        "id": "cHA1fFpeplrq"
      },
      "source": [
        "# <font color=\"magenta\">RETO 9: Operador de indexación</font>"
      ]
    },
    {
      "cell_type": "markdown",
      "metadata": {
        "id": "gFyVYjO34asd"
      },
      "source": [
        "Crea una lista \"cuenta_adelante\" que contenga los elementos de la lista\n",
        "\"cuenta_atras\", pero en orden inverso. \n",
        "\n",
        "Se trata de hacerlo utilizando el método reverse()"
      ]
    },
    {
      "cell_type": "code",
      "metadata": {
        "colab": {
          "base_uri": "https://localhost:8080/"
        },
        "id": "rBcd6bxF5Rxd",
        "outputId": "4960f5ea-3693-4116-96fe-abd084af2548"
      },
      "source": [
        "cuenta_atras = [10,9,8,7,6,5,4,3,2,1,0]\n",
        "cuenta_adelante = list (cuenta_atras)\n",
        "cuenta_adelante.reverse()\n",
        "print(cuenta_adelante)"
      ],
      "execution_count": null,
      "outputs": [
        {
          "output_type": "stream",
          "text": [
            "[0, 1, 2, 3, 4, 5, 6, 7, 8, 9, 10]\n"
          ],
          "name": "stdout"
        }
      ]
    },
    {
      "cell_type": "markdown",
      "metadata": {
        "id": "0w8wnsqmplue"
      },
      "source": [
        "# <font color=\"magenta\">RETO 10: Ordenando listas (función sorted y método sort </font>"
      ]
    },
    {
      "cell_type": "markdown",
      "metadata": {
        "id": "8WLwWI6DHBAU"
      },
      "source": [
        "Ordenamos las edades de menor a mayor"
      ]
    },
    {
      "cell_type": "code",
      "metadata": {
        "colab": {
          "base_uri": "https://localhost:8080/"
        },
        "id": "JzHiiRUlHBaV",
        "outputId": "928506e7-0124-4705-cb5d-53f8601978e8"
      },
      "source": [
        "edades = [12,18,42,21,24,13,21,35,17,23]\n",
        "edades.sort()\n",
        "edades"
      ],
      "execution_count": null,
      "outputs": [
        {
          "output_type": "execute_result",
          "data": {
            "text/plain": [
              "[12, 13, 17, 18, 21, 21, 23, 24, 35, 42]"
            ]
          },
          "metadata": {
            "tags": []
          },
          "execution_count": 40
        }
      ]
    },
    {
      "cell_type": "markdown",
      "metadata": {
        "id": "gJ7V5_oKHOUT"
      },
      "source": [
        "Ahora de mayor a menor"
      ]
    },
    {
      "cell_type": "code",
      "metadata": {
        "colab": {
          "base_uri": "https://localhost:8080/"
        },
        "id": "a9IMjE6kHP6h",
        "outputId": "884c3bb2-938a-4108-cfd8-e769387fcca1"
      },
      "source": [
        "edades.sort(reverse=True)\n",
        "edades"
      ],
      "execution_count": null,
      "outputs": [
        {
          "output_type": "execute_result",
          "data": {
            "text/plain": [
              "[42, 35, 24, 23, 21, 21, 18, 17, 13, 12]"
            ]
          },
          "metadata": {
            "tags": []
          },
          "execution_count": 41
        }
      ]
    },
    {
      "cell_type": "markdown",
      "metadata": {
        "id": "DEwSafmuHci0"
      },
      "source": [
        "Para no perder la lista"
      ]
    },
    {
      "cell_type": "code",
      "metadata": {
        "colab": {
          "base_uri": "https://localhost:8080/"
        },
        "id": "e04ZXAEkHcI6",
        "outputId": "83f906da-194d-4685-d054-1503b793f81c"
      },
      "source": [
        "edades = [12,18,42,21,24,13,21,35,17,23]\n",
        "edades_ord = sorted(edades,reverse=True) #true de mayor a menor, false de menor a mayor\n",
        "edades_ord"
      ],
      "execution_count": null,
      "outputs": [
        {
          "output_type": "execute_result",
          "data": {
            "text/plain": [
              "[42, 35, 24, 23, 21, 21, 18, 17, 13, 12]"
            ]
          },
          "metadata": {
            "tags": []
          },
          "execution_count": 46
        }
      ]
    },
    {
      "cell_type": "markdown",
      "metadata": {
        "id": "H082LqABGKcJ"
      },
      "source": [
        "# <font color=\"magenta\">RETO 11: Eligiendo contraseña</font>"
      ]
    },
    {
      "cell_type": "markdown",
      "metadata": {
        "id": "hxz-HZL3GKcN"
      },
      "source": [
        "Haz un programa en el que haya que elegir una contraseña. La contrasseña ha de tener:\n",
        "*  Entre 8 y 15 caracteres\n",
        "* 1 mayúscula y 1 minússcula\n",
        "* 1 dígito\n",
        "* 1 carácter especial: @,$,%,&\n",
        "\n",
        "Habrá 5 intentos de establecer la contraseña, después de cada intento se indicará la causa del fallo y al final del quinto intento se indicará que no ha sido posible establecer la contraseña\n"
      ]
    },
    {
      "cell_type": "code",
      "metadata": {
        "colab": {
          "base_uri": "https://localhost:8080/"
        },
        "id": "7FRxdo4YIa6r",
        "outputId": "238d38eb-04bf-4c00-8c24-296e5eeaaf13"
      },
      "source": [
        "valid_password = False\n",
        "intentos = 5\n",
        "while (not valid_password) and (intentos > 0): #puesto que la contraseña no es la correcta\n",
        "  length = False\n",
        "  counter = 0\n",
        "  mayus = False\n",
        "  minus = False\n",
        "  digit = False\n",
        "  special = False\n",
        "  password = input(\"Introduce una contraseña: \")\n",
        "  for x in password:\n",
        "    counter += 1\n",
        "    if 'a'<=x<='z':\n",
        "      minus = True\n",
        "    elif 'A'<=x<='Z':\n",
        "      mayus = True \n",
        "    elif '0'<=x<='9':\n",
        "      digit = True \n",
        "    elif x == \"@\" or x==\"$\" or x==\"%\" or x==\"&\":\n",
        "      special = True \n",
        "  if 8<=counter<=15:\n",
        "    print(\"Correct length.\")\n",
        "\n",
        "    if mayus == False:\n",
        "      print(\"Falta una mayúscula.\")\n",
        "    elif minus == False:\n",
        "      print(\"Falta una minúscula.\")\n",
        "    elif digit == False:\n",
        "      print(\"Falta un dígito.\")\n",
        "    elif special == False:\n",
        "      print(\"Falta un carácter especial.\")\n",
        "    else:\n",
        "      valid_password = True\n",
        "      print(\"OLEE\")\n",
        "      break\n",
        "  else:\n",
        "    print(\"Wrong length.\")\n",
        "    intentos -= 1\n",
        "    print(\"Keep trying, {} intentos\".format(intentos))\n",
        "else:\n",
        "  print(\"No ha sido posible establecer la contraseña\")"
      ],
      "execution_count": null,
      "outputs": [
        {
          "output_type": "stream",
          "text": [
            "Introduce una contraseña: marina01\n",
            "Correct length.\n",
            "Falta una mayúscula.\n",
            "Introduce una contraseña: marina\n",
            "Wrong length.\n",
            "Keep trying, 4 intentos\n",
            "Introduce una contraseña: marina0\n",
            "Wrong length.\n",
            "Keep trying, 3 intentos\n",
            "Introduce una contraseña: m\n",
            "Wrong length.\n",
            "Keep trying, 2 intentos\n",
            "Introduce una contraseña: f\n",
            "Wrong length.\n",
            "Keep trying, 1 intentos\n",
            "Introduce una contraseña: a\n",
            "Wrong length.\n",
            "Keep trying, 0 intentos\n",
            "No ha sido posible establecer la contraseña\n"
          ],
          "name": "stdout"
        }
      ]
    }
  ]
}