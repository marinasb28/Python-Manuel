{
  "nbformat": 4,
  "nbformat_minor": 0,
  "metadata": {
    "colab": {
      "name": "Level 3",
      "provenance": [],
      "authorship_tag": "ABX9TyNYlYsgsrw7TeZdQrtVLuSK",
      "include_colab_link": true
    },
    "kernelspec": {
      "name": "python3",
      "display_name": "Python 3"
    }
  },
  "cells": [
    {
      "cell_type": "markdown",
      "metadata": {
        "id": "view-in-github",
        "colab_type": "text"
      },
      "source": [
        "<a href=\"https://colab.research.google.com/github/marinasb28/Python-Manuel/blob/main/Level_3.ipynb\" target=\"_parent\"><img src=\"https://colab.research.google.com/assets/colab-badge.svg\" alt=\"Open In Colab\"/></a>"
      ]
    },
    {
      "cell_type": "markdown",
      "metadata": {
        "id": "8t2TisN9plgQ"
      },
      "source": [
        "# <font color=\"magenta\">RETO 1: También existen las palabras</font>"
      ]
    },
    {
      "cell_type": "markdown",
      "metadata": {
        "id": "cglw5HXYmtDI"
      },
      "source": [
        "Trata de adivinar qué es cada una de estas lineas:\n",
        "Si una cadena de caracteres, un valor numérico u otro tipo de elemento de Python.\n",
        " \n",
        "a) \"hola\"\n",
        "\n",
        "b)\"2 * 2\"\n",
        "\n",
        "c)\" \"\n",
        "\n",
        "d)12345\n",
        "\n",
        "e) saludo\n",
        "\n",
        "f) 'True'\n",
        "\n",
        "g)'2 + 2 == 4'\n",
        "\n",
        "Introdúcelas en el IDLE de Python para comprobar qué devuelven."
      ]
    },
    {
      "cell_type": "code",
      "metadata": {
        "colab": {
          "base_uri": "https://localhost:8080/"
        },
        "id": "_0ksodTApvXR",
        "outputId": "f6aa97e1-3407-48b0-d639-7f0e0d67023b"
      },
      "source": [
        "type(\"hola\") # string"
      ],
      "execution_count": 27,
      "outputs": [
        {
          "output_type": "execute_result",
          "data": {
            "text/plain": [
              "str"
            ]
          },
          "metadata": {
            "tags": []
          },
          "execution_count": 27
        }
      ]
    },
    {
      "cell_type": "code",
      "metadata": {
        "colab": {
          "base_uri": "https://localhost:8080/"
        },
        "id": "klwWcuZ9r7KF",
        "outputId": "3c2cfe9e-9f30-4e10-9639-d5117f0be1cd"
      },
      "source": [
        "type(\"2*2\")"
      ],
      "execution_count": 28,
      "outputs": [
        {
          "output_type": "execute_result",
          "data": {
            "text/plain": [
              "str"
            ]
          },
          "metadata": {
            "tags": []
          },
          "execution_count": 28
        }
      ]
    },
    {
      "cell_type": "code",
      "metadata": {
        "colab": {
          "base_uri": "https://localhost:8080/"
        },
        "id": "ewDhwdxcr8c4",
        "outputId": "d2993b4c-4bd3-4c3a-cd67-50330f13c599"
      },
      "source": [
        " type(\"\")"
      ],
      "execution_count": 29,
      "outputs": [
        {
          "output_type": "execute_result",
          "data": {
            "text/plain": [
              "str"
            ]
          },
          "metadata": {
            "tags": []
          },
          "execution_count": 29
        }
      ]
    },
    {
      "cell_type": "code",
      "metadata": {
        "colab": {
          "base_uri": "https://localhost:8080/"
        },
        "id": "Y6AyPdasr_iT",
        "outputId": "4d0c42f5-2951-4f9d-c61c-029b5b33d0ff"
      },
      "source": [
        "type(12345) #int"
      ],
      "execution_count": 30,
      "outputs": [
        {
          "output_type": "execute_result",
          "data": {
            "text/plain": [
              "int"
            ]
          },
          "metadata": {
            "tags": []
          },
          "execution_count": 30
        }
      ]
    },
    {
      "cell_type": "code",
      "metadata": {
        "colab": {
          "base_uri": "https://localhost:8080/"
        },
        "id": "VlBh1c33sA7L",
        "outputId": "67ac90ba-c399-4f41-9891-7470545c3dc4"
      },
      "source": [
        "# type(saludo) #da error\n",
        "type('True') #string"
      ],
      "execution_count": 31,
      "outputs": [
        {
          "output_type": "execute_result",
          "data": {
            "text/plain": [
              "str"
            ]
          },
          "metadata": {
            "tags": []
          },
          "execution_count": 31
        }
      ]
    },
    {
      "cell_type": "code",
      "metadata": {
        "colab": {
          "base_uri": "https://localhost:8080/"
        },
        "id": "pmZgbMLJsDhj",
        "outputId": "bc0582f2-7753-4a21-a1de-a79335c96b96"
      },
      "source": [
        "type(True) # bool"
      ],
      "execution_count": 32,
      "outputs": [
        {
          "output_type": "execute_result",
          "data": {
            "text/plain": [
              "bool"
            ]
          },
          "metadata": {
            "tags": []
          },
          "execution_count": 32
        }
      ]
    },
    {
      "cell_type": "code",
      "metadata": {
        "colab": {
          "base_uri": "https://localhost:8080/"
        },
        "id": "mkD83DnrsFF3",
        "outputId": "c253a207-a467-46c0-ed87-68c268bfb49a"
      },
      "source": [
        "type('2+2 == 4') #string"
      ],
      "execution_count": 33,
      "outputs": [
        {
          "output_type": "execute_result",
          "data": {
            "text/plain": [
              "str"
            ]
          },
          "metadata": {
            "tags": []
          },
          "execution_count": 33
        }
      ]
    },
    {
      "cell_type": "markdown",
      "metadata": {
        "id": "eXx-oV-Hpljf"
      },
      "source": [
        "# <font color=\"magenta\">RETO 2: Operando con cadena de caracteres</font>"
      ]
    },
    {
      "cell_type": "markdown",
      "metadata": {
        "id": "KoHtf_zFqmKJ"
      },
      "source": [
        "Trata de adivinar qué resultado obtienes si introduces estas lineas de código\n",
        "en el IDLE de Python.\n",
        "\n",
        "\"* \" * 5 + \"+\" + \" *\" * 5\n",
        "\n",
        "\"a\" + \"b\" + \"c\" menor que \"acb\"\n",
        "\n",
        "(Cambia el 'menor que' por su signo)\n",
        "\n",
        "Comprueba luego en el IDLE de Python si has acertado."
      ]
    },
    {
      "cell_type": "code",
      "metadata": {
        "colab": {
          "base_uri": "https://localhost:8080/"
        },
        "id": "aDhIxb2bqeb5",
        "outputId": "c04b5df5-263a-432b-9d4c-7a576a5136bf"
      },
      "source": [
        "print(\"* \" * 5 + \"+\" + \" *\" * 5) #imprimirá 5 veces *, un + y de nuevo 5 *\n",
        "print(\"a\" + \"b\" + \"c\" < \"acb\") # al ir al b antes que la c, la b tiene un número menor"
      ],
      "execution_count": 34,
      "outputs": [
        {
          "output_type": "stream",
          "text": [
            "* * * * * + * * * * *\n",
            "True\n"
          ],
          "name": "stdout"
        }
      ]
    },
    {
      "cell_type": "markdown",
      "metadata": {
        "id": "Z33FhbyFpljg"
      },
      "source": [
        "# <font color=\"magenta\">RETO 3: Mostrando texto</font>"
      ]
    },
    {
      "cell_type": "markdown",
      "metadata": {
        "id": "2J6Qe0KwrzVs"
      },
      "source": [
        "Abre el editor de texto del IDLE de Python, guárdalo con un nombre,\n",
        "y con la extensión de los programas de Python: \".py\", y en ese archivo\n",
        "haz un programa que muestre en pantalla la frase \"Hola Mundo\".\n",
        "Luego comprueba que al ejecutarlo se muestra esta frase."
      ]
    },
    {
      "cell_type": "code",
      "metadata": {
        "colab": {
          "base_uri": "https://localhost:8080/"
        },
        "id": "a5Ryo-kyr0Yr",
        "outputId": "164eb052-e7b3-4eb7-f497-5eec8cd08dcd"
      },
      "source": [
        "print(\"Hola mundo\")"
      ],
      "execution_count": 35,
      "outputs": [
        {
          "output_type": "stream",
          "text": [
            "Hola mundo\n"
          ],
          "name": "stdout"
        }
      ]
    },
    {
      "cell_type": "markdown",
      "metadata": {
        "id": "4BqsA3t3qrQY"
      },
      "source": [
        "# <font color=\"magenta\">RETO 4: La función print</font>"
      ]
    },
    {
      "cell_type": "markdown",
      "metadata": {
        "id": "SdcCUfgEwEGo"
      },
      "source": [
        "Crea dos variables para guardar un nombre y un apellido, y luego muéstralas por pantalla de tal forma que aparezca: \"Me llamo 'Nombre' 'Apellido'. Hazlo de dos formas, usando dos sentencias \"print\". La primera usando el signo +, y la segundo con la coma."
      ]
    },
    {
      "cell_type": "code",
      "metadata": {
        "colab": {
          "base_uri": "https://localhost:8080/"
        },
        "id": "BXno4kMVwDu7",
        "outputId": "3a0228ab-3e77-46b4-9d10-0d3426b6af4f"
      },
      "source": [
        "nombre = \"Marina\"\n",
        "apellido = \"Suarez\"\n",
        "print(\"Me llamo {} {}\".format(nombre,apellido))\n",
        "print(\"Me llamo\",nombre+apellido)"
      ],
      "execution_count": 36,
      "outputs": [
        {
          "output_type": "stream",
          "text": [
            "Me llamo Marina Suarez\n",
            "Me llamo MarinaSuarez\n"
          ],
          "name": "stdout"
        }
      ]
    },
    {
      "cell_type": "markdown",
      "metadata": {
        "id": "C7vWBGFgplmm"
      },
      "source": [
        "# <font color=\"magenta\">RETO 5: Tipo de datos</font>"
      ]
    },
    {
      "cell_type": "markdown",
      "metadata": {
        "id": "5Oh6m_ODkgtR"
      },
      "source": [
        "Estas dos sentencias 'print' dan error.\n",
        "\n",
        "print(\"2 + 2 = \" + 2+2)\n",
        "\n",
        "print(\"2 + 2 =\", 2 + \"2\")\n",
        "\n",
        "Se trata de utilizar las funciones predefinidas int() y str() para que no den error, y que como resultado muestren en pantalla: 2 + 2 = 4"
      ]
    },
    {
      "cell_type": "code",
      "metadata": {
        "id": "oB5DgkyTkhoR",
        "colab": {
          "base_uri": "https://localhost:8080/"
        },
        "outputId": "1041f6cf-c98d-4cd5-c9b8-9eb2838c76db"
      },
      "source": [
        "print(\"2 + 2 = \" + str(int(2+2)))\n",
        "\n",
        "print(\"2 + 2 =\", 2 + int(\"2\"))"
      ],
      "execution_count": 37,
      "outputs": [
        {
          "output_type": "stream",
          "text": [
            "2 + 2 = 4\n",
            "2 + 2 = 4\n"
          ],
          "name": "stdout"
        }
      ]
    },
    {
      "cell_type": "markdown",
      "metadata": {
        "id": "8ZzIvcH2plpJ"
      },
      "source": [
        "# <font color=\"magenta\">RETO 6: Más datos</font>"
      ]
    },
    {
      "cell_type": "markdown",
      "metadata": {
        "id": "9NkR220YwZLp"
      },
      "source": [
        "Elige un nombre para una variable que guarde la capacidad de daño\n",
        "en el ataque de un personaje de un juego:\n",
        "\n",
        "daño,d,Ataque,número_ataque,capacidadAtaque,ataque\n",
        "\n",
        "De los 6 nombres, 5 no siguen la convención y sólo uno la sigue."
      ]
    },
    {
      "cell_type": "code",
      "metadata": {
        "id": "1-xsmYBLl5T0"
      },
      "source": [
        "# ataque"
      ],
      "execution_count": 38,
      "outputs": []
    },
    {
      "cell_type": "markdown",
      "metadata": {
        "id": "_b7t5VaIplpK"
      },
      "source": [
        "# <font color=\"magenta\">RETO 7: Introduciendo datos</font>"
      ]
    },
    {
      "cell_type": "markdown",
      "metadata": {
        "id": "w4ip8YIMnKTe"
      },
      "source": [
        "Lleva a cabo las siguientes asignaciones y comparaciones y adivina el valor de la variable aula_completa en los dos casos siguientes:\n",
        "\n",
        "* alumnos = 30\n",
        "* sillas = 50\n",
        "* aula_completa = alumnos == sillas\n",
        "* aula_completa\n",
        "\n",
        "* nuevos_alumnos = 20\n",
        "* alumnos = alumnos + nuevos_alumnos\n",
        "* aula_completa = alumnos == sillas\n",
        "* aula_completa"
      ]
    },
    {
      "cell_type": "code",
      "metadata": {
        "colab": {
          "base_uri": "https://localhost:8080/"
        },
        "id": "FsAnsuQVnQAW",
        "outputId": "3c48b305-2520-4f8f-ee47-fdda0c0a7036"
      },
      "source": [
        "alumnos = 30\n",
        "sillas = 50\n",
        "aula_completa = alumnos == sillas # aula = False\n",
        "print(aula_completa)\n",
        "nuevos_alumnos = 20\n",
        "alumnos = alumnos + nuevos_alumnos\n",
        "aula_completa = alumnos == sillas # aula = True\n",
        "print(aula_completa)"
      ],
      "execution_count": 39,
      "outputs": [
        {
          "output_type": "stream",
          "text": [
            "False\n",
            "True\n"
          ],
          "name": "stdout"
        }
      ]
    },
    {
      "cell_type": "markdown",
      "metadata": {
        "id": "K_L5veOLplrq"
      },
      "source": [
        "# <font color=\"magenta\">RETO 8: Convirtiendo datos</font>"
      ]
    },
    {
      "cell_type": "markdown",
      "metadata": {
        "id": "CkzZNdE3oG5b"
      },
      "source": [
        "En un juego hay que conseguir 100 puntos entre los 2 niveles de que consta:\n",
        "\n",
        "En el nivel 1 tenemos 48 puntos, en el nivel 2 tenemos 62 puntos.\n",
        "\n",
        "Calcula los puntos conseguidos en el juego (y guarda el resultado en una variable).\n",
        "\n",
        "Crea otra variable cuyo valor sea el resultado de comparar si los puntos totales\n",
        "conseguidos son mayor o igual que los puntos a conseguir.\n",
        "Muestra su valor por pantalla.\n"
      ]
    },
    {
      "cell_type": "code",
      "metadata": {
        "colab": {
          "base_uri": "https://localhost:8080/"
        },
        "id": "LEi1G72toMiY",
        "outputId": "ddc08b97-1044-4150-e1b1-80eeca8496e9"
      },
      "source": [
        "total = 100 # total d puntos que se deben conseguir\n",
        "level_1 = 48\n",
        "level_2 = 62\n",
        "resultado = (level_1+level_2) >= total\n",
        "print(resultado)"
      ],
      "execution_count": 40,
      "outputs": [
        {
          "output_type": "stream",
          "text": [
            "True\n"
          ],
          "name": "stdout"
        }
      ]
    },
    {
      "cell_type": "markdown",
      "metadata": {
        "id": "cHA1fFpeplrq"
      },
      "source": [
        "# <font color=\"magenta\">RETO 9: Eligiendo tipo de datos</font>"
      ]
    },
    {
      "cell_type": "markdown",
      "metadata": {
        "id": "gFyVYjO34asd"
      },
      "source": [
        "Nos dan un dato: 3 días.\n",
        "\n",
        "Convierte este dato a horas y luego a minutos, y almacena\n",
        "cada uno de los datos en una variable."
      ]
    },
    {
      "cell_type": "code",
      "metadata": {
        "colab": {
          "base_uri": "https://localhost:8080/"
        },
        "id": "rBcd6bxF5Rxd",
        "outputId": "f523178d-0120-4f39-843a-76cb463b6c09"
      },
      "source": [
        "dia = 3\n",
        "horas_dia = 24\n",
        "r1 = 3*24\n",
        "r2 = r1*60\n",
        "print(\"{} días tienen {}h y {}min.\".format(dia,r1,r2))"
      ],
      "execution_count": 41,
      "outputs": [
        {
          "output_type": "stream",
          "text": [
            "3 días tienen 72h y 4320min.\n"
          ],
          "name": "stdout"
        }
      ]
    },
    {
      "cell_type": "markdown",
      "metadata": {
        "id": "0w8wnsqmplue"
      },
      "source": [
        "# <font color=\"magenta\">RETO 10: Comentarios</font>"
      ]
    },
    {
      "cell_type": "markdown",
      "metadata": {
        "id": "_cj40zY15qQ5"
      },
      "source": [
        "Tenemos dos variables:\n",
        "\n",
        "juan = 200\n",
        "\n",
        "maria = 15\n",
        "\n",
        "Intenta cambiar el valor de una variable por el valor de la otra,\n",
        "sin declararlas de nuevo, sino cogiendo el valor de la otra."
      ]
    },
    {
      "cell_type": "code",
      "metadata": {
        "colab": {
          "base_uri": "https://localhost:8080/"
        },
        "id": "0Eab5dM95nQN",
        "outputId": "7be645e4-6aa0-4078-dbf0-665b1b60701d"
      },
      "source": [
        "#declaramos las variables originales\n",
        "juan , maria = 200,13\n",
        "print(\"Antes de: juan = {} & maria = {}\".format(juan,maria))\n",
        "cambio = maria # guardamos el valor de maria\n",
        "maria = juan # ahora maria vale lo que juan\n",
        "juan = cambio\n",
        "print(\"Ahora: juan = {} & maria = {}\".format(juan,maria))"
      ],
      "execution_count": 42,
      "outputs": [
        {
          "output_type": "stream",
          "text": [
            "Antes de: juan = 200 & maria = 13\n",
            "Ahora: juan = 13 & maria = 200\n"
          ],
          "name": "stdout"
        }
      ]
    }
  ]
}