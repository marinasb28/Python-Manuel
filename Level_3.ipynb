{
  "nbformat": 4,
  "nbformat_minor": 0,
  "metadata": {
    "colab": {
      "name": "Level 3",
      "provenance": [],
      "authorship_tag": "ABX9TyNRp895FSJfZ1xD5oz66+rn",
      "include_colab_link": true
    },
    "kernelspec": {
      "name": "python3",
      "display_name": "Python 3"
    }
  },
  "cells": [
    {
      "cell_type": "markdown",
      "metadata": {
        "id": "view-in-github",
        "colab_type": "text"
      },
      "source": [
        "<a href=\"https://colab.research.google.com/github/marinasb28/Python-Manuel/blob/main/Level_3.ipynb\" target=\"_parent\"><img src=\"https://colab.research.google.com/assets/colab-badge.svg\" alt=\"Open In Colab\"/></a>"
      ]
    },
    {
      "cell_type": "markdown",
      "metadata": {
        "id": "8t2TisN9plgQ"
      },
      "source": [
        "# <font color=\"magenta\">RETO 1: También existen las palabras</font>"
      ]
    },
    {
      "cell_type": "markdown",
      "metadata": {
        "id": "cglw5HXYmtDI"
      },
      "source": [
        "Trata de adivinar qué es cada una de estas lineas:\n",
        "Si una cadena de caracteres, un valor numérico u otro tipo de elemento de Python.\n",
        " \n",
        "a) \"hola\"\n",
        "\n",
        "b)\"2 * 2\"\n",
        "\n",
        "c)\" \"\n",
        "\n",
        "d)12345\n",
        "\n",
        "e) saludo\n",
        "\n",
        "f) 'True'\n",
        "\n",
        "g)'2 + 2 == 4'\n",
        "\n",
        "Introdúcelas en el IDLE de Python para comprobar qué devuelven."
      ]
    },
    {
      "cell_type": "code",
      "metadata": {
        "colab": {
          "base_uri": "https://localhost:8080/"
        },
        "id": "_0ksodTApvXR",
        "outputId": "f6aa97e1-3407-48b0-d639-7f0e0d67023b"
      },
      "source": [
        "type(\"hola\") # string"
      ],
      "execution_count": 27,
      "outputs": [
        {
          "output_type": "execute_result",
          "data": {
            "text/plain": [
              "str"
            ]
          },
          "metadata": {
            "tags": []
          },
          "execution_count": 27
        }
      ]
    },
    {
      "cell_type": "code",
      "metadata": {
        "colab": {
          "base_uri": "https://localhost:8080/"
        },
        "id": "klwWcuZ9r7KF",
        "outputId": "3c2cfe9e-9f30-4e10-9639-d5117f0be1cd"
      },
      "source": [
        "type(\"2*2\")"
      ],
      "execution_count": 28,
      "outputs": [
        {
          "output_type": "execute_result",
          "data": {
            "text/plain": [
              "str"
            ]
          },
          "metadata": {
            "tags": []
          },
          "execution_count": 28
        }
      ]
    },
    {
      "cell_type": "code",
      "metadata": {
        "colab": {
          "base_uri": "https://localhost:8080/"
        },
        "id": "ewDhwdxcr8c4",
        "outputId": "d2993b4c-4bd3-4c3a-cd67-50330f13c599"
      },
      "source": [
        " type(\"\")"
      ],
      "execution_count": 29,
      "outputs": [
        {
          "output_type": "execute_result",
          "data": {
            "text/plain": [
              "str"
            ]
          },
          "metadata": {
            "tags": []
          },
          "execution_count": 29
        }
      ]
    },
    {
      "cell_type": "code",
      "metadata": {
        "colab": {
          "base_uri": "https://localhost:8080/"
        },
        "id": "Y6AyPdasr_iT",
        "outputId": "4d0c42f5-2951-4f9d-c61c-029b5b33d0ff"
      },
      "source": [
        "type(12345) #int"
      ],
      "execution_count": 30,
      "outputs": [
        {
          "output_type": "execute_result",
          "data": {
            "text/plain": [
              "int"
            ]
          },
          "metadata": {
            "tags": []
          },
          "execution_count": 30
        }
      ]
    },
    {
      "cell_type": "code",
      "metadata": {
        "colab": {
          "base_uri": "https://localhost:8080/"
        },
        "id": "VlBh1c33sA7L",
        "outputId": "67ac90ba-c399-4f41-9891-7470545c3dc4"
      },
      "source": [
        "# type(saludo) #da error\n",
        "type('True') #string"
      ],
      "execution_count": 31,
      "outputs": [
        {
          "output_type": "execute_result",
          "data": {
            "text/plain": [
              "str"
            ]
          },
          "metadata": {
            "tags": []
          },
          "execution_count": 31
        }
      ]
    },
    {
      "cell_type": "code",
      "metadata": {
        "colab": {
          "base_uri": "https://localhost:8080/"
        },
        "id": "pmZgbMLJsDhj",
        "outputId": "bc0582f2-7753-4a21-a1de-a79335c96b96"
      },
      "source": [
        "type(True) # bool"
      ],
      "execution_count": 32,
      "outputs": [
        {
          "output_type": "execute_result",
          "data": {
            "text/plain": [
              "bool"
            ]
          },
          "metadata": {
            "tags": []
          },
          "execution_count": 32
        }
      ]
    },
    {
      "cell_type": "code",
      "metadata": {
        "colab": {
          "base_uri": "https://localhost:8080/"
        },
        "id": "mkD83DnrsFF3",
        "outputId": "c253a207-a467-46c0-ed87-68c268bfb49a"
      },
      "source": [
        "type('2+2 == 4') #string"
      ],
      "execution_count": 33,
      "outputs": [
        {
          "output_type": "execute_result",
          "data": {
            "text/plain": [
              "str"
            ]
          },
          "metadata": {
            "tags": []
          },
          "execution_count": 33
        }
      ]
    },
    {
      "cell_type": "markdown",
      "metadata": {
        "id": "eXx-oV-Hpljf"
      },
      "source": [
        "# <font color=\"magenta\">RETO 2: Operando con cadena de caracteres</font>"
      ]
    },
    {
      "cell_type": "markdown",
      "metadata": {
        "id": "KoHtf_zFqmKJ"
      },
      "source": [
        "Trata de adivinar qué resultado obtienes si introduces estas lineas de código\n",
        "en el IDLE de Python.\n",
        "\n",
        "\"* \" * 5 + \"+\" + \" *\" * 5\n",
        "\n",
        "\"a\" + \"b\" + \"c\" menor que \"acb\"\n",
        "\n",
        "(Cambia el 'menor que' por su signo)\n",
        "\n",
        "Comprueba luego en el IDLE de Python si has acertado."
      ]
    },
    {
      "cell_type": "code",
      "metadata": {
        "colab": {
          "base_uri": "https://localhost:8080/"
        },
        "id": "aDhIxb2bqeb5",
        "outputId": "c04b5df5-263a-432b-9d4c-7a576a5136bf"
      },
      "source": [
        "print(\"* \" * 5 + \"+\" + \" *\" * 5) #imprimirá 5 veces *, un + y de nuevo 5 *\n",
        "print(\"a\" + \"b\" + \"c\" < \"acb\") # al ir al b antes que la c, la b tiene un número menor"
      ],
      "execution_count": 34,
      "outputs": [
        {
          "output_type": "stream",
          "text": [
            "* * * * * + * * * * *\n",
            "True\n"
          ],
          "name": "stdout"
        }
      ]
    },
    {
      "cell_type": "markdown",
      "metadata": {
        "id": "Z33FhbyFpljg"
      },
      "source": [
        "# <font color=\"magenta\">RETO 3: Mostrando texto</font>"
      ]
    },
    {
      "cell_type": "markdown",
      "metadata": {
        "id": "2J6Qe0KwrzVs"
      },
      "source": [
        "Abre el editor de texto del IDLE de Python, guárdalo con un nombre,\n",
        "y con la extensión de los programas de Python: \".py\", y en ese archivo\n",
        "haz un programa que muestre en pantalla la frase \"Hola Mundo\".\n",
        "Luego comprueba que al ejecutarlo se muestra esta frase."
      ]
    },
    {
      "cell_type": "code",
      "metadata": {
        "colab": {
          "base_uri": "https://localhost:8080/"
        },
        "id": "a5Ryo-kyr0Yr",
        "outputId": "164eb052-e7b3-4eb7-f497-5eec8cd08dcd"
      },
      "source": [
        "print(\"Hola mundo\")"
      ],
      "execution_count": 35,
      "outputs": [
        {
          "output_type": "stream",
          "text": [
            "Hola mundo\n"
          ],
          "name": "stdout"
        }
      ]
    },
    {
      "cell_type": "markdown",
      "metadata": {
        "id": "4BqsA3t3qrQY"
      },
      "source": [
        "# <font color=\"magenta\">RETO 4: La función print</font>"
      ]
    },
    {
      "cell_type": "markdown",
      "metadata": {
        "id": "SdcCUfgEwEGo"
      },
      "source": [
        "Crea dos variables para guardar un nombre y un apellido, y luego muéstralas por pantalla de tal forma que aparezca: \"Me llamo 'Nombre' 'Apellido'. Hazlo de dos formas, usando dos sentencias \"print\". La primera usando el signo +, y la segundo con la coma."
      ]
    },
    {
      "cell_type": "code",
      "metadata": {
        "colab": {
          "base_uri": "https://localhost:8080/"
        },
        "id": "BXno4kMVwDu7",
        "outputId": "3a0228ab-3e77-46b4-9d10-0d3426b6af4f"
      },
      "source": [
        "nombre = \"Marina\"\n",
        "apellido = \"Suarez\"\n",
        "print(\"Me llamo {} {}\".format(nombre,apellido))\n",
        "print(\"Me llamo\",nombre+apellido)"
      ],
      "execution_count": 36,
      "outputs": [
        {
          "output_type": "stream",
          "text": [
            "Me llamo Marina Suarez\n",
            "Me llamo MarinaSuarez\n"
          ],
          "name": "stdout"
        }
      ]
    },
    {
      "cell_type": "markdown",
      "metadata": {
        "id": "C7vWBGFgplmm"
      },
      "source": [
        "# <font color=\"magenta\">RETO 5: Tipo de datos</font>"
      ]
    },
    {
      "cell_type": "markdown",
      "metadata": {
        "id": "5Oh6m_ODkgtR"
      },
      "source": [
        "Estas dos sentencias 'print' dan error.\n",
        "\n",
        "print(\"2 + 2 = \" + 2+2)\n",
        "\n",
        "print(\"2 + 2 =\", 2 + \"2\")\n",
        "\n",
        "Se trata de utilizar las funciones predefinidas int() y str() para que no den error, y que como resultado muestren en pantalla: 2 + 2 = 4"
      ]
    },
    {
      "cell_type": "code",
      "metadata": {
        "id": "oB5DgkyTkhoR",
        "colab": {
          "base_uri": "https://localhost:8080/"
        },
        "outputId": "1041f6cf-c98d-4cd5-c9b8-9eb2838c76db"
      },
      "source": [
        "print(\"2 + 2 = \" + str(int(2+2)))\n",
        "\n",
        "print(\"2 + 2 =\", 2 + int(\"2\"))"
      ],
      "execution_count": 37,
      "outputs": [
        {
          "output_type": "stream",
          "text": [
            "2 + 2 = 4\n",
            "2 + 2 = 4\n"
          ],
          "name": "stdout"
        }
      ]
    },
    {
      "cell_type": "markdown",
      "metadata": {
        "id": "8ZzIvcH2plpJ"
      },
      "source": [
        "# <font color=\"magenta\">RETO 6: Más datos</font>"
      ]
    },
    {
      "cell_type": "code",
      "metadata": {
        "id": "1-xsmYBLl5T0",
        "colab": {
          "base_uri": "https://localhost:8080/"
        },
        "outputId": "9e9c5b4c-c5de-445c-b9e5-97f096e99193"
      },
      "source": [
        "print(float(2))\n",
        "print(int(2.5))"
      ],
      "execution_count": 1,
      "outputs": [
        {
          "output_type": "stream",
          "text": [
            "2.0\n",
            "2\n"
          ],
          "name": "stdout"
        }
      ]
    },
    {
      "cell_type": "markdown",
      "metadata": {
        "id": "_b7t5VaIplpK"
      },
      "source": [
        "# <font color=\"magenta\">RETO 7: Introduciendo datos</font>"
      ]
    },
    {
      "cell_type": "markdown",
      "metadata": {
        "id": "w4ip8YIMnKTe"
      },
      "source": [
        "Abre el editor y crea un programa que pregunte cómo te llamas y guarde la información en una variable 'nombre', y que pregunte de dónde eres y guarde la información en otra variable 'ciudad', y luego muestre con dos 'print' las frases:\n",
        "\n",
        "\"Hola, 'nombre', de 'ciudad'.\n",
        "\n",
        "\"Encantado de conocerte.\""
      ]
    },
    {
      "cell_type": "code",
      "metadata": {
        "colab": {
          "base_uri": "https://localhost:8080/"
        },
        "id": "FsAnsuQVnQAW",
        "outputId": "6a0af320-84af-4fc1-c3bb-3e0d6ab809d6"
      },
      "source": [
        "nombre = input(\"Cómo te llamas? \")\n",
        "ubi = input(\"De dnd eres? \")\n",
        "print(\"Me llamo {} y soy de {}.\".format(nombre,ubi))"
      ],
      "execution_count": 2,
      "outputs": [
        {
          "output_type": "stream",
          "text": [
            "Cómo te llamas? Marina\n",
            "De dnd eres? Don Benito\n",
            "Me llamo Marina y soy de Don Benito.\n"
          ],
          "name": "stdout"
        }
      ]
    },
    {
      "cell_type": "markdown",
      "metadata": {
        "id": "K_L5veOLplrq"
      },
      "source": [
        "# <font color=\"magenta\">RETO 8: Convirtiendo datos</font>"
      ]
    },
    {
      "cell_type": "markdown",
      "metadata": {
        "id": "CkzZNdE3oG5b"
      },
      "source": [
        "Haz un programa que calcule el año en el que has nacido.\n",
        "\n",
        "Pide el año en el que estamos.\n",
        "\n",
        "Pide cuántos años tienes o vas a cumplir este año.\n",
        "\n",
        "Calcula el año en el que has nacido.\n",
        "\n",
        "Muestra el resultado con un 'print'"
      ]
    },
    {
      "cell_type": "code",
      "metadata": {
        "colab": {
          "base_uri": "https://localhost:8080/"
        },
        "id": "LEi1G72toMiY",
        "outputId": "a11b1a31-d7cd-470a-c0f9-b6034e03f6f4"
      },
      "source": [
        "present = int(input(\"En qué año estamos? \"))\n",
        "my_age = int(input(\"Cuantos años tienes? \"))\n",
        "result = present-my_age\n",
        "print(\"Es {} y tienes {} años, por lo que naciste en el {}.\".format(present,my_age,result))"
      ],
      "execution_count": 3,
      "outputs": [
        {
          "output_type": "stream",
          "text": [
            "En qué año estamos? 2021\n",
            "Cuantos años tienes? 20\n",
            "Es 2021 y tienes 20 años, por lo que naciste en el 2001.\n"
          ],
          "name": "stdout"
        }
      ]
    },
    {
      "cell_type": "markdown",
      "metadata": {
        "id": "cHA1fFpeplrq"
      },
      "source": [
        "# <font color=\"magenta\">RETO 9: Eligiendo tipo de datos</font>"
      ]
    },
    {
      "cell_type": "markdown",
      "metadata": {
        "id": "gFyVYjO34asd"
      },
      "source": [
        "Hacer un programa que pida tres notas y calcule la nota media.\n",
        "\n",
        "Utiliza el tipo \"float\" y conviértelo a tipo \"str\" para \n",
        "mostrar el resultado con el operador de concatenación \"+\""
      ]
    },
    {
      "cell_type": "code",
      "metadata": {
        "colab": {
          "base_uri": "https://localhost:8080/"
        },
        "id": "rBcd6bxF5Rxd",
        "outputId": "b9b4a388-dc95-478d-e56b-17afeb14be5e"
      },
      "source": [
        "nota1 = float(input(\"Qué nota has sacado? \"))\n",
        "nota2 = float(input(\"Qué nota has sacado? \"))\n",
        "nota3 = float(input(\"Qué nota has sacado? \"))\n",
        "total = nota1+nota2+nota3\n",
        "result = total/3\n",
        "print(\"Las notas son: {},{} y {}. La media es de {}.\".format(nota1,nota2,nota3,round(result,2)))"
      ],
      "execution_count": 5,
      "outputs": [
        {
          "output_type": "stream",
          "text": [
            "Qué nota has sacado? 5\n",
            "Qué nota has sacado? 10\n",
            "Qué nota has sacado? 3\n",
            "Las notas son: 5.0,10.0 y 3.0. La media es de 6.0.\n"
          ],
          "name": "stdout"
        }
      ]
    },
    {
      "cell_type": "markdown",
      "metadata": {
        "id": "0w8wnsqmplue"
      },
      "source": [
        "# <font color=\"magenta\">RETO 10: Comentarios</font>"
      ]
    },
    {
      "cell_type": "markdown",
      "metadata": {
        "id": "lqL70Up9Fv2b"
      },
      "source": [
        "Hacer un programa que pida tres notas y calcule la nota media.\n",
        "\n",
        "Utiliza el tipo \"float\" y conviértelo a tipo \"str\" para \n",
        "mostrar el resultado con el operador de concatenación \"+\""
      ]
    },
    {
      "cell_type": "code",
      "metadata": {
        "colab": {
          "base_uri": "https://localhost:8080/"
        },
        "id": "dKkLW3l5Fv2u",
        "outputId": "b9b4a388-dc95-478d-e56b-17afeb14be5e"
      },
      "source": [
        "# primero preguntamos todas las notas\n",
        "nota1 = float(input(\"Qué nota has sacado? \"))\n",
        "nota2 = float(input(\"Qué nota has sacado? \"))\n",
        "nota3 = float(input(\"Qué nota has sacado? \"))\n",
        "total = nota1+nota2+nota3 # calculamos el total\n",
        "result = total/3 # calculamos la media\n",
        "# enseñamos por pantalla lo obtenido\n",
        "print(\"Las notas son: {},{} y {}. La media es de {}.\".format(nota1,nota2,nota3,round(result,2)))"
      ],
      "execution_count": null,
      "outputs": [
        {
          "output_type": "stream",
          "text": [
            "Qué nota has sacado? 5\n",
            "Qué nota has sacado? 10\n",
            "Qué nota has sacado? 3\n",
            "Las notas son: 5.0,10.0 y 3.0. La media es de 6.0.\n"
          ],
          "name": "stdout"
        }
      ]
    }
  ]
}